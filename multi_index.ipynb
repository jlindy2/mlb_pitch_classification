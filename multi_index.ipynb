{
 "cells": [
  {
   "cell_type": "markdown",
   "metadata": {},
   "source": [
    "# Import Libraries"
   ]
  },
  {
   "cell_type": "code",
   "execution_count": 1,
   "metadata": {
    "jupyter": {
     "source_hidden": true
    }
   },
   "outputs": [],
   "source": [
    "import pandas as pd\n",
    "import numpy as np\n",
    "import matplotlib.pyplot as plt\n",
    "%matplotlib inline\n",
    "import seaborn as sns\n",
    "from scipy import stats\n",
    "\n",
    "## Data Processing\n",
    "from sklearn.decomposition import PCA\n",
    "from sklearn.preprocessing import StandardScaler\n",
    "\n",
    "## Data Modeling\n",
    "from sklearn.model_selection import train_test_split, GridSearchCV, cross_val_score\n",
    "from sklearn.pipeline import Pipeline\n",
    "\n",
    "## Machine Learning Algos\n",
    "from sklearn.linear_model import LogisticRegression\n",
    "from sklearn.naive_bayes import GaussianNB\n",
    "from sklearn.neighbors import KNeighborsClassifier\n",
    "from sklearn.tree import DecisionTreeClassifier\n",
    "from sklearn.ensemble import RandomForestClassifier, AdaBoostClassifier, GradientBoostingClassifier\n",
    "from sklearn.svm import SVC\n",
    "import xgboost as xgb\n",
    "\n",
    "##\n",
    "from sklearn.metrics import accuracy_score, precision_score, recall_score,f1_score, confusion_matrix, multilabel_confusion_matrix, classification_report"
   ]
  },
  {
   "cell_type": "markdown",
   "metadata": {},
   "source": [
    "# Import data"
   ]
  },
  {
   "cell_type": "code",
   "execution_count": 2,
   "metadata": {},
   "outputs": [],
   "source": [
    "#create dataframe from CSV\n",
    "\n",
    "df = pd.read_csv(\"pitches.csv.zip\")"
   ]
  },
  {
   "cell_type": "markdown",
   "metadata": {},
   "source": [
    "# Data Cleaning"
   ]
  },
  {
   "cell_type": "code",
   "execution_count": 3,
   "metadata": {
    "collapsed": true,
    "jupyter": {
     "outputs_hidden": true
    }
   },
   "outputs": [
    {
     "data": {
      "text/html": [
       "<div>\n",
       "<style scoped>\n",
       "    .dataframe tbody tr th:only-of-type {\n",
       "        vertical-align: middle;\n",
       "    }\n",
       "\n",
       "    .dataframe tbody tr th {\n",
       "        vertical-align: top;\n",
       "    }\n",
       "\n",
       "    .dataframe thead th {\n",
       "        text-align: right;\n",
       "    }\n",
       "</style>\n",
       "<table border=\"1\" class=\"dataframe\">\n",
       "  <thead>\n",
       "    <tr style=\"text-align: right;\">\n",
       "      <th></th>\n",
       "      <th>px</th>\n",
       "      <th>pz</th>\n",
       "      <th>start_speed</th>\n",
       "      <th>end_speed</th>\n",
       "      <th>spin_rate</th>\n",
       "      <th>spin_dir</th>\n",
       "      <th>break_angle</th>\n",
       "      <th>break_length</th>\n",
       "      <th>break_y</th>\n",
       "      <th>ax</th>\n",
       "      <th>...</th>\n",
       "      <th>event_num</th>\n",
       "      <th>b_score</th>\n",
       "      <th>ab_id</th>\n",
       "      <th>b_count</th>\n",
       "      <th>s_count</th>\n",
       "      <th>outs</th>\n",
       "      <th>pitch_num</th>\n",
       "      <th>on_1b</th>\n",
       "      <th>on_2b</th>\n",
       "      <th>on_3b</th>\n",
       "    </tr>\n",
       "  </thead>\n",
       "  <tbody>\n",
       "    <tr>\n",
       "      <td>0</td>\n",
       "      <td>0.416</td>\n",
       "      <td>2.963</td>\n",
       "      <td>92.9</td>\n",
       "      <td>84.1</td>\n",
       "      <td>2305.052</td>\n",
       "      <td>159.235</td>\n",
       "      <td>-25.0</td>\n",
       "      <td>3.2</td>\n",
       "      <td>23.7</td>\n",
       "      <td>7.665</td>\n",
       "      <td>...</td>\n",
       "      <td>3</td>\n",
       "      <td>0.0</td>\n",
       "      <td>2.015000e+09</td>\n",
       "      <td>0.0</td>\n",
       "      <td>0.0</td>\n",
       "      <td>0.0</td>\n",
       "      <td>1.0</td>\n",
       "      <td>0.0</td>\n",
       "      <td>0.0</td>\n",
       "      <td>0.0</td>\n",
       "    </tr>\n",
       "    <tr>\n",
       "      <td>1</td>\n",
       "      <td>-0.191</td>\n",
       "      <td>2.347</td>\n",
       "      <td>92.8</td>\n",
       "      <td>84.1</td>\n",
       "      <td>2689.935</td>\n",
       "      <td>151.402</td>\n",
       "      <td>-40.7</td>\n",
       "      <td>3.4</td>\n",
       "      <td>23.7</td>\n",
       "      <td>12.043</td>\n",
       "      <td>...</td>\n",
       "      <td>4</td>\n",
       "      <td>0.0</td>\n",
       "      <td>2.015000e+09</td>\n",
       "      <td>0.0</td>\n",
       "      <td>1.0</td>\n",
       "      <td>0.0</td>\n",
       "      <td>2.0</td>\n",
       "      <td>0.0</td>\n",
       "      <td>0.0</td>\n",
       "      <td>0.0</td>\n",
       "    </tr>\n",
       "    <tr>\n",
       "      <td>2</td>\n",
       "      <td>-0.518</td>\n",
       "      <td>3.284</td>\n",
       "      <td>94.1</td>\n",
       "      <td>85.2</td>\n",
       "      <td>2647.972</td>\n",
       "      <td>145.125</td>\n",
       "      <td>-43.7</td>\n",
       "      <td>3.7</td>\n",
       "      <td>23.7</td>\n",
       "      <td>14.368</td>\n",
       "      <td>...</td>\n",
       "      <td>5</td>\n",
       "      <td>0.0</td>\n",
       "      <td>2.015000e+09</td>\n",
       "      <td>0.0</td>\n",
       "      <td>2.0</td>\n",
       "      <td>0.0</td>\n",
       "      <td>3.0</td>\n",
       "      <td>0.0</td>\n",
       "      <td>0.0</td>\n",
       "      <td>0.0</td>\n",
       "    </tr>\n",
       "    <tr>\n",
       "      <td>3</td>\n",
       "      <td>-0.641</td>\n",
       "      <td>1.221</td>\n",
       "      <td>91.0</td>\n",
       "      <td>84.0</td>\n",
       "      <td>1289.590</td>\n",
       "      <td>169.751</td>\n",
       "      <td>-1.3</td>\n",
       "      <td>5.0</td>\n",
       "      <td>23.8</td>\n",
       "      <td>2.104</td>\n",
       "      <td>...</td>\n",
       "      <td>6</td>\n",
       "      <td>0.0</td>\n",
       "      <td>2.015000e+09</td>\n",
       "      <td>0.0</td>\n",
       "      <td>2.0</td>\n",
       "      <td>0.0</td>\n",
       "      <td>4.0</td>\n",
       "      <td>0.0</td>\n",
       "      <td>0.0</td>\n",
       "      <td>0.0</td>\n",
       "    </tr>\n",
       "    <tr>\n",
       "      <td>4</td>\n",
       "      <td>-1.821</td>\n",
       "      <td>2.083</td>\n",
       "      <td>75.4</td>\n",
       "      <td>69.6</td>\n",
       "      <td>1374.569</td>\n",
       "      <td>280.671</td>\n",
       "      <td>18.4</td>\n",
       "      <td>12.0</td>\n",
       "      <td>23.8</td>\n",
       "      <td>-10.280</td>\n",
       "      <td>...</td>\n",
       "      <td>7</td>\n",
       "      <td>0.0</td>\n",
       "      <td>2.015000e+09</td>\n",
       "      <td>1.0</td>\n",
       "      <td>2.0</td>\n",
       "      <td>0.0</td>\n",
       "      <td>5.0</td>\n",
       "      <td>0.0</td>\n",
       "      <td>0.0</td>\n",
       "      <td>0.0</td>\n",
       "    </tr>\n",
       "  </tbody>\n",
       "</table>\n",
       "<p>5 rows × 40 columns</p>\n",
       "</div>"
      ],
      "text/plain": [
       "      px     pz  start_speed  end_speed  spin_rate  spin_dir  break_angle  \\\n",
       "0  0.416  2.963         92.9       84.1   2305.052   159.235        -25.0   \n",
       "1 -0.191  2.347         92.8       84.1   2689.935   151.402        -40.7   \n",
       "2 -0.518  3.284         94.1       85.2   2647.972   145.125        -43.7   \n",
       "3 -0.641  1.221         91.0       84.0   1289.590   169.751         -1.3   \n",
       "4 -1.821  2.083         75.4       69.6   1374.569   280.671         18.4   \n",
       "\n",
       "   break_length  break_y      ax  ...  event_num  b_score         ab_id  \\\n",
       "0           3.2     23.7   7.665  ...          3      0.0  2.015000e+09   \n",
       "1           3.4     23.7  12.043  ...          4      0.0  2.015000e+09   \n",
       "2           3.7     23.7  14.368  ...          5      0.0  2.015000e+09   \n",
       "3           5.0     23.8   2.104  ...          6      0.0  2.015000e+09   \n",
       "4          12.0     23.8 -10.280  ...          7      0.0  2.015000e+09   \n",
       "\n",
       "   b_count  s_count  outs  pitch_num  on_1b  on_2b  on_3b  \n",
       "0      0.0      0.0   0.0        1.0    0.0    0.0    0.0  \n",
       "1      0.0      1.0   0.0        2.0    0.0    0.0    0.0  \n",
       "2      0.0      2.0   0.0        3.0    0.0    0.0    0.0  \n",
       "3      0.0      2.0   0.0        4.0    0.0    0.0    0.0  \n",
       "4      1.0      2.0   0.0        5.0    0.0    0.0    0.0  \n",
       "\n",
       "[5 rows x 40 columns]"
      ]
     },
     "execution_count": 3,
     "metadata": {},
     "output_type": "execute_result"
    }
   ],
   "source": [
    "df.head()"
   ]
  },
  {
   "cell_type": "code",
   "execution_count": 4,
   "metadata": {},
   "outputs": [
    {
     "data": {
      "text/plain": [
       "(2867154, 40)"
      ]
     },
     "execution_count": 4,
     "metadata": {},
     "output_type": "execute_result"
    }
   ],
   "source": [
    "df.shape"
   ]
  },
  {
   "cell_type": "code",
   "execution_count": 5,
   "metadata": {
    "collapsed": true,
    "jupyter": {
     "outputs_hidden": true
    }
   },
   "outputs": [
    {
     "name": "stdout",
     "output_type": "stream",
     "text": [
      "<class 'pandas.core.frame.DataFrame'>\n",
      "RangeIndex: 2867154 entries, 0 to 2867153\n",
      "Data columns (total 40 columns):\n",
      "px                 float64\n",
      "pz                 float64\n",
      "start_speed        float64\n",
      "end_speed          float64\n",
      "spin_rate          float64\n",
      "spin_dir           float64\n",
      "break_angle        float64\n",
      "break_length       float64\n",
      "break_y            float64\n",
      "ax                 float64\n",
      "ay                 float64\n",
      "az                 float64\n",
      "sz_bot             float64\n",
      "sz_top             float64\n",
      "type_confidence    float64\n",
      "vx0                float64\n",
      "vy0                float64\n",
      "vz0                float64\n",
      "x                  float64\n",
      "x0                 float64\n",
      "y                  float64\n",
      "y0                 float64\n",
      "z0                 float64\n",
      "pfx_x              float64\n",
      "pfx_z              float64\n",
      "nasty              float64\n",
      "zone               float64\n",
      "code               object\n",
      "type               object\n",
      "pitch_type         object\n",
      "event_num          int64\n",
      "b_score            float64\n",
      "ab_id              float64\n",
      "b_count            float64\n",
      "s_count            float64\n",
      "outs               float64\n",
      "pitch_num          float64\n",
      "on_1b              float64\n",
      "on_2b              float64\n",
      "on_3b              float64\n",
      "dtypes: float64(36), int64(1), object(3)\n",
      "memory usage: 875.0+ MB\n"
     ]
    }
   ],
   "source": [
    "df.info()"
   ]
  },
  {
   "cell_type": "code",
   "execution_count": 6,
   "metadata": {
    "collapsed": true,
    "jupyter": {
     "outputs_hidden": true
    }
   },
   "outputs": [
    {
     "data": {
      "text/html": [
       "<div>\n",
       "<style scoped>\n",
       "    .dataframe tbody tr th:only-of-type {\n",
       "        vertical-align: middle;\n",
       "    }\n",
       "\n",
       "    .dataframe tbody tr th {\n",
       "        vertical-align: top;\n",
       "    }\n",
       "\n",
       "    .dataframe thead th {\n",
       "        text-align: right;\n",
       "    }\n",
       "</style>\n",
       "<table border=\"1\" class=\"dataframe\">\n",
       "  <thead>\n",
       "    <tr style=\"text-align: right;\">\n",
       "      <th></th>\n",
       "      <th>px</th>\n",
       "      <th>pz</th>\n",
       "      <th>start_speed</th>\n",
       "      <th>end_speed</th>\n",
       "      <th>spin_rate</th>\n",
       "      <th>spin_dir</th>\n",
       "      <th>break_angle</th>\n",
       "      <th>break_length</th>\n",
       "      <th>break_y</th>\n",
       "      <th>ax</th>\n",
       "      <th>...</th>\n",
       "      <th>event_num</th>\n",
       "      <th>b_score</th>\n",
       "      <th>ab_id</th>\n",
       "      <th>b_count</th>\n",
       "      <th>s_count</th>\n",
       "      <th>outs</th>\n",
       "      <th>pitch_num</th>\n",
       "      <th>on_1b</th>\n",
       "      <th>on_2b</th>\n",
       "      <th>on_3b</th>\n",
       "    </tr>\n",
       "  </thead>\n",
       "  <tbody>\n",
       "    <tr>\n",
       "      <td>count</td>\n",
       "      <td>2.852965e+06</td>\n",
       "      <td>2.852965e+06</td>\n",
       "      <td>2.853040e+06</td>\n",
       "      <td>2.853040e+06</td>\n",
       "      <td>2.852965e+06</td>\n",
       "      <td>2.852965e+06</td>\n",
       "      <td>2.852965e+06</td>\n",
       "      <td>2.852965e+06</td>\n",
       "      <td>2.852965e+06</td>\n",
       "      <td>2.852965e+06</td>\n",
       "      <td>...</td>\n",
       "      <td>2.867154e+06</td>\n",
       "      <td>2.867154e+06</td>\n",
       "      <td>2.867154e+06</td>\n",
       "      <td>2.867154e+06</td>\n",
       "      <td>2.867154e+06</td>\n",
       "      <td>2.867154e+06</td>\n",
       "      <td>2.867154e+06</td>\n",
       "      <td>2.867154e+06</td>\n",
       "      <td>2.867154e+06</td>\n",
       "      <td>2.867154e+06</td>\n",
       "    </tr>\n",
       "    <tr>\n",
       "      <td>mean</td>\n",
       "      <td>6.572502e-03</td>\n",
       "      <td>2.254962e+00</td>\n",
       "      <td>8.838124e+01</td>\n",
       "      <td>8.136274e+01</td>\n",
       "      <td>1.731173e+03</td>\n",
       "      <td>1.802308e+02</td>\n",
       "      <td>5.848084e+00</td>\n",
       "      <td>6.601459e+00</td>\n",
       "      <td>2.381685e+01</td>\n",
       "      <td>-2.308512e+00</td>\n",
       "      <td>...</td>\n",
       "      <td>3.129711e+02</td>\n",
       "      <td>2.256608e+00</td>\n",
       "      <td>2.016606e+09</td>\n",
       "      <td>8.824259e-01</td>\n",
       "      <td>8.810873e-01</td>\n",
       "      <td>9.826033e-01</td>\n",
       "      <td>2.894472e+00</td>\n",
       "      <td>3.018314e-01</td>\n",
       "      <td>1.860451e-01</td>\n",
       "      <td>9.595543e-02</td>\n",
       "    </tr>\n",
       "    <tr>\n",
       "      <td>std</td>\n",
       "      <td>8.927490e-01</td>\n",
       "      <td>9.463968e-01</td>\n",
       "      <td>6.015540e+00</td>\n",
       "      <td>5.364057e+00</td>\n",
       "      <td>6.827521e+02</td>\n",
       "      <td>6.742859e+01</td>\n",
       "      <td>2.443621e+01</td>\n",
       "      <td>1.331708e+02</td>\n",
       "      <td>6.446540e-02</td>\n",
       "      <td>1.074066e+01</td>\n",
       "      <td>...</td>\n",
       "      <td>1.928482e+02</td>\n",
       "      <td>2.550955e+00</td>\n",
       "      <td>1.117238e+06</td>\n",
       "      <td>9.665457e-01</td>\n",
       "      <td>8.251786e-01</td>\n",
       "      <td>8.174947e-01</td>\n",
       "      <td>1.726595e+00</td>\n",
       "      <td>4.590526e-01</td>\n",
       "      <td>3.891431e-01</td>\n",
       "      <td>2.945302e-01</td>\n",
       "    </tr>\n",
       "    <tr>\n",
       "      <td>min</td>\n",
       "      <td>-1.054333e+01</td>\n",
       "      <td>-5.183664e+00</td>\n",
       "      <td>3.390000e+01</td>\n",
       "      <td>3.240000e+01</td>\n",
       "      <td>1.214000e+00</td>\n",
       "      <td>-2.000000e-03</td>\n",
       "      <td>-9.000000e+01</td>\n",
       "      <td>1.000000e-01</td>\n",
       "      <td>2.330000e+01</td>\n",
       "      <td>-5.929009e+01</td>\n",
       "      <td>...</td>\n",
       "      <td>3.000000e+00</td>\n",
       "      <td>0.000000e+00</td>\n",
       "      <td>2.015000e+09</td>\n",
       "      <td>0.000000e+00</td>\n",
       "      <td>0.000000e+00</td>\n",
       "      <td>0.000000e+00</td>\n",
       "      <td>1.000000e+00</td>\n",
       "      <td>0.000000e+00</td>\n",
       "      <td>0.000000e+00</td>\n",
       "      <td>0.000000e+00</td>\n",
       "    </tr>\n",
       "    <tr>\n",
       "      <td>25%</td>\n",
       "      <td>-5.908243e-01</td>\n",
       "      <td>1.650000e+00</td>\n",
       "      <td>8.430000e+01</td>\n",
       "      <td>7.790000e+01</td>\n",
       "      <td>1.238745e+03</td>\n",
       "      <td>1.371540e+02</td>\n",
       "      <td>-1.190000e+01</td>\n",
       "      <td>4.300000e+00</td>\n",
       "      <td>2.380000e+01</td>\n",
       "      <td>-1.129000e+01</td>\n",
       "      <td>...</td>\n",
       "      <td>1.490000e+02</td>\n",
       "      <td>0.000000e+00</td>\n",
       "      <td>2.016004e+09</td>\n",
       "      <td>0.000000e+00</td>\n",
       "      <td>0.000000e+00</td>\n",
       "      <td>0.000000e+00</td>\n",
       "      <td>1.000000e+00</td>\n",
       "      <td>0.000000e+00</td>\n",
       "      <td>0.000000e+00</td>\n",
       "      <td>0.000000e+00</td>\n",
       "    </tr>\n",
       "    <tr>\n",
       "      <td>50%</td>\n",
       "      <td>1.300000e-02</td>\n",
       "      <td>2.259000e+00</td>\n",
       "      <td>8.970000e+01</td>\n",
       "      <td>8.250000e+01</td>\n",
       "      <td>1.866322e+03</td>\n",
       "      <td>1.958850e+02</td>\n",
       "      <td>6.800000e+00</td>\n",
       "      <td>6.000000e+00</td>\n",
       "      <td>2.380000e+01</td>\n",
       "      <td>-3.142000e+00</td>\n",
       "      <td>...</td>\n",
       "      <td>3.020000e+02</td>\n",
       "      <td>1.000000e+00</td>\n",
       "      <td>2.017004e+09</td>\n",
       "      <td>1.000000e+00</td>\n",
       "      <td>1.000000e+00</td>\n",
       "      <td>1.000000e+00</td>\n",
       "      <td>3.000000e+00</td>\n",
       "      <td>0.000000e+00</td>\n",
       "      <td>0.000000e+00</td>\n",
       "      <td>0.000000e+00</td>\n",
       "    </tr>\n",
       "    <tr>\n",
       "      <td>75%</td>\n",
       "      <td>6.090000e-01</td>\n",
       "      <td>2.863000e+00</td>\n",
       "      <td>9.300000e+01</td>\n",
       "      <td>8.540000e+01</td>\n",
       "      <td>2.247564e+03</td>\n",
       "      <td>2.252340e+02</td>\n",
       "      <td>2.700000e+01</td>\n",
       "      <td>8.000000e+00</td>\n",
       "      <td>2.390000e+01</td>\n",
       "      <td>5.995827e+00</td>\n",
       "      <td>...</td>\n",
       "      <td>4.640000e+02</td>\n",
       "      <td>3.000000e+00</td>\n",
       "      <td>2.018002e+09</td>\n",
       "      <td>2.000000e+00</td>\n",
       "      <td>2.000000e+00</td>\n",
       "      <td>2.000000e+00</td>\n",
       "      <td>4.000000e+00</td>\n",
       "      <td>1.000000e+00</td>\n",
       "      <td>0.000000e+00</td>\n",
       "      <td>0.000000e+00</td>\n",
       "    </tr>\n",
       "    <tr>\n",
       "      <td>max</td>\n",
       "      <td>1.295291e+01</td>\n",
       "      <td>1.488624e+01</td>\n",
       "      <td>1.050000e+02</td>\n",
       "      <td>9.690000e+01</td>\n",
       "      <td>6.539259e+03</td>\n",
       "      <td>3.600010e+02</td>\n",
       "      <td>2.694000e+02</td>\n",
       "      <td>2.248893e+05</td>\n",
       "      <td>3.640000e+01</td>\n",
       "      <td>4.097800e+01</td>\n",
       "      <td>...</td>\n",
       "      <td>1.336000e+03</td>\n",
       "      <td>2.500000e+01</td>\n",
       "      <td>2.018186e+09</td>\n",
       "      <td>4.000000e+00</td>\n",
       "      <td>2.000000e+00</td>\n",
       "      <td>2.000000e+00</td>\n",
       "      <td>2.100000e+01</td>\n",
       "      <td>1.000000e+00</td>\n",
       "      <td>1.000000e+00</td>\n",
       "      <td>1.000000e+00</td>\n",
       "    </tr>\n",
       "  </tbody>\n",
       "</table>\n",
       "<p>8 rows × 37 columns</p>\n",
       "</div>"
      ],
      "text/plain": [
       "                 px            pz   start_speed     end_speed     spin_rate  \\\n",
       "count  2.852965e+06  2.852965e+06  2.853040e+06  2.853040e+06  2.852965e+06   \n",
       "mean   6.572502e-03  2.254962e+00  8.838124e+01  8.136274e+01  1.731173e+03   \n",
       "std    8.927490e-01  9.463968e-01  6.015540e+00  5.364057e+00  6.827521e+02   \n",
       "min   -1.054333e+01 -5.183664e+00  3.390000e+01  3.240000e+01  1.214000e+00   \n",
       "25%   -5.908243e-01  1.650000e+00  8.430000e+01  7.790000e+01  1.238745e+03   \n",
       "50%    1.300000e-02  2.259000e+00  8.970000e+01  8.250000e+01  1.866322e+03   \n",
       "75%    6.090000e-01  2.863000e+00  9.300000e+01  8.540000e+01  2.247564e+03   \n",
       "max    1.295291e+01  1.488624e+01  1.050000e+02  9.690000e+01  6.539259e+03   \n",
       "\n",
       "           spin_dir   break_angle  break_length       break_y            ax  \\\n",
       "count  2.852965e+06  2.852965e+06  2.852965e+06  2.852965e+06  2.852965e+06   \n",
       "mean   1.802308e+02  5.848084e+00  6.601459e+00  2.381685e+01 -2.308512e+00   \n",
       "std    6.742859e+01  2.443621e+01  1.331708e+02  6.446540e-02  1.074066e+01   \n",
       "min   -2.000000e-03 -9.000000e+01  1.000000e-01  2.330000e+01 -5.929009e+01   \n",
       "25%    1.371540e+02 -1.190000e+01  4.300000e+00  2.380000e+01 -1.129000e+01   \n",
       "50%    1.958850e+02  6.800000e+00  6.000000e+00  2.380000e+01 -3.142000e+00   \n",
       "75%    2.252340e+02  2.700000e+01  8.000000e+00  2.390000e+01  5.995827e+00   \n",
       "max    3.600010e+02  2.694000e+02  2.248893e+05  3.640000e+01  4.097800e+01   \n",
       "\n",
       "       ...     event_num       b_score         ab_id       b_count  \\\n",
       "count  ...  2.867154e+06  2.867154e+06  2.867154e+06  2.867154e+06   \n",
       "mean   ...  3.129711e+02  2.256608e+00  2.016606e+09  8.824259e-01   \n",
       "std    ...  1.928482e+02  2.550955e+00  1.117238e+06  9.665457e-01   \n",
       "min    ...  3.000000e+00  0.000000e+00  2.015000e+09  0.000000e+00   \n",
       "25%    ...  1.490000e+02  0.000000e+00  2.016004e+09  0.000000e+00   \n",
       "50%    ...  3.020000e+02  1.000000e+00  2.017004e+09  1.000000e+00   \n",
       "75%    ...  4.640000e+02  3.000000e+00  2.018002e+09  2.000000e+00   \n",
       "max    ...  1.336000e+03  2.500000e+01  2.018186e+09  4.000000e+00   \n",
       "\n",
       "            s_count          outs     pitch_num         on_1b         on_2b  \\\n",
       "count  2.867154e+06  2.867154e+06  2.867154e+06  2.867154e+06  2.867154e+06   \n",
       "mean   8.810873e-01  9.826033e-01  2.894472e+00  3.018314e-01  1.860451e-01   \n",
       "std    8.251786e-01  8.174947e-01  1.726595e+00  4.590526e-01  3.891431e-01   \n",
       "min    0.000000e+00  0.000000e+00  1.000000e+00  0.000000e+00  0.000000e+00   \n",
       "25%    0.000000e+00  0.000000e+00  1.000000e+00  0.000000e+00  0.000000e+00   \n",
       "50%    1.000000e+00  1.000000e+00  3.000000e+00  0.000000e+00  0.000000e+00   \n",
       "75%    2.000000e+00  2.000000e+00  4.000000e+00  1.000000e+00  0.000000e+00   \n",
       "max    2.000000e+00  2.000000e+00  2.100000e+01  1.000000e+00  1.000000e+00   \n",
       "\n",
       "              on_3b  \n",
       "count  2.867154e+06  \n",
       "mean   9.595543e-02  \n",
       "std    2.945302e-01  \n",
       "min    0.000000e+00  \n",
       "25%    0.000000e+00  \n",
       "50%    0.000000e+00  \n",
       "75%    0.000000e+00  \n",
       "max    1.000000e+00  \n",
       "\n",
       "[8 rows x 37 columns]"
      ]
     },
     "execution_count": 6,
     "metadata": {},
     "output_type": "execute_result"
    }
   ],
   "source": [
    "df.describe()"
   ]
  },
  {
   "cell_type": "code",
   "execution_count": 7,
   "metadata": {
    "collapsed": true,
    "jupyter": {
     "outputs_hidden": true
    }
   },
   "outputs": [
    {
     "data": {
      "text/plain": [
       "px                 14189\n",
       "pz                 14189\n",
       "start_speed        14114\n",
       "end_speed          14114\n",
       "spin_rate          14189\n",
       "spin_dir           14189\n",
       "break_angle        14189\n",
       "break_length       14189\n",
       "break_y            14189\n",
       "ax                 14189\n",
       "ay                 14189\n",
       "az                 14189\n",
       "sz_bot              2083\n",
       "sz_top              2083\n",
       "type_confidence    14189\n",
       "vx0                14189\n",
       "vy0                14189\n",
       "vz0                14189\n",
       "x                      0\n",
       "x0                 14189\n",
       "y                      0\n",
       "y0                 14189\n",
       "z0                 14189\n",
       "pfx_x              14142\n",
       "pfx_z              14142\n",
       "nasty              14189\n",
       "zone               14189\n",
       "code                5719\n",
       "type                   0\n",
       "pitch_type         14189\n",
       "event_num              0\n",
       "b_score                0\n",
       "ab_id                  0\n",
       "b_count                0\n",
       "s_count                0\n",
       "outs                   0\n",
       "pitch_num              0\n",
       "on_1b                  0\n",
       "on_2b                  0\n",
       "on_3b                  0\n",
       "dtype: int64"
      ]
     },
     "execution_count": 7,
     "metadata": {},
     "output_type": "execute_result"
    }
   ],
   "source": [
    "df.isnull().sum()"
   ]
  },
  {
   "cell_type": "code",
   "execution_count": 8,
   "metadata": {},
   "outputs": [],
   "source": [
    "# drop all null values\n",
    "\n",
    "df = df.dropna(how='any', axis=0)"
   ]
  },
  {
   "cell_type": "code",
   "execution_count": 9,
   "metadata": {},
   "outputs": [
    {
     "data": {
      "text/plain": [
       "(2847250, 40)"
      ]
     },
     "execution_count": 9,
     "metadata": {},
     "output_type": "execute_result"
    }
   ],
   "source": [
    "df.shape"
   ]
  },
  {
   "cell_type": "code",
   "execution_count": 10,
   "metadata": {
    "collapsed": true,
    "jupyter": {
     "outputs_hidden": true
    }
   },
   "outputs": [
    {
     "data": {
      "text/plain": [
       "FF    1012917\n",
       "SL     449804\n",
       "FT     337244\n",
       "CH     292123\n",
       "SI     242047\n",
       "CU     233913\n",
       "FC     149376\n",
       "KC      66410\n",
       "FS      43533\n",
       "KN      11260\n",
       "IN       6187\n",
       "EP        812\n",
       "FO        810\n",
       "PO        626\n",
       "SC        113\n",
       "UN         57\n",
       "FA          9\n",
       "AB          9\n",
       "Name: pitch_type, dtype: int64"
      ]
     },
     "execution_count": 10,
     "metadata": {},
     "output_type": "execute_result"
    }
   ],
   "source": [
    "df['pitch_type'].value_counts()"
   ]
  },
  {
   "cell_type": "code",
   "execution_count": 11,
   "metadata": {},
   "outputs": [],
   "source": [
    "# change year column to string type\n",
    "\n",
    "df['year'] = df.ab_id.astype(str)"
   ]
  },
  {
   "cell_type": "code",
   "execution_count": 12,
   "metadata": {},
   "outputs": [],
   "source": [
    "# new dataframe with only 2018 pitches\n",
    "\n",
    "new_df = df[df['year'].str.startswith('2018')]"
   ]
  },
  {
   "cell_type": "code",
   "execution_count": 13,
   "metadata": {
    "collapsed": true,
    "jupyter": {
     "outputs_hidden": true
    }
   },
   "outputs": [
    {
     "data": {
      "text/html": [
       "<div>\n",
       "<style scoped>\n",
       "    .dataframe tbody tr th:only-of-type {\n",
       "        vertical-align: middle;\n",
       "    }\n",
       "\n",
       "    .dataframe tbody tr th {\n",
       "        vertical-align: top;\n",
       "    }\n",
       "\n",
       "    .dataframe thead th {\n",
       "        text-align: right;\n",
       "    }\n",
       "</style>\n",
       "<table border=\"1\" class=\"dataframe\">\n",
       "  <thead>\n",
       "    <tr style=\"text-align: right;\">\n",
       "      <th></th>\n",
       "      <th>px</th>\n",
       "      <th>pz</th>\n",
       "      <th>start_speed</th>\n",
       "      <th>end_speed</th>\n",
       "      <th>spin_rate</th>\n",
       "      <th>spin_dir</th>\n",
       "      <th>break_angle</th>\n",
       "      <th>break_length</th>\n",
       "      <th>break_y</th>\n",
       "      <th>ax</th>\n",
       "      <th>...</th>\n",
       "      <th>b_score</th>\n",
       "      <th>ab_id</th>\n",
       "      <th>b_count</th>\n",
       "      <th>s_count</th>\n",
       "      <th>outs</th>\n",
       "      <th>pitch_num</th>\n",
       "      <th>on_1b</th>\n",
       "      <th>on_2b</th>\n",
       "      <th>on_3b</th>\n",
       "      <th>year</th>\n",
       "    </tr>\n",
       "  </thead>\n",
       "  <tbody>\n",
       "    <tr>\n",
       "      <td>2142710</td>\n",
       "      <td>0.239615</td>\n",
       "      <td>1.848781</td>\n",
       "      <td>93.7</td>\n",
       "      <td>84.5</td>\n",
       "      <td>2632.270</td>\n",
       "      <td>233.718</td>\n",
       "      <td>43.7</td>\n",
       "      <td>5.8</td>\n",
       "      <td>23.7</td>\n",
       "      <td>-19.911162</td>\n",
       "      <td>...</td>\n",
       "      <td>0.0</td>\n",
       "      <td>2.018000e+09</td>\n",
       "      <td>0.0</td>\n",
       "      <td>0.0</td>\n",
       "      <td>0.0</td>\n",
       "      <td>1.0</td>\n",
       "      <td>0.0</td>\n",
       "      <td>0.0</td>\n",
       "      <td>0.0</td>\n",
       "      <td>2018000001.0</td>\n",
       "    </tr>\n",
       "    <tr>\n",
       "      <td>2142711</td>\n",
       "      <td>-0.804047</td>\n",
       "      <td>0.925201</td>\n",
       "      <td>94.0</td>\n",
       "      <td>85.8</td>\n",
       "      <td>2561.181</td>\n",
       "      <td>236.246</td>\n",
       "      <td>42.7</td>\n",
       "      <td>6.1</td>\n",
       "      <td>23.8</td>\n",
       "      <td>-20.043108</td>\n",
       "      <td>...</td>\n",
       "      <td>0.0</td>\n",
       "      <td>2.018000e+09</td>\n",
       "      <td>0.0</td>\n",
       "      <td>1.0</td>\n",
       "      <td>0.0</td>\n",
       "      <td>2.0</td>\n",
       "      <td>0.0</td>\n",
       "      <td>0.0</td>\n",
       "      <td>0.0</td>\n",
       "      <td>2018000001.0</td>\n",
       "    </tr>\n",
       "    <tr>\n",
       "      <td>2142712</td>\n",
       "      <td>0.598637</td>\n",
       "      <td>1.616677</td>\n",
       "      <td>94.7</td>\n",
       "      <td>86.5</td>\n",
       "      <td>2673.854</td>\n",
       "      <td>237.996</td>\n",
       "      <td>44.4</td>\n",
       "      <td>6.0</td>\n",
       "      <td>23.8</td>\n",
       "      <td>-21.510485</td>\n",
       "      <td>...</td>\n",
       "      <td>0.0</td>\n",
       "      <td>2.018000e+09</td>\n",
       "      <td>1.0</td>\n",
       "      <td>1.0</td>\n",
       "      <td>0.0</td>\n",
       "      <td>3.0</td>\n",
       "      <td>0.0</td>\n",
       "      <td>0.0</td>\n",
       "      <td>0.0</td>\n",
       "      <td>2018000001.0</td>\n",
       "    </tr>\n",
       "    <tr>\n",
       "      <td>2142713</td>\n",
       "      <td>1.453223</td>\n",
       "      <td>1.466314</td>\n",
       "      <td>82.3</td>\n",
       "      <td>76.7</td>\n",
       "      <td>959.909</td>\n",
       "      <td>38.861</td>\n",
       "      <td>-8.2</td>\n",
       "      <td>10.8</td>\n",
       "      <td>23.9</td>\n",
       "      <td>4.974062</td>\n",
       "      <td>...</td>\n",
       "      <td>0.0</td>\n",
       "      <td>2.018000e+09</td>\n",
       "      <td>1.0</td>\n",
       "      <td>2.0</td>\n",
       "      <td>0.0</td>\n",
       "      <td>4.0</td>\n",
       "      <td>0.0</td>\n",
       "      <td>0.0</td>\n",
       "      <td>0.0</td>\n",
       "      <td>2018000001.0</td>\n",
       "    </tr>\n",
       "    <tr>\n",
       "      <td>2142714</td>\n",
       "      <td>-0.427914</td>\n",
       "      <td>2.490041</td>\n",
       "      <td>95.4</td>\n",
       "      <td>87.1</td>\n",
       "      <td>2408.148</td>\n",
       "      <td>241.080</td>\n",
       "      <td>40.9</td>\n",
       "      <td>6.1</td>\n",
       "      <td>23.8</td>\n",
       "      <td>-20.172978</td>\n",
       "      <td>...</td>\n",
       "      <td>0.0</td>\n",
       "      <td>2.018000e+09</td>\n",
       "      <td>1.0</td>\n",
       "      <td>2.0</td>\n",
       "      <td>0.0</td>\n",
       "      <td>5.0</td>\n",
       "      <td>0.0</td>\n",
       "      <td>0.0</td>\n",
       "      <td>0.0</td>\n",
       "      <td>2018000001.0</td>\n",
       "    </tr>\n",
       "  </tbody>\n",
       "</table>\n",
       "<p>5 rows × 41 columns</p>\n",
       "</div>"
      ],
      "text/plain": [
       "               px        pz  start_speed  end_speed  spin_rate  spin_dir  \\\n",
       "2142710  0.239615  1.848781         93.7       84.5   2632.270   233.718   \n",
       "2142711 -0.804047  0.925201         94.0       85.8   2561.181   236.246   \n",
       "2142712  0.598637  1.616677         94.7       86.5   2673.854   237.996   \n",
       "2142713  1.453223  1.466314         82.3       76.7    959.909    38.861   \n",
       "2142714 -0.427914  2.490041         95.4       87.1   2408.148   241.080   \n",
       "\n",
       "         break_angle  break_length  break_y         ax  ...  b_score  \\\n",
       "2142710         43.7           5.8     23.7 -19.911162  ...      0.0   \n",
       "2142711         42.7           6.1     23.8 -20.043108  ...      0.0   \n",
       "2142712         44.4           6.0     23.8 -21.510485  ...      0.0   \n",
       "2142713         -8.2          10.8     23.9   4.974062  ...      0.0   \n",
       "2142714         40.9           6.1     23.8 -20.172978  ...      0.0   \n",
       "\n",
       "                ab_id  b_count  s_count  outs  pitch_num  on_1b  on_2b  on_3b  \\\n",
       "2142710  2.018000e+09      0.0      0.0   0.0        1.0    0.0    0.0    0.0   \n",
       "2142711  2.018000e+09      0.0      1.0   0.0        2.0    0.0    0.0    0.0   \n",
       "2142712  2.018000e+09      1.0      1.0   0.0        3.0    0.0    0.0    0.0   \n",
       "2142713  2.018000e+09      1.0      2.0   0.0        4.0    0.0    0.0    0.0   \n",
       "2142714  2.018000e+09      1.0      2.0   0.0        5.0    0.0    0.0    0.0   \n",
       "\n",
       "                 year  \n",
       "2142710  2018000001.0  \n",
       "2142711  2018000001.0  \n",
       "2142712  2018000001.0  \n",
       "2142713  2018000001.0  \n",
       "2142714  2018000001.0  \n",
       "\n",
       "[5 rows x 41 columns]"
      ]
     },
     "execution_count": 13,
     "metadata": {},
     "output_type": "execute_result"
    }
   ],
   "source": [
    "new_df.head()"
   ]
  },
  {
   "cell_type": "code",
   "execution_count": 14,
   "metadata": {
    "collapsed": true,
    "jupyter": {
     "outputs_hidden": true
    }
   },
   "outputs": [
    {
     "data": {
      "text/plain": [
       "(718322, 41)"
      ]
     },
     "execution_count": 14,
     "metadata": {},
     "output_type": "execute_result"
    }
   ],
   "source": [
    "new_df.shape"
   ]
  },
  {
   "cell_type": "code",
   "execution_count": 15,
   "metadata": {
    "collapsed": true,
    "jupyter": {
     "outputs_hidden": true
    }
   },
   "outputs": [
    {
     "data": {
      "text/plain": [
       "FF    254086\n",
       "SL    122796\n",
       "FT     81617\n",
       "CH     74606\n",
       "CU     60360\n",
       "SI     57970\n",
       "FC     39061\n",
       "KC     16327\n",
       "FS     10365\n",
       "KN       719\n",
       "EP       204\n",
       "PO        89\n",
       "FO        84\n",
       "SC        37\n",
       "AB         1\n",
       "Name: pitch_type, dtype: int64"
      ]
     },
     "execution_count": 15,
     "metadata": {},
     "output_type": "execute_result"
    }
   ],
   "source": [
    "new_df['pitch_type'].value_counts()"
   ]
  },
  {
   "cell_type": "code",
   "execution_count": 16,
   "metadata": {},
   "outputs": [],
   "source": [
    "# drop fastball type and irrelevant types\n",
    "\n",
    "new_df = new_df.drop(new_df.loc[new_df['pitch_type']=='FF'].index)"
   ]
  },
  {
   "cell_type": "code",
   "execution_count": 17,
   "metadata": {},
   "outputs": [],
   "source": [
    "new_df = new_df.drop(new_df.loc[new_df['pitch_type']=='FT'].index)"
   ]
  },
  {
   "cell_type": "code",
   "execution_count": 18,
   "metadata": {},
   "outputs": [],
   "source": [
    "new_df = new_df.drop(new_df.loc[new_df['pitch_type']=='KN'].index)"
   ]
  },
  {
   "cell_type": "code",
   "execution_count": 19,
   "metadata": {},
   "outputs": [],
   "source": [
    "new_df = new_df.drop(new_df.loc[new_df['pitch_type']=='EP'].index)"
   ]
  },
  {
   "cell_type": "code",
   "execution_count": 20,
   "metadata": {},
   "outputs": [],
   "source": [
    "new_df = new_df.drop(new_df.loc[new_df['pitch_type']=='PO'].index)"
   ]
  },
  {
   "cell_type": "code",
   "execution_count": 21,
   "metadata": {},
   "outputs": [],
   "source": [
    "new_df = new_df.drop(new_df.loc[new_df['pitch_type']=='FO'].index)"
   ]
  },
  {
   "cell_type": "code",
   "execution_count": 22,
   "metadata": {},
   "outputs": [],
   "source": [
    "new_df = new_df.drop(new_df.loc[new_df['pitch_type']=='SC'].index)"
   ]
  },
  {
   "cell_type": "code",
   "execution_count": 23,
   "metadata": {},
   "outputs": [],
   "source": [
    "final_df = new_df.drop(new_df.loc[new_df['pitch_type']=='AB'].index)"
   ]
  },
  {
   "cell_type": "code",
   "execution_count": 24,
   "metadata": {
    "collapsed": true,
    "jupyter": {
     "outputs_hidden": true
    }
   },
   "outputs": [
    {
     "data": {
      "text/plain": [
       "SL    122796\n",
       "CH     74606\n",
       "CU     60360\n",
       "SI     57970\n",
       "FC     39061\n",
       "KC     16327\n",
       "FS     10365\n",
       "Name: pitch_type, dtype: int64"
      ]
     },
     "execution_count": 24,
     "metadata": {},
     "output_type": "execute_result"
    }
   ],
   "source": [
    "final_df['pitch_type'].value_counts()"
   ]
  },
  {
   "cell_type": "code",
   "execution_count": 25,
   "metadata": {},
   "outputs": [],
   "source": [
    "# drop irrelevant features\n",
    "\n",
    "final_df.drop(['code', 'type', 'event_num', 'b_score', 'b_count', 's_count', \n",
    "              'outs', 'pitch_num', 'type_confidence', 'on_1b', 'on_2b', 'on_3b'], axis=1, inplace=True)"
   ]
  },
  {
   "cell_type": "code",
   "execution_count": 26,
   "metadata": {
    "collapsed": true,
    "jupyter": {
     "outputs_hidden": true
    }
   },
   "outputs": [
    {
     "data": {
      "text/html": [
       "<div>\n",
       "<style scoped>\n",
       "    .dataframe tbody tr th:only-of-type {\n",
       "        vertical-align: middle;\n",
       "    }\n",
       "\n",
       "    .dataframe tbody tr th {\n",
       "        vertical-align: top;\n",
       "    }\n",
       "\n",
       "    .dataframe thead th {\n",
       "        text-align: right;\n",
       "    }\n",
       "</style>\n",
       "<table border=\"1\" class=\"dataframe\">\n",
       "  <thead>\n",
       "    <tr style=\"text-align: right;\">\n",
       "      <th></th>\n",
       "      <th>px</th>\n",
       "      <th>pz</th>\n",
       "      <th>start_speed</th>\n",
       "      <th>end_speed</th>\n",
       "      <th>spin_rate</th>\n",
       "      <th>spin_dir</th>\n",
       "      <th>break_angle</th>\n",
       "      <th>break_length</th>\n",
       "      <th>break_y</th>\n",
       "      <th>ax</th>\n",
       "      <th>...</th>\n",
       "      <th>y</th>\n",
       "      <th>y0</th>\n",
       "      <th>z0</th>\n",
       "      <th>pfx_x</th>\n",
       "      <th>pfx_z</th>\n",
       "      <th>nasty</th>\n",
       "      <th>zone</th>\n",
       "      <th>pitch_type</th>\n",
       "      <th>ab_id</th>\n",
       "      <th>year</th>\n",
       "    </tr>\n",
       "  </thead>\n",
       "  <tbody>\n",
       "    <tr>\n",
       "      <td>2142710</td>\n",
       "      <td>0.239615</td>\n",
       "      <td>1.848781</td>\n",
       "      <td>93.7</td>\n",
       "      <td>84.5</td>\n",
       "      <td>2632.270</td>\n",
       "      <td>233.718</td>\n",
       "      <td>43.7</td>\n",
       "      <td>5.8</td>\n",
       "      <td>23.7</td>\n",
       "      <td>-19.911162</td>\n",
       "      <td>...</td>\n",
       "      <td>188.86</td>\n",
       "      <td>50.0</td>\n",
       "      <td>5.696240</td>\n",
       "      <td>-10.721801</td>\n",
       "      <td>7.870604</td>\n",
       "      <td>46.0</td>\n",
       "      <td>9.0</td>\n",
       "      <td>SI</td>\n",
       "      <td>2.018000e+09</td>\n",
       "      <td>2018000001.0</td>\n",
       "    </tr>\n",
       "    <tr>\n",
       "      <td>2142711</td>\n",
       "      <td>-0.804047</td>\n",
       "      <td>0.925201</td>\n",
       "      <td>94.0</td>\n",
       "      <td>85.8</td>\n",
       "      <td>2561.181</td>\n",
       "      <td>236.246</td>\n",
       "      <td>42.7</td>\n",
       "      <td>6.1</td>\n",
       "      <td>23.8</td>\n",
       "      <td>-20.043108</td>\n",
       "      <td>...</td>\n",
       "      <td>213.84</td>\n",
       "      <td>50.0</td>\n",
       "      <td>5.617264</td>\n",
       "      <td>-10.647298</td>\n",
       "      <td>7.115135</td>\n",
       "      <td>46.0</td>\n",
       "      <td>13.0</td>\n",
       "      <td>SI</td>\n",
       "      <td>2.018000e+09</td>\n",
       "      <td>2018000001.0</td>\n",
       "    </tr>\n",
       "    <tr>\n",
       "      <td>2142712</td>\n",
       "      <td>0.598637</td>\n",
       "      <td>1.616677</td>\n",
       "      <td>94.7</td>\n",
       "      <td>86.5</td>\n",
       "      <td>2673.854</td>\n",
       "      <td>237.996</td>\n",
       "      <td>44.4</td>\n",
       "      <td>6.0</td>\n",
       "      <td>23.8</td>\n",
       "      <td>-21.510485</td>\n",
       "      <td>...</td>\n",
       "      <td>195.28</td>\n",
       "      <td>50.0</td>\n",
       "      <td>5.646685</td>\n",
       "      <td>-11.206094</td>\n",
       "      <td>7.003230</td>\n",
       "      <td>53.0</td>\n",
       "      <td>9.0</td>\n",
       "      <td>SI</td>\n",
       "      <td>2.018000e+09</td>\n",
       "      <td>2018000001.0</td>\n",
       "    </tr>\n",
       "    <tr>\n",
       "      <td>2142713</td>\n",
       "      <td>1.453223</td>\n",
       "      <td>1.466314</td>\n",
       "      <td>82.3</td>\n",
       "      <td>76.7</td>\n",
       "      <td>959.909</td>\n",
       "      <td>38.861</td>\n",
       "      <td>-8.2</td>\n",
       "      <td>10.8</td>\n",
       "      <td>23.9</td>\n",
       "      <td>4.974062</td>\n",
       "      <td>...</td>\n",
       "      <td>199.22</td>\n",
       "      <td>50.0</td>\n",
       "      <td>5.768441</td>\n",
       "      <td>3.397188</td>\n",
       "      <td>-4.215796</td>\n",
       "      <td>22.0</td>\n",
       "      <td>14.0</td>\n",
       "      <td>SL</td>\n",
       "      <td>2.018000e+09</td>\n",
       "      <td>2018000001.0</td>\n",
       "    </tr>\n",
       "    <tr>\n",
       "      <td>2142714</td>\n",
       "      <td>-0.427914</td>\n",
       "      <td>2.490041</td>\n",
       "      <td>95.4</td>\n",
       "      <td>87.1</td>\n",
       "      <td>2408.148</td>\n",
       "      <td>241.080</td>\n",
       "      <td>40.9</td>\n",
       "      <td>6.1</td>\n",
       "      <td>23.8</td>\n",
       "      <td>-20.172978</td>\n",
       "      <td>...</td>\n",
       "      <td>171.57</td>\n",
       "      <td>50.0</td>\n",
       "      <td>5.726734</td>\n",
       "      <td>-10.308374</td>\n",
       "      <td>5.695114</td>\n",
       "      <td>36.0</td>\n",
       "      <td>4.0</td>\n",
       "      <td>SI</td>\n",
       "      <td>2.018000e+09</td>\n",
       "      <td>2018000001.0</td>\n",
       "    </tr>\n",
       "  </tbody>\n",
       "</table>\n",
       "<p>5 rows × 29 columns</p>\n",
       "</div>"
      ],
      "text/plain": [
       "               px        pz  start_speed  end_speed  spin_rate  spin_dir  \\\n",
       "2142710  0.239615  1.848781         93.7       84.5   2632.270   233.718   \n",
       "2142711 -0.804047  0.925201         94.0       85.8   2561.181   236.246   \n",
       "2142712  0.598637  1.616677         94.7       86.5   2673.854   237.996   \n",
       "2142713  1.453223  1.466314         82.3       76.7    959.909    38.861   \n",
       "2142714 -0.427914  2.490041         95.4       87.1   2408.148   241.080   \n",
       "\n",
       "         break_angle  break_length  break_y         ax  ...       y    y0  \\\n",
       "2142710         43.7           5.8     23.7 -19.911162  ...  188.86  50.0   \n",
       "2142711         42.7           6.1     23.8 -20.043108  ...  213.84  50.0   \n",
       "2142712         44.4           6.0     23.8 -21.510485  ...  195.28  50.0   \n",
       "2142713         -8.2          10.8     23.9   4.974062  ...  199.22  50.0   \n",
       "2142714         40.9           6.1     23.8 -20.172978  ...  171.57  50.0   \n",
       "\n",
       "               z0      pfx_x     pfx_z  nasty  zone  pitch_type         ab_id  \\\n",
       "2142710  5.696240 -10.721801  7.870604   46.0   9.0          SI  2.018000e+09   \n",
       "2142711  5.617264 -10.647298  7.115135   46.0  13.0          SI  2.018000e+09   \n",
       "2142712  5.646685 -11.206094  7.003230   53.0   9.0          SI  2.018000e+09   \n",
       "2142713  5.768441   3.397188 -4.215796   22.0  14.0          SL  2.018000e+09   \n",
       "2142714  5.726734 -10.308374  5.695114   36.0   4.0          SI  2.018000e+09   \n",
       "\n",
       "                 year  \n",
       "2142710  2018000001.0  \n",
       "2142711  2018000001.0  \n",
       "2142712  2018000001.0  \n",
       "2142713  2018000001.0  \n",
       "2142714  2018000001.0  \n",
       "\n",
       "[5 rows x 29 columns]"
      ]
     },
     "execution_count": 26,
     "metadata": {},
     "output_type": "execute_result"
    }
   ],
   "source": [
    "final_df.head()"
   ]
  },
  {
   "cell_type": "code",
   "execution_count": 27,
   "metadata": {
    "collapsed": true,
    "jupyter": {
     "outputs_hidden": true
    }
   },
   "outputs": [
    {
     "name": "stdout",
     "output_type": "stream",
     "text": [
      "<class 'pandas.core.frame.DataFrame'>\n",
      "Int64Index: 381485 entries, 2142710 to 2867149\n",
      "Data columns (total 29 columns):\n",
      "px              381485 non-null float64\n",
      "pz              381485 non-null float64\n",
      "start_speed     381485 non-null float64\n",
      "end_speed       381485 non-null float64\n",
      "spin_rate       381485 non-null float64\n",
      "spin_dir        381485 non-null float64\n",
      "break_angle     381485 non-null float64\n",
      "break_length    381485 non-null float64\n",
      "break_y         381485 non-null float64\n",
      "ax              381485 non-null float64\n",
      "ay              381485 non-null float64\n",
      "az              381485 non-null float64\n",
      "sz_bot          381485 non-null float64\n",
      "sz_top          381485 non-null float64\n",
      "vx0             381485 non-null float64\n",
      "vy0             381485 non-null float64\n",
      "vz0             381485 non-null float64\n",
      "x               381485 non-null float64\n",
      "x0              381485 non-null float64\n",
      "y               381485 non-null float64\n",
      "y0              381485 non-null float64\n",
      "z0              381485 non-null float64\n",
      "pfx_x           381485 non-null float64\n",
      "pfx_z           381485 non-null float64\n",
      "nasty           381485 non-null float64\n",
      "zone            381485 non-null float64\n",
      "pitch_type      381485 non-null object\n",
      "ab_id           381485 non-null float64\n",
      "year            381485 non-null object\n",
      "dtypes: float64(27), object(2)\n",
      "memory usage: 87.3+ MB\n"
     ]
    }
   ],
   "source": [
    "final_df.info()"
   ]
  },
  {
   "cell_type": "code",
   "execution_count": 28,
   "metadata": {},
   "outputs": [],
   "source": [
    "# function to bin pitch types into binary classes\n",
    "\n",
    "def bin_pitches(single_pitch):\n",
    "    \n",
    "    offspeed = ['CH', 'FS']\n",
    "    breaking = ['SL', 'CU', 'KC']\n",
    "    \n",
    "    if single_pitch in offspeed:\n",
    "        return 0\n",
    "    elif single_pitch in breaking:\n",
    "        return 1\n",
    "    else:\n",
    "        return 2  "
   ]
  },
  {
   "cell_type": "code",
   "execution_count": 29,
   "metadata": {},
   "outputs": [],
   "source": [
    "# apply function to dataframe\n",
    "\n",
    "final_df['bin_pitches'] = final_df.pitch_type.apply(bin_pitches)"
   ]
  },
  {
   "cell_type": "code",
   "execution_count": 30,
   "metadata": {
    "collapsed": true,
    "jupyter": {
     "outputs_hidden": true
    }
   },
   "outputs": [
    {
     "data": {
      "text/plain": [
       "1    199483\n",
       "2     97031\n",
       "0     84971\n",
       "Name: bin_pitches, dtype: int64"
      ]
     },
     "execution_count": 30,
     "metadata": {},
     "output_type": "execute_result"
    }
   ],
   "source": [
    "final_df['bin_pitches'].value_counts()"
   ]
  },
  {
   "cell_type": "code",
   "execution_count": 31,
   "metadata": {
    "collapsed": true,
    "jupyter": {
     "outputs_hidden": true
    }
   },
   "outputs": [
    {
     "data": {
      "text/html": [
       "<div>\n",
       "<style scoped>\n",
       "    .dataframe tbody tr th:only-of-type {\n",
       "        vertical-align: middle;\n",
       "    }\n",
       "\n",
       "    .dataframe tbody tr th {\n",
       "        vertical-align: top;\n",
       "    }\n",
       "\n",
       "    .dataframe thead th {\n",
       "        text-align: right;\n",
       "    }\n",
       "</style>\n",
       "<table border=\"1\" class=\"dataframe\">\n",
       "  <thead>\n",
       "    <tr style=\"text-align: right;\">\n",
       "      <th></th>\n",
       "      <th>pitch_type</th>\n",
       "      <th>bin_pitches</th>\n",
       "    </tr>\n",
       "  </thead>\n",
       "  <tbody>\n",
       "    <tr>\n",
       "      <td>2142710</td>\n",
       "      <td>SI</td>\n",
       "      <td>2</td>\n",
       "    </tr>\n",
       "    <tr>\n",
       "      <td>2142713</td>\n",
       "      <td>SL</td>\n",
       "      <td>1</td>\n",
       "    </tr>\n",
       "    <tr>\n",
       "      <td>2142717</td>\n",
       "      <td>FC</td>\n",
       "      <td>2</td>\n",
       "    </tr>\n",
       "    <tr>\n",
       "      <td>2142730</td>\n",
       "      <td>CU</td>\n",
       "      <td>1</td>\n",
       "    </tr>\n",
       "    <tr>\n",
       "      <td>2142753</td>\n",
       "      <td>CH</td>\n",
       "      <td>0</td>\n",
       "    </tr>\n",
       "    <tr>\n",
       "      <td>2142905</td>\n",
       "      <td>FS</td>\n",
       "      <td>0</td>\n",
       "    </tr>\n",
       "    <tr>\n",
       "      <td>2143373</td>\n",
       "      <td>KC</td>\n",
       "      <td>1</td>\n",
       "    </tr>\n",
       "  </tbody>\n",
       "</table>\n",
       "</div>"
      ],
      "text/plain": [
       "        pitch_type  bin_pitches\n",
       "2142710         SI            2\n",
       "2142713         SL            1\n",
       "2142717         FC            2\n",
       "2142730         CU            1\n",
       "2142753         CH            0\n",
       "2142905         FS            0\n",
       "2143373         KC            1"
      ]
     },
     "execution_count": 31,
     "metadata": {},
     "output_type": "execute_result"
    }
   ],
   "source": [
    "# drop duplicates\n",
    "\n",
    "final_df[['pitch_type', 'bin_pitches']].drop_duplicates(keep='first')"
   ]
  },
  {
   "cell_type": "code",
   "execution_count": 32,
   "metadata": {
    "collapsed": true,
    "jupyter": {
     "outputs_hidden": true
    }
   },
   "outputs": [
    {
     "data": {
      "text/plain": [
       "(381485, 30)"
      ]
     },
     "execution_count": 32,
     "metadata": {},
     "output_type": "execute_result"
    }
   ],
   "source": [
    "final_df.shape"
   ]
  },
  {
   "cell_type": "code",
   "execution_count": 33,
   "metadata": {
    "collapsed": true,
    "jupyter": {
     "outputs_hidden": true
    }
   },
   "outputs": [
    {
     "data": {
      "text/plain": [
       "0"
      ]
     },
     "execution_count": 33,
     "metadata": {},
     "output_type": "execute_result"
    }
   ],
   "source": [
    "final_df.duplicated().sum()"
   ]
  },
  {
   "cell_type": "code",
   "execution_count": 34,
   "metadata": {},
   "outputs": [],
   "source": [
    "# drop features that are no longer needed (used for sorting earlier)\n",
    "\n",
    "final_df.drop(['pitch_type', 'ab_id', 'year'], axis=1, inplace=True)"
   ]
  },
  {
   "cell_type": "markdown",
   "metadata": {},
   "source": [
    "# EDA"
   ]
  },
  {
   "cell_type": "code",
   "execution_count": 35,
   "metadata": {
    "collapsed": true,
    "jupyter": {
     "outputs_hidden": true
    }
   },
   "outputs": [
    {
     "name": "stderr",
     "output_type": "stream",
     "text": [
      "/Users/jefflindberg/opt/anaconda3/envs/learn-env/lib/python3.6/site-packages/pandas/core/groupby/groupby.py:627: UserWarning: To output multiple subplots, the figure containing the passed axes is being cleared\n",
      "  return f(x, *args, **kwargs)\n"
     ]
    },
    {
     "data": {
      "text/plain": [
       "bin_pitches\n",
       "0    [[AxesSubplot(0.125,0.779333;0.125x0.100667), ...\n",
       "1    [[AxesSubplot(0.125,0.779333;0.125x0.100667), ...\n",
       "2    [[AxesSubplot(0.125,0.779333;0.125x0.100667), ...\n",
       "dtype: object"
      ]
     },
     "execution_count": 35,
     "metadata": {},
     "output_type": "execute_result"
    },
    {
     "data": {
      "image/png": "[encoded data removed]",
      "text/plain": [
       "<Figure size 1080x1440 with 30 Axes>"
      ]
     },
     "metadata": {
      "needs_background": "light"
     },
     "output_type": "display_data"
    }
   ],
   "source": [
    "# visualize distribution of data in features\n",
    "\n",
    "fig = plt.figure(figsize = (15,20))\n",
    "ax = fig.gca()\n",
    "final_df.groupby('bin_pitches').hist(ax=ax)"
   ]
  },
  {
   "cell_type": "code",
   "execution_count": 36,
   "metadata": {},
   "outputs": [],
   "source": [
    "# drop unecessary features\n",
    "\n",
    "final_df.drop(['sz_top', 'sz_bot', 'y0'], axis=1, inplace=True)"
   ]
  },
  {
   "cell_type": "code",
   "execution_count": 37,
   "metadata": {
    "collapsed": true,
    "jupyter": {
     "outputs_hidden": true
    }
   },
   "outputs": [
    {
     "name": "stdout",
     "output_type": "stream",
     "text": [
      "<class 'pandas.core.frame.DataFrame'>\n",
      "Int64Index: 381485 entries, 2142710 to 2867149\n",
      "Data columns (total 24 columns):\n",
      "px              381485 non-null float64\n",
      "pz              381485 non-null float64\n",
      "start_speed     381485 non-null float64\n",
      "end_speed       381485 non-null float64\n",
      "spin_rate       381485 non-null float64\n",
      "spin_dir        381485 non-null float64\n",
      "break_angle     381485 non-null float64\n",
      "break_length    381485 non-null float64\n",
      "break_y         381485 non-null float64\n",
      "ax              381485 non-null float64\n",
      "ay              381485 non-null float64\n",
      "az              381485 non-null float64\n",
      "vx0             381485 non-null float64\n",
      "vy0             381485 non-null float64\n",
      "vz0             381485 non-null float64\n",
      "x               381485 non-null float64\n",
      "x0              381485 non-null float64\n",
      "y               381485 non-null float64\n",
      "z0              381485 non-null float64\n",
      "pfx_x           381485 non-null float64\n",
      "pfx_z           381485 non-null float64\n",
      "nasty           381485 non-null float64\n",
      "zone            381485 non-null float64\n",
      "bin_pitches     381485 non-null int64\n",
      "dtypes: float64(23), int64(1)\n",
      "memory usage: 72.8 MB\n"
     ]
    }
   ],
   "source": [
    "final_df.info()"
   ]
  },
  {
   "cell_type": "code",
   "execution_count": 38,
   "metadata": {
    "collapsed": true,
    "jupyter": {
     "outputs_hidden": true
    }
   },
   "outputs": [
    {
     "data": {
      "text/plain": [
       "(381485, 24)"
      ]
     },
     "execution_count": 38,
     "metadata": {},
     "output_type": "execute_result"
    }
   ],
   "source": [
    "final_df.shape"
   ]
  },
  {
   "cell_type": "code",
   "execution_count": 39,
   "metadata": {
    "collapsed": true,
    "jupyter": {
     "outputs_hidden": true
    }
   },
   "outputs": [
    {
     "data": {
      "text/plain": [
       "bin_pitches\n",
       "0    [[AxesSubplot(0.125,0.758226;0.125x0.121774), ...\n",
       "1    [[AxesSubplot(0.125,0.758226;0.125x0.121774), ...\n",
       "2    [[AxesSubplot(0.125,0.758226;0.125x0.121774), ...\n",
       "dtype: object"
      ]
     },
     "execution_count": 39,
     "metadata": {},
     "output_type": "execute_result"
    },
    {
     "data": {
      "image/png": "[encoded data removed]",
      "text/plain": [
       "<Figure size 1080x1440 with 25 Axes>"
      ]
     },
     "metadata": {
      "needs_background": "light"
     },
     "output_type": "display_data"
    }
   ],
   "source": [
    "# visualize distribution of features again\n",
    "\n",
    "fig = plt.figure(figsize = (15,20))\n",
    "ax = fig.gca()\n",
    "final_df.groupby('bin_pitches').hist(ax=ax)"
   ]
  },
  {
   "cell_type": "code",
   "execution_count": 40,
   "metadata": {},
   "outputs": [],
   "source": [
    "# set features variable\n",
    "\n",
    "features = final_df.drop(['bin_pitches'], axis=1)"
   ]
  },
  {
   "cell_type": "code",
   "execution_count": 41,
   "metadata": {
    "collapsed": true,
    "jupyter": {
     "outputs_hidden": true
    }
   },
   "outputs": [
    {
     "data": {
      "text/html": [
       "<div>\n",
       "<style scoped>\n",
       "    .dataframe tbody tr th:only-of-type {\n",
       "        vertical-align: middle;\n",
       "    }\n",
       "\n",
       "    .dataframe tbody tr th {\n",
       "        vertical-align: top;\n",
       "    }\n",
       "\n",
       "    .dataframe thead th {\n",
       "        text-align: right;\n",
       "    }\n",
       "</style>\n",
       "<table border=\"1\" class=\"dataframe\">\n",
       "  <thead>\n",
       "    <tr style=\"text-align: right;\">\n",
       "      <th></th>\n",
       "      <th>px</th>\n",
       "      <th>pz</th>\n",
       "      <th>start_speed</th>\n",
       "      <th>end_speed</th>\n",
       "      <th>spin_rate</th>\n",
       "      <th>spin_dir</th>\n",
       "      <th>break_angle</th>\n",
       "      <th>break_length</th>\n",
       "      <th>break_y</th>\n",
       "      <th>ax</th>\n",
       "      <th>...</th>\n",
       "      <th>vy0</th>\n",
       "      <th>vz0</th>\n",
       "      <th>x</th>\n",
       "      <th>x0</th>\n",
       "      <th>y</th>\n",
       "      <th>z0</th>\n",
       "      <th>pfx_x</th>\n",
       "      <th>pfx_z</th>\n",
       "      <th>nasty</th>\n",
       "      <th>zone</th>\n",
       "    </tr>\n",
       "  </thead>\n",
       "  <tbody>\n",
       "    <tr>\n",
       "      <td>2142710</td>\n",
       "      <td>0.239615</td>\n",
       "      <td>1.848781</td>\n",
       "      <td>93.7</td>\n",
       "      <td>84.5</td>\n",
       "      <td>2632.270</td>\n",
       "      <td>233.718</td>\n",
       "      <td>43.7</td>\n",
       "      <td>5.8</td>\n",
       "      <td>23.7</td>\n",
       "      <td>-19.911162</td>\n",
       "      <td>...</td>\n",
       "      <td>-136.134526</td>\n",
       "      <td>-7.015046</td>\n",
       "      <td>107.87</td>\n",
       "      <td>-0.869064</td>\n",
       "      <td>188.86</td>\n",
       "      <td>5.696240</td>\n",
       "      <td>-10.721801</td>\n",
       "      <td>7.870604</td>\n",
       "      <td>46.0</td>\n",
       "      <td>9.0</td>\n",
       "    </tr>\n",
       "    <tr>\n",
       "      <td>2142711</td>\n",
       "      <td>-0.804047</td>\n",
       "      <td>0.925201</td>\n",
       "      <td>94.0</td>\n",
       "      <td>85.8</td>\n",
       "      <td>2561.181</td>\n",
       "      <td>236.246</td>\n",
       "      <td>42.7</td>\n",
       "      <td>6.1</td>\n",
       "      <td>23.8</td>\n",
       "      <td>-20.043108</td>\n",
       "      <td>...</td>\n",
       "      <td>-136.551337</td>\n",
       "      <td>-9.145946</td>\n",
       "      <td>147.65</td>\n",
       "      <td>-0.942066</td>\n",
       "      <td>213.84</td>\n",
       "      <td>5.617264</td>\n",
       "      <td>-10.647298</td>\n",
       "      <td>7.115135</td>\n",
       "      <td>46.0</td>\n",
       "      <td>13.0</td>\n",
       "    </tr>\n",
       "    <tr>\n",
       "      <td>2142712</td>\n",
       "      <td>0.598637</td>\n",
       "      <td>1.616677</td>\n",
       "      <td>94.7</td>\n",
       "      <td>86.5</td>\n",
       "      <td>2673.854</td>\n",
       "      <td>237.996</td>\n",
       "      <td>44.4</td>\n",
       "      <td>6.0</td>\n",
       "      <td>23.8</td>\n",
       "      <td>-21.510485</td>\n",
       "      <td>...</td>\n",
       "      <td>-137.628790</td>\n",
       "      <td>-7.507958</td>\n",
       "      <td>94.10</td>\n",
       "      <td>-0.705522</td>\n",
       "      <td>195.28</td>\n",
       "      <td>5.646685</td>\n",
       "      <td>-11.206094</td>\n",
       "      <td>7.003230</td>\n",
       "      <td>53.0</td>\n",
       "      <td>9.0</td>\n",
       "    </tr>\n",
       "    <tr>\n",
       "      <td>2142713</td>\n",
       "      <td>1.453223</td>\n",
       "      <td>1.466314</td>\n",
       "      <td>82.3</td>\n",
       "      <td>76.7</td>\n",
       "      <td>959.909</td>\n",
       "      <td>38.861</td>\n",
       "      <td>-8.2</td>\n",
       "      <td>10.8</td>\n",
       "      <td>23.9</td>\n",
       "      <td>4.974062</td>\n",
       "      <td>...</td>\n",
       "      <td>-119.812434</td>\n",
       "      <td>-2.125677</td>\n",
       "      <td>61.60</td>\n",
       "      <td>-0.732282</td>\n",
       "      <td>199.22</td>\n",
       "      <td>5.768441</td>\n",
       "      <td>3.397188</td>\n",
       "      <td>-4.215796</td>\n",
       "      <td>22.0</td>\n",
       "      <td>14.0</td>\n",
       "    </tr>\n",
       "    <tr>\n",
       "      <td>2142714</td>\n",
       "      <td>-0.427914</td>\n",
       "      <td>2.490041</td>\n",
       "      <td>95.4</td>\n",
       "      <td>87.1</td>\n",
       "      <td>2408.148</td>\n",
       "      <td>241.080</td>\n",
       "      <td>40.9</td>\n",
       "      <td>6.1</td>\n",
       "      <td>23.8</td>\n",
       "      <td>-20.172978</td>\n",
       "      <td>...</td>\n",
       "      <td>-138.845494</td>\n",
       "      <td>-5.049660</td>\n",
       "      <td>133.31</td>\n",
       "      <td>-0.802268</td>\n",
       "      <td>171.57</td>\n",
       "      <td>5.726734</td>\n",
       "      <td>-10.308374</td>\n",
       "      <td>5.695114</td>\n",
       "      <td>36.0</td>\n",
       "      <td>4.0</td>\n",
       "    </tr>\n",
       "    <tr>\n",
       "      <td>...</td>\n",
       "      <td>...</td>\n",
       "      <td>...</td>\n",
       "      <td>...</td>\n",
       "      <td>...</td>\n",
       "      <td>...</td>\n",
       "      <td>...</td>\n",
       "      <td>...</td>\n",
       "      <td>...</td>\n",
       "      <td>...</td>\n",
       "      <td>...</td>\n",
       "      <td>...</td>\n",
       "      <td>...</td>\n",
       "      <td>...</td>\n",
       "      <td>...</td>\n",
       "      <td>...</td>\n",
       "      <td>...</td>\n",
       "      <td>...</td>\n",
       "      <td>...</td>\n",
       "      <td>...</td>\n",
       "      <td>...</td>\n",
       "      <td>...</td>\n",
       "    </tr>\n",
       "    <tr>\n",
       "      <td>2867132</td>\n",
       "      <td>-0.212890</td>\n",
       "      <td>1.587859</td>\n",
       "      <td>80.0</td>\n",
       "      <td>74.0</td>\n",
       "      <td>1209.602</td>\n",
       "      <td>327.322</td>\n",
       "      <td>7.9</td>\n",
       "      <td>12.2</td>\n",
       "      <td>23.9</td>\n",
       "      <td>-5.233581</td>\n",
       "      <td>...</td>\n",
       "      <td>-116.256407</td>\n",
       "      <td>-1.584788</td>\n",
       "      <td>125.12</td>\n",
       "      <td>1.490938</td>\n",
       "      <td>195.93</td>\n",
       "      <td>6.118648</td>\n",
       "      <td>-3.837512</td>\n",
       "      <td>-5.982271</td>\n",
       "      <td>36.0</td>\n",
       "      <td>13.0</td>\n",
       "    </tr>\n",
       "    <tr>\n",
       "      <td>2867134</td>\n",
       "      <td>-1.054564</td>\n",
       "      <td>0.142382</td>\n",
       "      <td>84.7</td>\n",
       "      <td>78.0</td>\n",
       "      <td>588.915</td>\n",
       "      <td>239.158</td>\n",
       "      <td>11.0</td>\n",
       "      <td>8.3</td>\n",
       "      <td>23.9</td>\n",
       "      <td>-4.283495</td>\n",
       "      <td>...</td>\n",
       "      <td>-122.902936</td>\n",
       "      <td>-5.315316</td>\n",
       "      <td>157.20</td>\n",
       "      <td>3.340541</td>\n",
       "      <td>234.94</td>\n",
       "      <td>4.848164</td>\n",
       "      <td>-2.800499</td>\n",
       "      <td>1.672213</td>\n",
       "      <td>36.0</td>\n",
       "      <td>13.0</td>\n",
       "    </tr>\n",
       "    <tr>\n",
       "      <td>2867139</td>\n",
       "      <td>0.676805</td>\n",
       "      <td>3.487355</td>\n",
       "      <td>83.0</td>\n",
       "      <td>77.0</td>\n",
       "      <td>447.145</td>\n",
       "      <td>225.040</td>\n",
       "      <td>7.0</td>\n",
       "      <td>7.9</td>\n",
       "      <td>23.9</td>\n",
       "      <td>-2.635429</td>\n",
       "      <td>...</td>\n",
       "      <td>-120.838586</td>\n",
       "      <td>2.278726</td>\n",
       "      <td>91.20</td>\n",
       "      <td>3.529359</td>\n",
       "      <td>144.63</td>\n",
       "      <td>5.094116</td>\n",
       "      <td>-1.748581</td>\n",
       "      <td>1.746085</td>\n",
       "      <td>49.0</td>\n",
       "      <td>12.0</td>\n",
       "    </tr>\n",
       "    <tr>\n",
       "      <td>2867141</td>\n",
       "      <td>-0.107080</td>\n",
       "      <td>0.886212</td>\n",
       "      <td>84.3</td>\n",
       "      <td>78.4</td>\n",
       "      <td>436.328</td>\n",
       "      <td>198.885</td>\n",
       "      <td>4.6</td>\n",
       "      <td>7.7</td>\n",
       "      <td>23.9</td>\n",
       "      <td>-1.194240</td>\n",
       "      <td>...</td>\n",
       "      <td>-122.670151</td>\n",
       "      <td>-3.970365</td>\n",
       "      <td>121.07</td>\n",
       "      <td>3.237666</td>\n",
       "      <td>214.77</td>\n",
       "      <td>4.933055</td>\n",
       "      <td>-0.772864</td>\n",
       "      <td>2.259083</td>\n",
       "      <td>42.0</td>\n",
       "      <td>13.0</td>\n",
       "    </tr>\n",
       "    <tr>\n",
       "      <td>2867149</td>\n",
       "      <td>0.230280</td>\n",
       "      <td>1.784910</td>\n",
       "      <td>83.9</td>\n",
       "      <td>78.2</td>\n",
       "      <td>608.594</td>\n",
       "      <td>275.800</td>\n",
       "      <td>10.5</td>\n",
       "      <td>8.8</td>\n",
       "      <td>23.9</td>\n",
       "      <td>-5.097492</td>\n",
       "      <td>...</td>\n",
       "      <td>-122.140540</td>\n",
       "      <td>-0.859601</td>\n",
       "      <td>108.22</td>\n",
       "      <td>3.502933</td>\n",
       "      <td>190.58</td>\n",
       "      <td>4.912177</td>\n",
       "      <td>-3.319733</td>\n",
       "      <td>-0.337153</td>\n",
       "      <td>27.0</td>\n",
       "      <td>8.0</td>\n",
       "    </tr>\n",
       "  </tbody>\n",
       "</table>\n",
       "<p>365723 rows × 23 columns</p>\n",
       "</div>"
      ],
      "text/plain": [
       "               px        pz  start_speed  end_speed  spin_rate  spin_dir  \\\n",
       "2142710  0.239615  1.848781         93.7       84.5   2632.270   233.718   \n",
       "2142711 -0.804047  0.925201         94.0       85.8   2561.181   236.246   \n",
       "2142712  0.598637  1.616677         94.7       86.5   2673.854   237.996   \n",
       "2142713  1.453223  1.466314         82.3       76.7    959.909    38.861   \n",
       "2142714 -0.427914  2.490041         95.4       87.1   2408.148   241.080   \n",
       "...           ...       ...          ...        ...        ...       ...   \n",
       "2867132 -0.212890  1.587859         80.0       74.0   1209.602   327.322   \n",
       "2867134 -1.054564  0.142382         84.7       78.0    588.915   239.158   \n",
       "2867139  0.676805  3.487355         83.0       77.0    447.145   225.040   \n",
       "2867141 -0.107080  0.886212         84.3       78.4    436.328   198.885   \n",
       "2867149  0.230280  1.784910         83.9       78.2    608.594   275.800   \n",
       "\n",
       "         break_angle  break_length  break_y         ax  ...         vy0  \\\n",
       "2142710         43.7           5.8     23.7 -19.911162  ... -136.134526   \n",
       "2142711         42.7           6.1     23.8 -20.043108  ... -136.551337   \n",
       "2142712         44.4           6.0     23.8 -21.510485  ... -137.628790   \n",
       "2142713         -8.2          10.8     23.9   4.974062  ... -119.812434   \n",
       "2142714         40.9           6.1     23.8 -20.172978  ... -138.845494   \n",
       "...              ...           ...      ...        ...  ...         ...   \n",
       "2867132          7.9          12.2     23.9  -5.233581  ... -116.256407   \n",
       "2867134         11.0           8.3     23.9  -4.283495  ... -122.902936   \n",
       "2867139          7.0           7.9     23.9  -2.635429  ... -120.838586   \n",
       "2867141          4.6           7.7     23.9  -1.194240  ... -122.670151   \n",
       "2867149         10.5           8.8     23.9  -5.097492  ... -122.140540   \n",
       "\n",
       "              vz0       x        x0       y        z0      pfx_x     pfx_z  \\\n",
       "2142710 -7.015046  107.87 -0.869064  188.86  5.696240 -10.721801  7.870604   \n",
       "2142711 -9.145946  147.65 -0.942066  213.84  5.617264 -10.647298  7.115135   \n",
       "2142712 -7.507958   94.10 -0.705522  195.28  5.646685 -11.206094  7.003230   \n",
       "2142713 -2.125677   61.60 -0.732282  199.22  5.768441   3.397188 -4.215796   \n",
       "2142714 -5.049660  133.31 -0.802268  171.57  5.726734 -10.308374  5.695114   \n",
       "...           ...     ...       ...     ...       ...        ...       ...   \n",
       "2867132 -1.584788  125.12  1.490938  195.93  6.118648  -3.837512 -5.982271   \n",
       "2867134 -5.315316  157.20  3.340541  234.94  4.848164  -2.800499  1.672213   \n",
       "2867139  2.278726   91.20  3.529359  144.63  5.094116  -1.748581  1.746085   \n",
       "2867141 -3.970365  121.07  3.237666  214.77  4.933055  -0.772864  2.259083   \n",
       "2867149 -0.859601  108.22  3.502933  190.58  4.912177  -3.319733 -0.337153   \n",
       "\n",
       "         nasty  zone  \n",
       "2142710   46.0   9.0  \n",
       "2142711   46.0  13.0  \n",
       "2142712   53.0   9.0  \n",
       "2142713   22.0  14.0  \n",
       "2142714   36.0   4.0  \n",
       "...        ...   ...  \n",
       "2867132   36.0  13.0  \n",
       "2867134   36.0  13.0  \n",
       "2867139   49.0  12.0  \n",
       "2867141   42.0  13.0  \n",
       "2867149   27.0   8.0  \n",
       "\n",
       "[365723 rows x 23 columns]"
      ]
     },
     "execution_count": 41,
     "metadata": {},
     "output_type": "execute_result"
    }
   ],
   "source": [
    "# drop outliers in features\n",
    "\n",
    "features[(np.abs(stats.zscore(final_df)) < 3).all(axis=1)]"
   ]
  },
  {
   "cell_type": "code",
   "execution_count": 42,
   "metadata": {},
   "outputs": [
    {
     "data": {
      "text/plain": [
       "(381485, 24)"
      ]
     },
     "execution_count": 42,
     "metadata": {},
     "output_type": "execute_result"
    }
   ],
   "source": [
    "final_df.shape"
   ]
  },
  {
   "cell_type": "markdown",
   "metadata": {},
   "source": [
    "# Train_Test Split"
   ]
  },
  {
   "cell_type": "code",
   "execution_count": 43,
   "metadata": {},
   "outputs": [],
   "source": [
    "X = features\n",
    "y = final_df['bin_pitches']\n",
    "X_train, X_test, y_train, y_test = train_test_split(X, y, test_size=0.3, random_state=2)"
   ]
  },
  {
   "cell_type": "code",
   "execution_count": 44,
   "metadata": {},
   "outputs": [
    {
     "data": {
      "text/plain": [
       "((267039, 23), (267039,), (114446, 23))"
      ]
     },
     "execution_count": 44,
     "metadata": {},
     "output_type": "execute_result"
    }
   ],
   "source": [
    "X_train.shape, y_train.shape, X_test.shape"
   ]
  },
  {
   "cell_type": "code",
   "execution_count": 45,
   "metadata": {},
   "outputs": [],
   "source": [
    "X_train = X_train.select_dtypes(include='float')"
   ]
  },
  {
   "cell_type": "markdown",
   "metadata": {},
   "source": [
    "### Reduce memory usage"
   ]
  },
  {
   "cell_type": "code",
   "execution_count": 46,
   "metadata": {},
   "outputs": [],
   "source": [
    "def reduce_mem_usage(df, verbose=True):\n",
    "    numerics = ['int16', 'int32', 'int64', 'float16', 'float32', 'float64']\n",
    "    start_mem = df.memory_usage().sum() / 1024**2    \n",
    "    for col in df.columns:\n",
    "        col_type = df[col].dtypes\n",
    "        if col_type in numerics:\n",
    "            c_min = df[col].min()\n",
    "            c_max = df[col].max()\n",
    "            if str(col_type)[:3] == 'int':\n",
    "                if c_min > np.iinfo(np.int8).min and c_max < np.iinfo(np.int8).max:\n",
    "                    df[col] = df[col].astype(np.int8)\n",
    "                elif c_min > np.iinfo(np.int16).min and c_max < np.iinfo(np.int16).max:\n",
    "                    df[col] = df[col].astype(np.int16)\n",
    "                elif c_min > np.iinfo(np.int32).min and c_max < np.iinfo(np.int32).max:\n",
    "                    df[col] = df[col].astype(np.int32)\n",
    "                elif c_min > np.iinfo(np.int64).min and c_max < np.iinfo(np.int64).max:\n",
    "                    df[col] = df[col].astype(np.int64)  \n",
    "            else:\n",
    "                if c_min > np.finfo(np.float16).min and c_max < np.finfo(np.float16).max:\n",
    "                    df[col] = df[col].astype(np.float16)\n",
    "                elif c_min > np.finfo(np.float32).min and c_max < np.finfo(np.float32).max:\n",
    "                    df[col] = df[col].astype(np.float32)\n",
    "                else:\n",
    "                    df[col] = df[col].astype(np.float64)    \n",
    "    end_mem = df.memory_usage().sum() / 1024**2\n",
    "    if verbose: print('Mem. usage decreased to {:5.2f} Mb ({:.1f}% reduction)'.format(end_mem, 100 * (start_mem - end_mem) / start_mem))\n",
    "    return df"
   ]
  },
  {
   "cell_type": "code",
   "execution_count": 47,
   "metadata": {
    "collapsed": true,
    "jupyter": {
     "outputs_hidden": true
    }
   },
   "outputs": [
    {
     "name": "stdout",
     "output_type": "stream",
     "text": [
      "Mem. usage decreased to 13.75 Mb (71.9% reduction)\n"
     ]
    },
    {
     "data": {
      "text/html": [
       "<div>\n",
       "<style scoped>\n",
       "    .dataframe tbody tr th:only-of-type {\n",
       "        vertical-align: middle;\n",
       "    }\n",
       "\n",
       "    .dataframe tbody tr th {\n",
       "        vertical-align: top;\n",
       "    }\n",
       "\n",
       "    .dataframe thead th {\n",
       "        text-align: right;\n",
       "    }\n",
       "</style>\n",
       "<table border=\"1\" class=\"dataframe\">\n",
       "  <thead>\n",
       "    <tr style=\"text-align: right;\">\n",
       "      <th></th>\n",
       "      <th>px</th>\n",
       "      <th>pz</th>\n",
       "      <th>start_speed</th>\n",
       "      <th>end_speed</th>\n",
       "      <th>spin_rate</th>\n",
       "      <th>spin_dir</th>\n",
       "      <th>break_angle</th>\n",
       "      <th>break_length</th>\n",
       "      <th>break_y</th>\n",
       "      <th>ax</th>\n",
       "      <th>...</th>\n",
       "      <th>vy0</th>\n",
       "      <th>vz0</th>\n",
       "      <th>x</th>\n",
       "      <th>x0</th>\n",
       "      <th>y</th>\n",
       "      <th>z0</th>\n",
       "      <th>pfx_x</th>\n",
       "      <th>pfx_z</th>\n",
       "      <th>nasty</th>\n",
       "      <th>zone</th>\n",
       "    </tr>\n",
       "  </thead>\n",
       "  <tbody>\n",
       "    <tr>\n",
       "      <td>2605677</td>\n",
       "      <td>0.233276</td>\n",
       "      <td>2.427734</td>\n",
       "      <td>71.8750</td>\n",
       "      <td>66.8750</td>\n",
       "      <td>1182.0</td>\n",
       "      <td>334.75000</td>\n",
       "      <td>6.101562</td>\n",
       "      <td>14.500000</td>\n",
       "      <td>23.906250</td>\n",
       "      <td>-3.646484</td>\n",
       "      <td>...</td>\n",
       "      <td>-104.4375</td>\n",
       "      <td>2.447266</td>\n",
       "      <td>108.1250</td>\n",
       "      <td>2.705078</td>\n",
       "      <td>173.250</td>\n",
       "      <td>5.910156</td>\n",
       "      <td>-3.285156</td>\n",
       "      <td>-6.929688</td>\n",
       "      <td>30.0</td>\n",
       "      <td>5.0</td>\n",
       "    </tr>\n",
       "    <tr>\n",
       "      <td>2291133</td>\n",
       "      <td>-0.641113</td>\n",
       "      <td>2.660156</td>\n",
       "      <td>89.5000</td>\n",
       "      <td>82.3125</td>\n",
       "      <td>1805.0</td>\n",
       "      <td>224.37500</td>\n",
       "      <td>25.593750</td>\n",
       "      <td>5.601562</td>\n",
       "      <td>23.796875</td>\n",
       "      <td>-11.328125</td>\n",
       "      <td>...</td>\n",
       "      <td>-130.2500</td>\n",
       "      <td>-4.175781</td>\n",
       "      <td>141.5000</td>\n",
       "      <td>-1.916992</td>\n",
       "      <td>167.000</td>\n",
       "      <td>5.828125</td>\n",
       "      <td>-6.558594</td>\n",
       "      <td>6.710938</td>\n",
       "      <td>49.0</td>\n",
       "      <td>4.0</td>\n",
       "    </tr>\n",
       "    <tr>\n",
       "      <td>2471563</td>\n",
       "      <td>-0.230835</td>\n",
       "      <td>2.167969</td>\n",
       "      <td>93.0000</td>\n",
       "      <td>86.0000</td>\n",
       "      <td>1124.0</td>\n",
       "      <td>198.62500</td>\n",
       "      <td>4.800781</td>\n",
       "      <td>5.000000</td>\n",
       "      <td>23.906250</td>\n",
       "      <td>-3.335938</td>\n",
       "      <td>...</td>\n",
       "      <td>-135.2500</td>\n",
       "      <td>-5.300781</td>\n",
       "      <td>125.8125</td>\n",
       "      <td>-2.806641</td>\n",
       "      <td>180.250</td>\n",
       "      <td>5.691406</td>\n",
       "      <td>-1.782227</td>\n",
       "      <td>5.308594</td>\n",
       "      <td>27.0</td>\n",
       "      <td>5.0</td>\n",
       "    </tr>\n",
       "    <tr>\n",
       "      <td>2425192</td>\n",
       "      <td>-0.201660</td>\n",
       "      <td>2.546875</td>\n",
       "      <td>82.3750</td>\n",
       "      <td>76.0000</td>\n",
       "      <td>554.0</td>\n",
       "      <td>119.31250</td>\n",
       "      <td>-7.199219</td>\n",
       "      <td>8.398438</td>\n",
       "      <td>23.796875</td>\n",
       "      <td>3.998047</td>\n",
       "      <td>...</td>\n",
       "      <td>-120.0625</td>\n",
       "      <td>-1.821289</td>\n",
       "      <td>124.6875</td>\n",
       "      <td>-0.192017</td>\n",
       "      <td>170.000</td>\n",
       "      <td>5.964844</td>\n",
       "      <td>2.724609</td>\n",
       "      <td>1.529297</td>\n",
       "      <td>48.0</td>\n",
       "      <td>5.0</td>\n",
       "    </tr>\n",
       "    <tr>\n",
       "      <td>2327306</td>\n",
       "      <td>0.689941</td>\n",
       "      <td>2.246094</td>\n",
       "      <td>81.8125</td>\n",
       "      <td>75.3125</td>\n",
       "      <td>678.0</td>\n",
       "      <td>197.37500</td>\n",
       "      <td>1.700195</td>\n",
       "      <td>7.898438</td>\n",
       "      <td>23.796875</td>\n",
       "      <td>-1.660156</td>\n",
       "      <td>...</td>\n",
       "      <td>-118.8750</td>\n",
       "      <td>-4.273438</td>\n",
       "      <td>90.6875</td>\n",
       "      <td>-1.199219</td>\n",
       "      <td>178.125</td>\n",
       "      <td>6.511719</td>\n",
       "      <td>-1.162109</td>\n",
       "      <td>3.708984</td>\n",
       "      <td>35.0</td>\n",
       "      <td>6.0</td>\n",
       "    </tr>\n",
       "    <tr>\n",
       "      <td>...</td>\n",
       "      <td>...</td>\n",
       "      <td>...</td>\n",
       "      <td>...</td>\n",
       "      <td>...</td>\n",
       "      <td>...</td>\n",
       "      <td>...</td>\n",
       "      <td>...</td>\n",
       "      <td>...</td>\n",
       "      <td>...</td>\n",
       "      <td>...</td>\n",
       "      <td>...</td>\n",
       "      <td>...</td>\n",
       "      <td>...</td>\n",
       "      <td>...</td>\n",
       "      <td>...</td>\n",
       "      <td>...</td>\n",
       "      <td>...</td>\n",
       "      <td>...</td>\n",
       "      <td>...</td>\n",
       "      <td>...</td>\n",
       "      <td>...</td>\n",
       "    </tr>\n",
       "    <tr>\n",
       "      <td>2304265</td>\n",
       "      <td>0.307373</td>\n",
       "      <td>1.084961</td>\n",
       "      <td>80.3125</td>\n",
       "      <td>74.6250</td>\n",
       "      <td>1157.0</td>\n",
       "      <td>22.21875</td>\n",
       "      <td>-5.199219</td>\n",
       "      <td>12.203125</td>\n",
       "      <td>23.906250</td>\n",
       "      <td>3.517578</td>\n",
       "      <td>...</td>\n",
       "      <td>-116.6250</td>\n",
       "      <td>-3.654297</td>\n",
       "      <td>105.3125</td>\n",
       "      <td>-0.716309</td>\n",
       "      <td>209.500</td>\n",
       "      <td>6.515625</td>\n",
       "      <td>2.552734</td>\n",
       "      <td>-6.250000</td>\n",
       "      <td>13.0</td>\n",
       "      <td>14.0</td>\n",
       "    </tr>\n",
       "    <tr>\n",
       "      <td>2325897</td>\n",
       "      <td>0.110474</td>\n",
       "      <td>3.785156</td>\n",
       "      <td>87.8125</td>\n",
       "      <td>80.1250</td>\n",
       "      <td>1715.0</td>\n",
       "      <td>247.75000</td>\n",
       "      <td>25.296875</td>\n",
       "      <td>7.101562</td>\n",
       "      <td>23.796875</td>\n",
       "      <td>-13.960938</td>\n",
       "      <td>...</td>\n",
       "      <td>-127.6250</td>\n",
       "      <td>1.147461</td>\n",
       "      <td>112.8125</td>\n",
       "      <td>-1.992188</td>\n",
       "      <td>136.625</td>\n",
       "      <td>5.410156</td>\n",
       "      <td>-8.437500</td>\n",
       "      <td>3.457031</td>\n",
       "      <td>42.0</td>\n",
       "      <td>12.0</td>\n",
       "    </tr>\n",
       "    <tr>\n",
       "      <td>2531860</td>\n",
       "      <td>0.348877</td>\n",
       "      <td>0.850586</td>\n",
       "      <td>85.3750</td>\n",
       "      <td>78.6875</td>\n",
       "      <td>1943.0</td>\n",
       "      <td>233.87500</td>\n",
       "      <td>27.000000</td>\n",
       "      <td>6.898438</td>\n",
       "      <td>23.796875</td>\n",
       "      <td>-13.414062</td>\n",
       "      <td>...</td>\n",
       "      <td>-124.0625</td>\n",
       "      <td>-6.855469</td>\n",
       "      <td>103.6875</td>\n",
       "      <td>-1.595703</td>\n",
       "      <td>215.750</td>\n",
       "      <td>5.507812</td>\n",
       "      <td>-8.585938</td>\n",
       "      <td>6.281250</td>\n",
       "      <td>22.0</td>\n",
       "      <td>14.0</td>\n",
       "    </tr>\n",
       "    <tr>\n",
       "      <td>2335806</td>\n",
       "      <td>0.661621</td>\n",
       "      <td>0.875000</td>\n",
       "      <td>83.1875</td>\n",
       "      <td>77.8125</td>\n",
       "      <td>754.0</td>\n",
       "      <td>165.00000</td>\n",
       "      <td>-5.000000</td>\n",
       "      <td>7.300781</td>\n",
       "      <td>23.906250</td>\n",
       "      <td>1.628906</td>\n",
       "      <td>...</td>\n",
       "      <td>-121.0000</td>\n",
       "      <td>-7.023438</td>\n",
       "      <td>91.7500</td>\n",
       "      <td>-1.706055</td>\n",
       "      <td>215.125</td>\n",
       "      <td>6.058594</td>\n",
       "      <td>1.083008</td>\n",
       "      <td>4.039062</td>\n",
       "      <td>29.0</td>\n",
       "      <td>14.0</td>\n",
       "    </tr>\n",
       "    <tr>\n",
       "      <td>2811611</td>\n",
       "      <td>-0.567383</td>\n",
       "      <td>2.476562</td>\n",
       "      <td>89.0000</td>\n",
       "      <td>82.1250</td>\n",
       "      <td>761.0</td>\n",
       "      <td>162.37500</td>\n",
       "      <td>-6.898438</td>\n",
       "      <td>6.300781</td>\n",
       "      <td>23.796875</td>\n",
       "      <td>2.062500</td>\n",
       "      <td>...</td>\n",
       "      <td>-129.5000</td>\n",
       "      <td>-3.748047</td>\n",
       "      <td>138.6250</td>\n",
       "      <td>-3.113281</td>\n",
       "      <td>171.875</td>\n",
       "      <td>5.898438</td>\n",
       "      <td>1.208984</td>\n",
       "      <td>3.792969</td>\n",
       "      <td>59.0</td>\n",
       "      <td>4.0</td>\n",
       "    </tr>\n",
       "  </tbody>\n",
       "</table>\n",
       "<p>267039 rows × 23 columns</p>\n",
       "</div>"
      ],
      "text/plain": [
       "               px        pz  start_speed  end_speed  spin_rate   spin_dir  \\\n",
       "2605677  0.233276  2.427734      71.8750    66.8750     1182.0  334.75000   \n",
       "2291133 -0.641113  2.660156      89.5000    82.3125     1805.0  224.37500   \n",
       "2471563 -0.230835  2.167969      93.0000    86.0000     1124.0  198.62500   \n",
       "2425192 -0.201660  2.546875      82.3750    76.0000      554.0  119.31250   \n",
       "2327306  0.689941  2.246094      81.8125    75.3125      678.0  197.37500   \n",
       "...           ...       ...          ...        ...        ...        ...   \n",
       "2304265  0.307373  1.084961      80.3125    74.6250     1157.0   22.21875   \n",
       "2325897  0.110474  3.785156      87.8125    80.1250     1715.0  247.75000   \n",
       "2531860  0.348877  0.850586      85.3750    78.6875     1943.0  233.87500   \n",
       "2335806  0.661621  0.875000      83.1875    77.8125      754.0  165.00000   \n",
       "2811611 -0.567383  2.476562      89.0000    82.1250      761.0  162.37500   \n",
       "\n",
       "         break_angle  break_length    break_y         ax  ...       vy0  \\\n",
       "2605677     6.101562     14.500000  23.906250  -3.646484  ... -104.4375   \n",
       "2291133    25.593750      5.601562  23.796875 -11.328125  ... -130.2500   \n",
       "2471563     4.800781      5.000000  23.906250  -3.335938  ... -135.2500   \n",
       "2425192    -7.199219      8.398438  23.796875   3.998047  ... -120.0625   \n",
       "2327306     1.700195      7.898438  23.796875  -1.660156  ... -118.8750   \n",
       "...              ...           ...        ...        ...  ...       ...   \n",
       "2304265    -5.199219     12.203125  23.906250   3.517578  ... -116.6250   \n",
       "2325897    25.296875      7.101562  23.796875 -13.960938  ... -127.6250   \n",
       "2531860    27.000000      6.898438  23.796875 -13.414062  ... -124.0625   \n",
       "2335806    -5.000000      7.300781  23.906250   1.628906  ... -121.0000   \n",
       "2811611    -6.898438      6.300781  23.796875   2.062500  ... -129.5000   \n",
       "\n",
       "              vz0         x        x0        y        z0     pfx_x     pfx_z  \\\n",
       "2605677  2.447266  108.1250  2.705078  173.250  5.910156 -3.285156 -6.929688   \n",
       "2291133 -4.175781  141.5000 -1.916992  167.000  5.828125 -6.558594  6.710938   \n",
       "2471563 -5.300781  125.8125 -2.806641  180.250  5.691406 -1.782227  5.308594   \n",
       "2425192 -1.821289  124.6875 -0.192017  170.000  5.964844  2.724609  1.529297   \n",
       "2327306 -4.273438   90.6875 -1.199219  178.125  6.511719 -1.162109  3.708984   \n",
       "...           ...       ...       ...      ...       ...       ...       ...   \n",
       "2304265 -3.654297  105.3125 -0.716309  209.500  6.515625  2.552734 -6.250000   \n",
       "2325897  1.147461  112.8125 -1.992188  136.625  5.410156 -8.437500  3.457031   \n",
       "2531860 -6.855469  103.6875 -1.595703  215.750  5.507812 -8.585938  6.281250   \n",
       "2335806 -7.023438   91.7500 -1.706055  215.125  6.058594  1.083008  4.039062   \n",
       "2811611 -3.748047  138.6250 -3.113281  171.875  5.898438  1.208984  3.792969   \n",
       "\n",
       "         nasty  zone  \n",
       "2605677   30.0   5.0  \n",
       "2291133   49.0   4.0  \n",
       "2471563   27.0   5.0  \n",
       "2425192   48.0   5.0  \n",
       "2327306   35.0   6.0  \n",
       "...        ...   ...  \n",
       "2304265   13.0  14.0  \n",
       "2325897   42.0  12.0  \n",
       "2531860   22.0  14.0  \n",
       "2335806   29.0  14.0  \n",
       "2811611   59.0   4.0  \n",
       "\n",
       "[267039 rows x 23 columns]"
      ]
     },
     "execution_count": 47,
     "metadata": {},
     "output_type": "execute_result"
    }
   ],
   "source": [
    "reduce_mem_usage(X_train)"
   ]
  },
  {
   "cell_type": "markdown",
   "metadata": {},
   "source": [
    "# Vanilla Models"
   ]
  },
  {
   "cell_type": "markdown",
   "metadata": {},
   "source": [
    "### Logistic Regression"
   ]
  },
  {
   "cell_type": "code",
   "execution_count": 48,
   "metadata": {},
   "outputs": [
    {
     "name": "stderr",
     "output_type": "stream",
     "text": [
      "/Users/jefflindberg/opt/anaconda3/envs/learn-env/lib/python3.6/site-packages/sklearn/linear_model/logistic.py:432: FutureWarning: Default solver will be changed to 'lbfgs' in 0.22. Specify a solver to silence this warning.\n",
      "  FutureWarning)\n",
      "/Users/jefflindberg/opt/anaconda3/envs/learn-env/lib/python3.6/site-packages/sklearn/linear_model/logistic.py:469: FutureWarning: Default multi_class will be changed to 'auto' in 0.22. Specify the multi_class option to silence this warning.\n",
      "  \"this warning.\", FutureWarning)\n"
     ]
    },
    {
     "name": "stdout",
     "output_type": "stream",
     "text": [
      "CPU times: user 49.7 s, sys: 1 s, total: 50.7 s\n",
      "Wall time: 51.7 s\n"
     ]
    }
   ],
   "source": [
    "%%time\n",
    "\n",
    "logreg = LogisticRegression()\n",
    "logreg.fit(X_train, y_train)\n",
    "y_hat_train_log = logreg.predict(X_train)"
   ]
  },
  {
   "cell_type": "code",
   "execution_count": 49,
   "metadata": {},
   "outputs": [
    {
     "name": "stdout",
     "output_type": "stream",
     "text": [
      "Accuracy: 0.8637801969000782\n",
      "Precision: 0.8637801969000782\n",
      "Recall: 0.8413706483783115\n",
      "F1: 0.8629655908760525\n"
     ]
    }
   ],
   "source": [
    "log_acc = accuracy_score(y_train, y_hat_train_log)\n",
    "log_pre = precision_score(y_train, y_hat_train_log, average='micro')\n",
    "log_rec = recall_score(y_train, y_hat_train_log, average='macro')\n",
    "log_f1 = f1_score(y_train, y_hat_train_log, average='weighted')\n",
    "\n",
    "print(f'Accuracy: {log_acc}')\n",
    "print(f'Precision: {log_pre}')\n",
    "print(f'Recall: {log_rec}')\n",
    "print(f'F1: {log_f1}')"
   ]
  },
  {
   "cell_type": "code",
   "execution_count": 50,
   "metadata": {
    "collapsed": true,
    "jupyter": {
     "outputs_hidden": true
    }
   },
   "outputs": [
    {
     "name": "stderr",
     "output_type": "stream",
     "text": [
      "/Users/jefflindberg/opt/anaconda3/envs/learn-env/lib/python3.6/site-packages/sklearn/linear_model/logistic.py:432: FutureWarning: Default solver will be changed to 'lbfgs' in 0.22. Specify a solver to silence this warning.\n",
      "  FutureWarning)\n",
      "/Users/jefflindberg/opt/anaconda3/envs/learn-env/lib/python3.6/site-packages/sklearn/linear_model/logistic.py:469: FutureWarning: Default multi_class will be changed to 'auto' in 0.22. Specify the multi_class option to silence this warning.\n",
      "  \"this warning.\", FutureWarning)\n",
      "/Users/jefflindberg/opt/anaconda3/envs/learn-env/lib/python3.6/site-packages/sklearn/linear_model/logistic.py:432: FutureWarning: Default solver will be changed to 'lbfgs' in 0.22. Specify a solver to silence this warning.\n",
      "  FutureWarning)\n",
      "/Users/jefflindberg/opt/anaconda3/envs/learn-env/lib/python3.6/site-packages/sklearn/linear_model/logistic.py:469: FutureWarning: Default multi_class will be changed to 'auto' in 0.22. Specify the multi_class option to silence this warning.\n",
      "  \"this warning.\", FutureWarning)\n",
      "/Users/jefflindberg/opt/anaconda3/envs/learn-env/lib/python3.6/site-packages/sklearn/linear_model/logistic.py:432: FutureWarning: Default solver will be changed to 'lbfgs' in 0.22. Specify a solver to silence this warning.\n",
      "  FutureWarning)\n",
      "/Users/jefflindberg/opt/anaconda3/envs/learn-env/lib/python3.6/site-packages/sklearn/linear_model/logistic.py:469: FutureWarning: Default multi_class will be changed to 'auto' in 0.22. Specify the multi_class option to silence this warning.\n",
      "  \"this warning.\", FutureWarning)\n",
      "/Users/jefflindberg/opt/anaconda3/envs/learn-env/lib/python3.6/site-packages/sklearn/linear_model/logistic.py:432: FutureWarning: Default solver will be changed to 'lbfgs' in 0.22. Specify a solver to silence this warning.\n",
      "  FutureWarning)\n",
      "/Users/jefflindberg/opt/anaconda3/envs/learn-env/lib/python3.6/site-packages/sklearn/linear_model/logistic.py:469: FutureWarning: Default multi_class will be changed to 'auto' in 0.22. Specify the multi_class option to silence this warning.\n",
      "  \"this warning.\", FutureWarning)\n",
      "/Users/jefflindberg/opt/anaconda3/envs/learn-env/lib/python3.6/site-packages/sklearn/linear_model/logistic.py:432: FutureWarning: Default solver will be changed to 'lbfgs' in 0.22. Specify a solver to silence this warning.\n",
      "  FutureWarning)\n",
      "/Users/jefflindberg/opt/anaconda3/envs/learn-env/lib/python3.6/site-packages/sklearn/linear_model/logistic.py:469: FutureWarning: Default multi_class will be changed to 'auto' in 0.22. Specify the multi_class option to silence this warning.\n",
      "  \"this warning.\", FutureWarning)\n"
     ]
    },
    {
     "name": "stdout",
     "output_type": "stream",
     "text": [
      "CV5:  0.8637577020430036\n"
     ]
    }
   ],
   "source": [
    "log_cv = np.mean(cross_val_score(logreg, X_train, y_train, cv=5))\n",
    "print('CV5: ', log_cv)"
   ]
  },
  {
   "cell_type": "markdown",
   "metadata": {},
   "source": [
    "### Gaussian Naive Bayes"
   ]
  },
  {
   "cell_type": "code",
   "execution_count": 51,
   "metadata": {},
   "outputs": [
    {
     "name": "stderr",
     "output_type": "stream",
     "text": [
      "/Users/jefflindberg/opt/anaconda3/envs/learn-env/lib/python3.6/site-packages/numpy/core/_methods.py:183: RuntimeWarning: overflow encountered in reduce\n",
      "  arrmean = umr_sum(arr, axis, dtype, keepdims=True)\n",
      "/Users/jefflindberg/opt/anaconda3/envs/learn-env/lib/python3.6/site-packages/numpy/core/_methods.py:199: RuntimeWarning: overflow encountered in reduce\n",
      "  ret = umr_sum(x, axis, dtype, out, keepdims)\n"
     ]
    },
    {
     "name": "stdout",
     "output_type": "stream",
     "text": [
      "CPU times: user 883 ms, sys: 134 ms, total: 1.02 s\n",
      "Wall time: 987 ms\n"
     ]
    }
   ],
   "source": [
    "%%time\n",
    "\n",
    "gaussian = GaussianNB()\n",
    "gaussian.fit(X_train, y_train)\n",
    "y_hat_train_gnb = gaussian.predict(X_train)"
   ]
  },
  {
   "cell_type": "code",
   "execution_count": 52,
   "metadata": {},
   "outputs": [
    {
     "name": "stdout",
     "output_type": "stream",
     "text": [
      "Accuracy: 0.22258172027306872\n",
      "Precision: 0.22258172027306872\n",
      "Recall: 0.3333333333333333\n",
      "F1: 0.08104590699859811\n"
     ]
    },
    {
     "name": "stderr",
     "output_type": "stream",
     "text": [
      "/Users/jefflindberg/opt/anaconda3/envs/learn-env/lib/python3.6/site-packages/sklearn/metrics/classification.py:1437: UndefinedMetricWarning: F-score is ill-defined and being set to 0.0 in labels with no predicted samples.\n",
      "  'precision', 'predicted', average, warn_for)\n"
     ]
    }
   ],
   "source": [
    "gnb_acc = accuracy_score(y_train, y_hat_train_gnb)\n",
    "gnb_pre = precision_score(y_train, y_hat_train_gnb, average='micro')\n",
    "gnb_rec = recall_score(y_train, y_hat_train_gnb, average='macro')\n",
    "gnb_f1 = f1_score(y_train, y_hat_train_gnb, average='weighted')\n",
    "\n",
    "print(f'Accuracy: {gnb_acc}')\n",
    "print(f'Precision: {gnb_pre}')\n",
    "print(f'Recall: {gnb_rec}')\n",
    "print(f'F1: {gnb_f1}')"
   ]
  },
  {
   "cell_type": "code",
   "execution_count": 53,
   "metadata": {
    "collapsed": true,
    "jupyter": {
     "outputs_hidden": true
    }
   },
   "outputs": [
    {
     "name": "stderr",
     "output_type": "stream",
     "text": [
      "/Users/jefflindberg/opt/anaconda3/envs/learn-env/lib/python3.6/site-packages/numpy/core/_methods.py:183: RuntimeWarning: overflow encountered in reduce\n",
      "  arrmean = umr_sum(arr, axis, dtype, keepdims=True)\n",
      "/Users/jefflindberg/opt/anaconda3/envs/learn-env/lib/python3.6/site-packages/numpy/core/_methods.py:199: RuntimeWarning: overflow encountered in reduce\n",
      "  ret = umr_sum(x, axis, dtype, out, keepdims)\n",
      "/Users/jefflindberg/opt/anaconda3/envs/learn-env/lib/python3.6/site-packages/numpy/core/_methods.py:183: RuntimeWarning: overflow encountered in reduce\n",
      "  arrmean = umr_sum(arr, axis, dtype, keepdims=True)\n",
      "/Users/jefflindberg/opt/anaconda3/envs/learn-env/lib/python3.6/site-packages/numpy/core/_methods.py:199: RuntimeWarning: overflow encountered in reduce\n",
      "  ret = umr_sum(x, axis, dtype, out, keepdims)\n",
      "/Users/jefflindberg/opt/anaconda3/envs/learn-env/lib/python3.6/site-packages/numpy/core/_methods.py:183: RuntimeWarning: overflow encountered in reduce\n",
      "  arrmean = umr_sum(arr, axis, dtype, keepdims=True)\n",
      "/Users/jefflindberg/opt/anaconda3/envs/learn-env/lib/python3.6/site-packages/numpy/core/_methods.py:199: RuntimeWarning: overflow encountered in reduce\n",
      "  ret = umr_sum(x, axis, dtype, out, keepdims)\n",
      "/Users/jefflindberg/opt/anaconda3/envs/learn-env/lib/python3.6/site-packages/numpy/core/_methods.py:183: RuntimeWarning: overflow encountered in reduce\n",
      "  arrmean = umr_sum(arr, axis, dtype, keepdims=True)\n",
      "/Users/jefflindberg/opt/anaconda3/envs/learn-env/lib/python3.6/site-packages/numpy/core/_methods.py:199: RuntimeWarning: overflow encountered in reduce\n",
      "  ret = umr_sum(x, axis, dtype, out, keepdims)\n",
      "/Users/jefflindberg/opt/anaconda3/envs/learn-env/lib/python3.6/site-packages/numpy/core/_methods.py:183: RuntimeWarning: overflow encountered in reduce\n",
      "  arrmean = umr_sum(arr, axis, dtype, keepdims=True)\n",
      "/Users/jefflindberg/opt/anaconda3/envs/learn-env/lib/python3.6/site-packages/numpy/core/_methods.py:199: RuntimeWarning: overflow encountered in reduce\n",
      "  ret = umr_sum(x, axis, dtype, out, keepdims)\n"
     ]
    },
    {
     "name": "stdout",
     "output_type": "stream",
     "text": [
      "CV5:  0.22258172018920014\n"
     ]
    }
   ],
   "source": [
    "gnb_cv = np.mean(cross_val_score(gaussian, X_train, y_train, cv=5))\n",
    "print('CV5: ', gnb_cv)"
   ]
  },
  {
   "cell_type": "markdown",
   "metadata": {},
   "source": [
    "### Random Forest"
   ]
  },
  {
   "cell_type": "code",
   "execution_count": 78,
   "metadata": {},
   "outputs": [
    {
     "name": "stdout",
     "output_type": "stream",
     "text": [
      "CPU times: user 7.61 s, sys: 125 ms, total: 7.73 s\n",
      "Wall time: 7.77 s\n"
     ]
    }
   ],
   "source": [
    "%%time\n",
    "\n",
    "random_forest = RandomForestClassifier(n_estimators=5)\n",
    "random_forest.fit(X_train, y_train)\n",
    "y_hat_train_rf = random_forest.predict(X_train)"
   ]
  },
  {
   "cell_type": "code",
   "execution_count": 79,
   "metadata": {},
   "outputs": [
    {
     "name": "stdout",
     "output_type": "stream",
     "text": [
      "Accuracy: 0.9904882807380195\n",
      "Precision: 0.9904882807380195\n",
      "Recall: 0.9888633173485326\n",
      "F1: 0.9904768650869346\n"
     ]
    }
   ],
   "source": [
    "rf_acc = accuracy_score(y_train, y_hat_train_rf)\n",
    "rf_pre = precision_score(y_train, y_hat_train_rf, average='micro')\n",
    "rf_rec = recall_score(y_train, y_hat_train_rf, average='macro')\n",
    "rf_f1 = f1_score(y_train, y_hat_train_rf, average='weighted')\n",
    "\n",
    "print(f'Accuracy: {rf_acc}')\n",
    "print(f'Precision: {rf_pre}')\n",
    "print(f'Recall: {rf_rec}')\n",
    "print(f'F1: {rf_f1}')"
   ]
  },
  {
   "cell_type": "code",
   "execution_count": 80,
   "metadata": {},
   "outputs": [
    {
     "name": "stdout",
     "output_type": "stream",
     "text": [
      "CV5:  0.9190492603044775\n"
     ]
    }
   ],
   "source": [
    "rf_cv = np.mean(cross_val_score(random_forest, X_train, y_train, cv=5))\n",
    "print('CV5: ', rf_cv)"
   ]
  },
  {
   "cell_type": "markdown",
   "metadata": {},
   "source": [
    "### Feature Importance"
   ]
  },
  {
   "cell_type": "code",
   "execution_count": 81,
   "metadata": {},
   "outputs": [],
   "source": [
    "feature_df = pd.DataFrame(random_forest.feature_importances_, index=X_train.columns)"
   ]
  },
  {
   "cell_type": "code",
   "execution_count": 82,
   "metadata": {},
   "outputs": [],
   "source": [
    "feature_df.rename({0:'Score'}, axis=1, inplace=True)"
   ]
  },
  {
   "cell_type": "code",
   "execution_count": 83,
   "metadata": {},
   "outputs": [],
   "source": [
    "feature_df = feature_df.sort_values(by='Score', ascending=False)"
   ]
  },
  {
   "cell_type": "code",
   "execution_count": 108,
   "metadata": {},
   "outputs": [
    {
     "data": {
      "text/plain": [
       "<matplotlib.axes._subplots.AxesSubplot at 0x144ad1390>"
      ]
     },
     "execution_count": 108,
     "metadata": {},
     "output_type": "execute_result"
    },
    {
     "data": {
      "image/png": "[encoded data removed]",
      "text/plain": [
       "<Figure size 720x720 with 1 Axes>"
      ]
     },
     "metadata": {
      "needs_background": "light"
     },
     "output_type": "display_data"
    }
   ],
   "source": [
    "plt.figure(figsize=(10,10))\n",
    "sns.barplot(x='Score', y=feature_df.index, data=feature_df, orient='h', palette='Blues_d')"
   ]
  },
  {
   "cell_type": "markdown",
   "metadata": {},
   "source": [
    "### Confusion Matrix"
   ]
  },
  {
   "cell_type": "code",
   "execution_count": 109,
   "metadata": {},
   "outputs": [],
   "source": [
    "def plot_confusion_matrix(cm, classes,\n",
    "                          normalize=False,\n",
    "                          title='Confusion matrix',\n",
    "                          cmap=plt.cm.Blues):\n",
    "    \"\"\"\n",
    "    This function prints and plots the confusion matrix.\n",
    "    Normalization can be applied by setting `normalize=True`.\n",
    "    \"\"\"\n",
    "    import itertools\n",
    "    if normalize:\n",
    "        cm = cm.astype('float') / cm.sum(axis=1)[:, np.newaxis]\n",
    "        print(\"Normalized confusion matrix\")\n",
    "    else:\n",
    "        print('Confusion matrix, without normalization')\n",
    "\n",
    "    print(cm)\n",
    "\n",
    "    plt.imshow(cm, interpolation='nearest', cmap=cmap)\n",
    "    plt.title(title)\n",
    "    plt.colorbar()\n",
    "    tick_marks = np.arange(len(classes))\n",
    "    plt.xticks(tick_marks, classes, fontsize=15)\n",
    "    plt.yticks(tick_marks, classes, fontsize=15)\n",
    "\n",
    "    fmt = '.2f' if normalize else 'd'\n",
    "    thresh = cm.max() / 2.\n",
    "    for i, j in itertools.product(range(cm.shape[0]), range(cm.shape[1])):\n",
    "        plt.text(j, i, format(cm[i, j], fmt), fontsize=20,\n",
    "                 horizontalalignment=\"center\",\n",
    "                 color=\"white\" if cm[i, j] > thresh else \"black\")\n",
    "\n",
    "    plt.ylabel('Actual')\n",
    "    plt.xlabel('Predicted')\n",
    "    plt.tight_layout()"
   ]
  },
  {
   "cell_type": "code",
   "execution_count": 110,
   "metadata": {},
   "outputs": [
    {
     "name": "stdout",
     "output_type": "stream",
     "text": [
      "Confusion matrix, without normalization\n",
      "[[ 58989    116    333]\n",
      " [   118 138800    525]\n",
      " [   382   1066  66710]]\n"
     ]
    },
    {
     "data": {
      "text/plain": [
       "(2.5, -0.5)"
      ]
     },
     "execution_count": 110,
     "metadata": {},
     "output_type": "execute_result"
    },
    {
     "data": {
      "image/png": "[encoded data removed]",
      "text/plain": [
       "<Figure size 576x576 with 2 Axes>"
      ]
     },
     "metadata": {
      "needs_background": "light"
     },
     "output_type": "display_data"
    }
   ],
   "source": [
    "cnf_matrix = confusion_matrix(y_train, y_hat_train_rf,labels=[0, 1, 2])\n",
    "np.set_printoptions(precision=2)\n",
    "\n",
    "# Plot non-normalized confusion matrix\n",
    "plt.figure(figsize=(8,8))\n",
    "plot_confusion_matrix(cnf_matrix, classes=['offspeed', 'breaking ball', 'fastball variations'])\n",
    "plt.ylim(len(cnf_matrix)-0.5,-0.5)"
   ]
  },
  {
   "cell_type": "markdown",
   "metadata": {},
   "source": [
    "### AdaBoosting"
   ]
  },
  {
   "cell_type": "code",
   "execution_count": 63,
   "metadata": {},
   "outputs": [
    {
     "name": "stdout",
     "output_type": "stream",
     "text": [
      "CPU times: user 44.3 s, sys: 2.2 s, total: 46.5 s\n",
      "Wall time: 50.5 s\n"
     ]
    }
   ],
   "source": [
    "%%time\n",
    "\n",
    "ada = AdaBoostClassifier()\n",
    "ada.fit(X_train, y_train)\n",
    "y_hat_train_ada = ada.predict(X_train)"
   ]
  },
  {
   "cell_type": "code",
   "execution_count": 64,
   "metadata": {},
   "outputs": [
    {
     "name": "stdout",
     "output_type": "stream",
     "text": [
      "Accuracy: 0.8494676807507517\n",
      "Precision: 0.8494676807507517\n",
      "Recall: 0.8428468989495542\n",
      "F1: 0.8502432146928849\n"
     ]
    }
   ],
   "source": [
    "ada_acc = accuracy_score(y_train, y_hat_train_ada)\n",
    "ada_pre = precision_score(y_train, y_hat_train_ada, average='micro')\n",
    "ada_rec = recall_score(y_train, y_hat_train_ada, average='macro')\n",
    "ada_f1 = f1_score(y_train, y_hat_train_ada, average='weighted')\n",
    "\n",
    "print(f'Accuracy: {ada_acc}')\n",
    "print(f'Precision: {ada_pre}')\n",
    "print(f'Recall: {ada_rec}')\n",
    "print(f'F1: {ada_f1}')"
   ]
  },
  {
   "cell_type": "code",
   "execution_count": 65,
   "metadata": {},
   "outputs": [
    {
     "name": "stdout",
     "output_type": "stream",
     "text": [
      "CV5:  0.8531525071790579\n"
     ]
    }
   ],
   "source": [
    "ada_cv = np.mean(cross_val_score(ada, X_train, y_train, cv=5))\n",
    "print('CV5: ', ada_cv)"
   ]
  },
  {
   "cell_type": "markdown",
   "metadata": {},
   "source": [
    "### XG Boost"
   ]
  },
  {
   "cell_type": "code",
   "execution_count": 66,
   "metadata": {},
   "outputs": [
    {
     "name": "stdout",
     "output_type": "stream",
     "text": [
      "CPU times: user 3 µs, sys: 0 ns, total: 3 µs\n",
      "Wall time: 5.72 µs\n"
     ]
    }
   ],
   "source": [
    "%time\n",
    "\n",
    "xgb = xgb.XGBClassifier()\n",
    "xgb.fit(X_train, y_train)\n",
    "y_hat_train_xgb = xgb.predict(X_train)"
   ]
  },
  {
   "cell_type": "code",
   "execution_count": 67,
   "metadata": {},
   "outputs": [
    {
     "name": "stdout",
     "output_type": "stream",
     "text": [
      "Accuracy: 0.9127580615565517\n",
      "Precision: 0.9127580615565517\n",
      "Recall: 0.8975780144779258\n",
      "F1: 0.9119466306678303\n"
     ]
    }
   ],
   "source": [
    "xgb_acc = accuracy_score(y_train, y_hat_train_xgb)\n",
    "xgb_pre = precision_score(y_train, y_hat_train_xgb, average='micro')\n",
    "xgb_rec = recall_score(y_train, y_hat_train_xgb, average='macro')\n",
    "xgb_f1 = f1_score(y_train, y_hat_train_xgb, average='weighted')\n",
    "\n",
    "print(f'Accuracy: {xgb_acc}')\n",
    "print(f'Precision: {xgb_pre}')\n",
    "print(f'Recall: {xgb_rec}')\n",
    "print(f'F1: {xgb_f1}')"
   ]
  },
  {
   "cell_type": "code",
   "execution_count": 68,
   "metadata": {},
   "outputs": [
    {
     "name": "stdout",
     "output_type": "stream",
     "text": [
      "CV5:  0.9116870348349666\n"
     ]
    }
   ],
   "source": [
    "xgb_cv = np.mean(cross_val_score(xgb, X_train, y_train, cv=5))\n",
    "print('CV5: ', xgb_cv)"
   ]
  },
  {
   "cell_type": "markdown",
   "metadata": {},
   "source": [
    "### K-Nearest Neighbors"
   ]
  },
  {
   "cell_type": "code",
   "execution_count": 69,
   "metadata": {},
   "outputs": [
    {
     "name": "stdout",
     "output_type": "stream",
     "text": [
      "CPU times: user 3 µs, sys: 0 ns, total: 3 µs\n",
      "Wall time: 23.8 µs\n"
     ]
    }
   ],
   "source": [
    "%time\n",
    "\n",
    "knn = KNeighborsClassifier()\n",
    "knn.fit(X_train, y_train)\n",
    "y_hat_train_knn = knn.predict(X_train)"
   ]
  },
  {
   "cell_type": "code",
   "execution_count": 70,
   "metadata": {},
   "outputs": [
    {
     "name": "stdout",
     "output_type": "stream",
     "text": [
      "Accuracy: 0.9097135624384454\n",
      "Precision: 0.9097135624384454\n",
      "Recall: 0.8948723685365173\n",
      "F1: 0.9091802124952543\n"
     ]
    }
   ],
   "source": [
    "knn_acc = accuracy_score(y_train, y_hat_train_knn)\n",
    "knn_pre = precision_score(y_train, y_hat_train_knn, average='micro')\n",
    "knn_rec = recall_score(y_train, y_hat_train_knn, average='macro')\n",
    "knn_f1 = f1_score(y_train, y_hat_train_knn, average='weighted')\n",
    "\n",
    "print(f'Accuracy: {knn_acc}')\n",
    "print(f'Precision: {knn_pre}')\n",
    "print(f'Recall: {knn_rec}')\n",
    "print(f'F1: {knn_f1}')"
   ]
  },
  {
   "cell_type": "code",
   "execution_count": 71,
   "metadata": {},
   "outputs": [
    {
     "name": "stdout",
     "output_type": "stream",
     "text": [
      "CV5:  0.8657199438118539\n"
     ]
    }
   ],
   "source": [
    "knn_cv = np.mean(cross_val_score(knn, X_train, y_train, cv=5))\n",
    "print('CV5: ', knn_cv)"
   ]
  },
  {
   "cell_type": "markdown",
   "metadata": {},
   "source": [
    "### Compare Vanilla Models"
   ]
  },
  {
   "cell_type": "code",
   "execution_count": 85,
   "metadata": {},
   "outputs": [
    {
     "data": {
      "text/html": [
       "<div>\n",
       "<style scoped>\n",
       "    .dataframe tbody tr th:only-of-type {\n",
       "        vertical-align: middle;\n",
       "    }\n",
       "\n",
       "    .dataframe tbody tr th {\n",
       "        vertical-align: top;\n",
       "    }\n",
       "\n",
       "    .dataframe thead th {\n",
       "        text-align: right;\n",
       "    }\n",
       "</style>\n",
       "<table border=\"1\" class=\"dataframe\">\n",
       "  <thead>\n",
       "    <tr style=\"text-align: right;\">\n",
       "      <th></th>\n",
       "      <th>Model</th>\n",
       "      <th>F1 Score</th>\n",
       "      <th>CV</th>\n",
       "    </tr>\n",
       "  </thead>\n",
       "  <tbody>\n",
       "    <tr>\n",
       "      <td>2</td>\n",
       "      <td>Random Forest</td>\n",
       "      <td>0.990477</td>\n",
       "      <td>0.919049</td>\n",
       "    </tr>\n",
       "    <tr>\n",
       "      <td>4</td>\n",
       "      <td>XG Boost</td>\n",
       "      <td>0.911947</td>\n",
       "      <td>0.911687</td>\n",
       "    </tr>\n",
       "    <tr>\n",
       "      <td>5</td>\n",
       "      <td>KNN</td>\n",
       "      <td>0.909180</td>\n",
       "      <td>0.865720</td>\n",
       "    </tr>\n",
       "    <tr>\n",
       "      <td>0</td>\n",
       "      <td>Logistic Regression</td>\n",
       "      <td>0.862966</td>\n",
       "      <td>0.863758</td>\n",
       "    </tr>\n",
       "    <tr>\n",
       "      <td>3</td>\n",
       "      <td>AdaBoost</td>\n",
       "      <td>0.850243</td>\n",
       "      <td>0.853153</td>\n",
       "    </tr>\n",
       "    <tr>\n",
       "      <td>1</td>\n",
       "      <td>Naive Bayes</td>\n",
       "      <td>0.081046</td>\n",
       "      <td>0.222582</td>\n",
       "    </tr>\n",
       "  </tbody>\n",
       "</table>\n",
       "</div>"
      ],
      "text/plain": [
       "                 Model  F1 Score        CV\n",
       "2        Random Forest  0.990477  0.919049\n",
       "4             XG Boost  0.911947  0.911687\n",
       "5                  KNN  0.909180  0.865720\n",
       "0  Logistic Regression  0.862966  0.863758\n",
       "3             AdaBoost  0.850243  0.853153\n",
       "1          Naive Bayes  0.081046  0.222582"
      ]
     },
     "execution_count": 85,
     "metadata": {},
     "output_type": "execute_result"
    }
   ],
   "source": [
    "models = pd.DataFrame({\n",
    "    'Model': ['Logistic Regression', 'Naive Bayes', 'Random Forest', \n",
    "              'AdaBoost', 'XG Boost', 'KNN'],\n",
    "    'F1 Score': [log_f1, gnb_f1, rf_f1, ada_f1, \n",
    "             xgb_f1, knn_f1], \n",
    "    'CV': [log_cv, gnb_cv, rf_cv, ada_cv, \n",
    "             xgb_cv, knn_cv]})\n",
    "models.sort_values(by='F1 Score', ascending=False)"
   ]
  },
  {
   "cell_type": "markdown",
   "metadata": {},
   "source": [
    "## Hyperparameter Tuning"
   ]
  },
  {
   "cell_type": "code",
   "execution_count": 73,
   "metadata": {},
   "outputs": [],
   "source": [
    "# gridsearch on random forest and knn, maybe xgboost\n",
    "# cross validate\n",
    "# confusion matrix"
   ]
  },
  {
   "cell_type": "markdown",
   "metadata": {},
   "source": [
    "### Random Forest"
   ]
  },
  {
   "cell_type": "code",
   "execution_count": 74,
   "metadata": {},
   "outputs": [],
   "source": [
    "# %time\n",
    "\n",
    "# rf_weight = RandomForestClassifier()\n",
    "\n",
    "# rf_params = {\n",
    "#     'n_estimators': [10, 20, 50],\n",
    "#     'criterion': ['gini', 'entropy'],\n",
    "#     'max_depth': [None, 2, 5, 10],\n",
    "#     'min_samples_split': [5, 10],\n",
    "#     'min_samples_leaf': [3, 6], \n",
    "# }\n",
    "\n",
    "# rf_grid = GridSearchCV(estimator=rf_weight, \n",
    "#                           param_grid=rf_params, \n",
    "#                           scoring='accuracy', \n",
    "#                           cv=5)\n",
    "\n",
    "# rf_grid.fit(X_train, y_train)\n",
    "# rf_grid.score(X_test, y_test)"
   ]
  },
  {
   "cell_type": "code",
   "execution_count": 75,
   "metadata": {},
   "outputs": [],
   "source": [
    "# rf_grid.best_params_"
   ]
  },
  {
   "cell_type": "markdown",
   "metadata": {},
   "source": [
    "### KNN"
   ]
  },
  {
   "cell_type": "code",
   "execution_count": 76,
   "metadata": {},
   "outputs": [],
   "source": [
    "# knn_params = {'pca__n_components': [5,10,15,20],\n",
    "#                 'knn__n_neighbors': [2,3,4,5]}\n",
    "\n",
    "# knn_grid = GridSearchCV(estimator=knn, \n",
    "#                           param_grid=knn_params, \n",
    "#                           scoring='accuracy', \n",
    "#                           cv=5)\n",
    "\n",
    "# knn_grid.fit(X_train, y_train)\n",
    "# knn_grid.score(X_test, y_test)"
   ]
  },
  {
   "cell_type": "markdown",
   "metadata": {},
   "source": [
    "### XG Boost"
   ]
  },
  {
   "cell_type": "code",
   "execution_count": 77,
   "metadata": {},
   "outputs": [],
   "source": [
    "# xg_params = {\n",
    "#     \"learning_rate\": [0.1,0.3,0.4],\n",
    "#     'max_depth': [2,3,4,5],\n",
    "#     'min_child_weight': [2,4,6,8],\n",
    "#     'subsample': [ 0.3,0.4,0.5],\n",
    "#     'n_estimators': [5, 30, 100, 250],\n",
    "# }\n",
    "\n",
    "# xg_grid = GridSearchCV(estimator=xgb, \n",
    "#                        param_grid=xg_params, \n",
    "#                        scoring='accuracy', \n",
    "#                        cv=5, n_jobs=1)\n",
    "\n",
    "# xg_grid.fit(X_train, y_train)\n",
    "# xg_grid.score(X_test, y_test)"
   ]
  }
 ],
 "metadata": {
  "kernelspec": {
   "display_name": "Python 3",
   "language": "python",
   "name": "python3"
  },
  "language_info": {
   "codemirror_mode": {
    "name": "ipython",
    "version": 3
   },
   "file_extension": ".py",
   "mimetype": "text/x-python",
   "name": "python",
   "nbconvert_exporter": "python",
   "pygments_lexer": "ipython3",
   "version": "3.6.9"
  }
 },
 "nbformat": 4,
 "nbformat_minor": 4
}
