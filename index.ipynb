{
 "cells": [
  {
   "cell_type": "markdown",
   "metadata": {},
   "source": [
    "# Import Libraries"
   ]
  },
  {
   "cell_type": "code",
   "execution_count": 49,
   "metadata": {
    "jupyter": {
     "source_hidden": true
    }
   },
   "outputs": [],
   "source": [
    "import pandas as pd\n",
    "import numpy as np\n",
    "import matplotlib.pyplot as plt\n",
    "%matplotlib inline\n",
    "import seaborn as sns\n",
    "from scipy import stats\n",
    "\n",
    "## Data Processing\n",
    "from sklearn.decomposition import PCA\n",
    "from sklearn.preprocessing import StandardScaler\n",
    "\n",
    "## Data Modeling\n",
    "from sklearn.model_selection import train_test_split, GridSearchCV, cross_val_score\n",
    "from sklearn.pipeline import Pipeline\n",
    "\n",
    "## Machine Learning Algos\n",
    "from sklearn.linear_model import LogisticRegression\n",
    "from sklearn.naive_bayes import GaussianNB\n",
    "from sklearn.neighbors import KNeighborsClassifier\n",
    "from sklearn.tree import DecisionTreeClassifier\n",
    "from sklearn.ensemble import RandomForestClassifier, AdaBoostClassifier, GradientBoostingClassifier\n",
    "from sklearn.svm import SVC\n",
    "import xgboost as xgb\n",
    "\n",
    "##\n",
    "from sklearn.metrics import accuracy_score, precision_score, recall_score,f1_score, multilabel_confusion_matrix, classification_report"
   ]
  },
  {
   "cell_type": "markdown",
   "metadata": {},
   "source": [
    "# Import data"
   ]
  },
  {
   "cell_type": "code",
   "execution_count": 2,
   "metadata": {},
   "outputs": [],
   "source": [
    "df = pd.read_csv(\"pitches.csv.zip\")"
   ]
  },
  {
   "cell_type": "markdown",
   "metadata": {},
   "source": [
    "# Data Cleaning"
   ]
  },
  {
   "cell_type": "code",
   "execution_count": 3,
   "metadata": {
    "collapsed": true,
    "jupyter": {
     "outputs_hidden": true
    }
   },
   "outputs": [
    {
     "data": {
      "text/html": [
       "<div>\n",
       "<style scoped>\n",
       "    .dataframe tbody tr th:only-of-type {\n",
       "        vertical-align: middle;\n",
       "    }\n",
       "\n",
       "    .dataframe tbody tr th {\n",
       "        vertical-align: top;\n",
       "    }\n",
       "\n",
       "    .dataframe thead th {\n",
       "        text-align: right;\n",
       "    }\n",
       "</style>\n",
       "<table border=\"1\" class=\"dataframe\">\n",
       "  <thead>\n",
       "    <tr style=\"text-align: right;\">\n",
       "      <th></th>\n",
       "      <th>px</th>\n",
       "      <th>pz</th>\n",
       "      <th>start_speed</th>\n",
       "      <th>end_speed</th>\n",
       "      <th>spin_rate</th>\n",
       "      <th>spin_dir</th>\n",
       "      <th>break_angle</th>\n",
       "      <th>break_length</th>\n",
       "      <th>break_y</th>\n",
       "      <th>ax</th>\n",
       "      <th>...</th>\n",
       "      <th>event_num</th>\n",
       "      <th>b_score</th>\n",
       "      <th>ab_id</th>\n",
       "      <th>b_count</th>\n",
       "      <th>s_count</th>\n",
       "      <th>outs</th>\n",
       "      <th>pitch_num</th>\n",
       "      <th>on_1b</th>\n",
       "      <th>on_2b</th>\n",
       "      <th>on_3b</th>\n",
       "    </tr>\n",
       "  </thead>\n",
       "  <tbody>\n",
       "    <tr>\n",
       "      <td>0</td>\n",
       "      <td>0.416</td>\n",
       "      <td>2.963</td>\n",
       "      <td>92.9</td>\n",
       "      <td>84.1</td>\n",
       "      <td>2305.052</td>\n",
       "      <td>159.235</td>\n",
       "      <td>-25.0</td>\n",
       "      <td>3.2</td>\n",
       "      <td>23.7</td>\n",
       "      <td>7.665</td>\n",
       "      <td>...</td>\n",
       "      <td>3</td>\n",
       "      <td>0.0</td>\n",
       "      <td>2.015000e+09</td>\n",
       "      <td>0.0</td>\n",
       "      <td>0.0</td>\n",
       "      <td>0.0</td>\n",
       "      <td>1.0</td>\n",
       "      <td>0.0</td>\n",
       "      <td>0.0</td>\n",
       "      <td>0.0</td>\n",
       "    </tr>\n",
       "    <tr>\n",
       "      <td>1</td>\n",
       "      <td>-0.191</td>\n",
       "      <td>2.347</td>\n",
       "      <td>92.8</td>\n",
       "      <td>84.1</td>\n",
       "      <td>2689.935</td>\n",
       "      <td>151.402</td>\n",
       "      <td>-40.7</td>\n",
       "      <td>3.4</td>\n",
       "      <td>23.7</td>\n",
       "      <td>12.043</td>\n",
       "      <td>...</td>\n",
       "      <td>4</td>\n",
       "      <td>0.0</td>\n",
       "      <td>2.015000e+09</td>\n",
       "      <td>0.0</td>\n",
       "      <td>1.0</td>\n",
       "      <td>0.0</td>\n",
       "      <td>2.0</td>\n",
       "      <td>0.0</td>\n",
       "      <td>0.0</td>\n",
       "      <td>0.0</td>\n",
       "    </tr>\n",
       "    <tr>\n",
       "      <td>2</td>\n",
       "      <td>-0.518</td>\n",
       "      <td>3.284</td>\n",
       "      <td>94.1</td>\n",
       "      <td>85.2</td>\n",
       "      <td>2647.972</td>\n",
       "      <td>145.125</td>\n",
       "      <td>-43.7</td>\n",
       "      <td>3.7</td>\n",
       "      <td>23.7</td>\n",
       "      <td>14.368</td>\n",
       "      <td>...</td>\n",
       "      <td>5</td>\n",
       "      <td>0.0</td>\n",
       "      <td>2.015000e+09</td>\n",
       "      <td>0.0</td>\n",
       "      <td>2.0</td>\n",
       "      <td>0.0</td>\n",
       "      <td>3.0</td>\n",
       "      <td>0.0</td>\n",
       "      <td>0.0</td>\n",
       "      <td>0.0</td>\n",
       "    </tr>\n",
       "    <tr>\n",
       "      <td>3</td>\n",
       "      <td>-0.641</td>\n",
       "      <td>1.221</td>\n",
       "      <td>91.0</td>\n",
       "      <td>84.0</td>\n",
       "      <td>1289.590</td>\n",
       "      <td>169.751</td>\n",
       "      <td>-1.3</td>\n",
       "      <td>5.0</td>\n",
       "      <td>23.8</td>\n",
       "      <td>2.104</td>\n",
       "      <td>...</td>\n",
       "      <td>6</td>\n",
       "      <td>0.0</td>\n",
       "      <td>2.015000e+09</td>\n",
       "      <td>0.0</td>\n",
       "      <td>2.0</td>\n",
       "      <td>0.0</td>\n",
       "      <td>4.0</td>\n",
       "      <td>0.0</td>\n",
       "      <td>0.0</td>\n",
       "      <td>0.0</td>\n",
       "    </tr>\n",
       "    <tr>\n",
       "      <td>4</td>\n",
       "      <td>-1.821</td>\n",
       "      <td>2.083</td>\n",
       "      <td>75.4</td>\n",
       "      <td>69.6</td>\n",
       "      <td>1374.569</td>\n",
       "      <td>280.671</td>\n",
       "      <td>18.4</td>\n",
       "      <td>12.0</td>\n",
       "      <td>23.8</td>\n",
       "      <td>-10.280</td>\n",
       "      <td>...</td>\n",
       "      <td>7</td>\n",
       "      <td>0.0</td>\n",
       "      <td>2.015000e+09</td>\n",
       "      <td>1.0</td>\n",
       "      <td>2.0</td>\n",
       "      <td>0.0</td>\n",
       "      <td>5.0</td>\n",
       "      <td>0.0</td>\n",
       "      <td>0.0</td>\n",
       "      <td>0.0</td>\n",
       "    </tr>\n",
       "  </tbody>\n",
       "</table>\n",
       "<p>5 rows × 40 columns</p>\n",
       "</div>"
      ],
      "text/plain": [
       "      px     pz  start_speed  end_speed  spin_rate  spin_dir  break_angle  \\\n",
       "0  0.416  2.963         92.9       84.1   2305.052   159.235        -25.0   \n",
       "1 -0.191  2.347         92.8       84.1   2689.935   151.402        -40.7   \n",
       "2 -0.518  3.284         94.1       85.2   2647.972   145.125        -43.7   \n",
       "3 -0.641  1.221         91.0       84.0   1289.590   169.751         -1.3   \n",
       "4 -1.821  2.083         75.4       69.6   1374.569   280.671         18.4   \n",
       "\n",
       "   break_length  break_y      ax  ...  event_num  b_score         ab_id  \\\n",
       "0           3.2     23.7   7.665  ...          3      0.0  2.015000e+09   \n",
       "1           3.4     23.7  12.043  ...          4      0.0  2.015000e+09   \n",
       "2           3.7     23.7  14.368  ...          5      0.0  2.015000e+09   \n",
       "3           5.0     23.8   2.104  ...          6      0.0  2.015000e+09   \n",
       "4          12.0     23.8 -10.280  ...          7      0.0  2.015000e+09   \n",
       "\n",
       "   b_count  s_count  outs  pitch_num  on_1b  on_2b  on_3b  \n",
       "0      0.0      0.0   0.0        1.0    0.0    0.0    0.0  \n",
       "1      0.0      1.0   0.0        2.0    0.0    0.0    0.0  \n",
       "2      0.0      2.0   0.0        3.0    0.0    0.0    0.0  \n",
       "3      0.0      2.0   0.0        4.0    0.0    0.0    0.0  \n",
       "4      1.0      2.0   0.0        5.0    0.0    0.0    0.0  \n",
       "\n",
       "[5 rows x 40 columns]"
      ]
     },
     "execution_count": 3,
     "metadata": {},
     "output_type": "execute_result"
    }
   ],
   "source": [
    "df.head()"
   ]
  },
  {
   "cell_type": "code",
   "execution_count": 4,
   "metadata": {},
   "outputs": [
    {
     "data": {
      "text/plain": [
       "(2867154, 40)"
      ]
     },
     "execution_count": 4,
     "metadata": {},
     "output_type": "execute_result"
    }
   ],
   "source": [
    "df.shape"
   ]
  },
  {
   "cell_type": "code",
   "execution_count": 5,
   "metadata": {
    "collapsed": true,
    "jupyter": {
     "outputs_hidden": true
    }
   },
   "outputs": [
    {
     "name": "stdout",
     "output_type": "stream",
     "text": [
      "<class 'pandas.core.frame.DataFrame'>\n",
      "RangeIndex: 2867154 entries, 0 to 2867153\n",
      "Data columns (total 40 columns):\n",
      "px                 float64\n",
      "pz                 float64\n",
      "start_speed        float64\n",
      "end_speed          float64\n",
      "spin_rate          float64\n",
      "spin_dir           float64\n",
      "break_angle        float64\n",
      "break_length       float64\n",
      "break_y            float64\n",
      "ax                 float64\n",
      "ay                 float64\n",
      "az                 float64\n",
      "sz_bot             float64\n",
      "sz_top             float64\n",
      "type_confidence    float64\n",
      "vx0                float64\n",
      "vy0                float64\n",
      "vz0                float64\n",
      "x                  float64\n",
      "x0                 float64\n",
      "y                  float64\n",
      "y0                 float64\n",
      "z0                 float64\n",
      "pfx_x              float64\n",
      "pfx_z              float64\n",
      "nasty              float64\n",
      "zone               float64\n",
      "code               object\n",
      "type               object\n",
      "pitch_type         object\n",
      "event_num          int64\n",
      "b_score            float64\n",
      "ab_id              float64\n",
      "b_count            float64\n",
      "s_count            float64\n",
      "outs               float64\n",
      "pitch_num          float64\n",
      "on_1b              float64\n",
      "on_2b              float64\n",
      "on_3b              float64\n",
      "dtypes: float64(36), int64(1), object(3)\n",
      "memory usage: 875.0+ MB\n"
     ]
    }
   ],
   "source": [
    "df.info()"
   ]
  },
  {
   "cell_type": "code",
   "execution_count": 6,
   "metadata": {
    "collapsed": true,
    "jupyter": {
     "outputs_hidden": true
    }
   },
   "outputs": [
    {
     "data": {
      "text/html": [
       "<div>\n",
       "<style scoped>\n",
       "    .dataframe tbody tr th:only-of-type {\n",
       "        vertical-align: middle;\n",
       "    }\n",
       "\n",
       "    .dataframe tbody tr th {\n",
       "        vertical-align: top;\n",
       "    }\n",
       "\n",
       "    .dataframe thead th {\n",
       "        text-align: right;\n",
       "    }\n",
       "</style>\n",
       "<table border=\"1\" class=\"dataframe\">\n",
       "  <thead>\n",
       "    <tr style=\"text-align: right;\">\n",
       "      <th></th>\n",
       "      <th>px</th>\n",
       "      <th>pz</th>\n",
       "      <th>start_speed</th>\n",
       "      <th>end_speed</th>\n",
       "      <th>spin_rate</th>\n",
       "      <th>spin_dir</th>\n",
       "      <th>break_angle</th>\n",
       "      <th>break_length</th>\n",
       "      <th>break_y</th>\n",
       "      <th>ax</th>\n",
       "      <th>...</th>\n",
       "      <th>event_num</th>\n",
       "      <th>b_score</th>\n",
       "      <th>ab_id</th>\n",
       "      <th>b_count</th>\n",
       "      <th>s_count</th>\n",
       "      <th>outs</th>\n",
       "      <th>pitch_num</th>\n",
       "      <th>on_1b</th>\n",
       "      <th>on_2b</th>\n",
       "      <th>on_3b</th>\n",
       "    </tr>\n",
       "  </thead>\n",
       "  <tbody>\n",
       "    <tr>\n",
       "      <td>count</td>\n",
       "      <td>2.852965e+06</td>\n",
       "      <td>2.852965e+06</td>\n",
       "      <td>2.853040e+06</td>\n",
       "      <td>2.853040e+06</td>\n",
       "      <td>2.852965e+06</td>\n",
       "      <td>2.852965e+06</td>\n",
       "      <td>2.852965e+06</td>\n",
       "      <td>2.852965e+06</td>\n",
       "      <td>2.852965e+06</td>\n",
       "      <td>2.852965e+06</td>\n",
       "      <td>...</td>\n",
       "      <td>2.867154e+06</td>\n",
       "      <td>2.867154e+06</td>\n",
       "      <td>2.867154e+06</td>\n",
       "      <td>2.867154e+06</td>\n",
       "      <td>2.867154e+06</td>\n",
       "      <td>2.867154e+06</td>\n",
       "      <td>2.867154e+06</td>\n",
       "      <td>2.867154e+06</td>\n",
       "      <td>2.867154e+06</td>\n",
       "      <td>2.867154e+06</td>\n",
       "    </tr>\n",
       "    <tr>\n",
       "      <td>mean</td>\n",
       "      <td>6.572502e-03</td>\n",
       "      <td>2.254962e+00</td>\n",
       "      <td>8.838124e+01</td>\n",
       "      <td>8.136274e+01</td>\n",
       "      <td>1.731173e+03</td>\n",
       "      <td>1.802308e+02</td>\n",
       "      <td>5.848084e+00</td>\n",
       "      <td>6.601459e+00</td>\n",
       "      <td>2.381685e+01</td>\n",
       "      <td>-2.308512e+00</td>\n",
       "      <td>...</td>\n",
       "      <td>3.129711e+02</td>\n",
       "      <td>2.256608e+00</td>\n",
       "      <td>2.016606e+09</td>\n",
       "      <td>8.824259e-01</td>\n",
       "      <td>8.810873e-01</td>\n",
       "      <td>9.826033e-01</td>\n",
       "      <td>2.894472e+00</td>\n",
       "      <td>3.018314e-01</td>\n",
       "      <td>1.860451e-01</td>\n",
       "      <td>9.595543e-02</td>\n",
       "    </tr>\n",
       "    <tr>\n",
       "      <td>std</td>\n",
       "      <td>8.927490e-01</td>\n",
       "      <td>9.463968e-01</td>\n",
       "      <td>6.015540e+00</td>\n",
       "      <td>5.364057e+00</td>\n",
       "      <td>6.827521e+02</td>\n",
       "      <td>6.742859e+01</td>\n",
       "      <td>2.443621e+01</td>\n",
       "      <td>1.331708e+02</td>\n",
       "      <td>6.446540e-02</td>\n",
       "      <td>1.074066e+01</td>\n",
       "      <td>...</td>\n",
       "      <td>1.928482e+02</td>\n",
       "      <td>2.550955e+00</td>\n",
       "      <td>1.117238e+06</td>\n",
       "      <td>9.665457e-01</td>\n",
       "      <td>8.251786e-01</td>\n",
       "      <td>8.174947e-01</td>\n",
       "      <td>1.726595e+00</td>\n",
       "      <td>4.590526e-01</td>\n",
       "      <td>3.891431e-01</td>\n",
       "      <td>2.945302e-01</td>\n",
       "    </tr>\n",
       "    <tr>\n",
       "      <td>min</td>\n",
       "      <td>-1.054333e+01</td>\n",
       "      <td>-5.183664e+00</td>\n",
       "      <td>3.390000e+01</td>\n",
       "      <td>3.240000e+01</td>\n",
       "      <td>1.214000e+00</td>\n",
       "      <td>-2.000000e-03</td>\n",
       "      <td>-9.000000e+01</td>\n",
       "      <td>1.000000e-01</td>\n",
       "      <td>2.330000e+01</td>\n",
       "      <td>-5.929009e+01</td>\n",
       "      <td>...</td>\n",
       "      <td>3.000000e+00</td>\n",
       "      <td>0.000000e+00</td>\n",
       "      <td>2.015000e+09</td>\n",
       "      <td>0.000000e+00</td>\n",
       "      <td>0.000000e+00</td>\n",
       "      <td>0.000000e+00</td>\n",
       "      <td>1.000000e+00</td>\n",
       "      <td>0.000000e+00</td>\n",
       "      <td>0.000000e+00</td>\n",
       "      <td>0.000000e+00</td>\n",
       "    </tr>\n",
       "    <tr>\n",
       "      <td>25%</td>\n",
       "      <td>-5.908243e-01</td>\n",
       "      <td>1.650000e+00</td>\n",
       "      <td>8.430000e+01</td>\n",
       "      <td>7.790000e+01</td>\n",
       "      <td>1.238745e+03</td>\n",
       "      <td>1.371540e+02</td>\n",
       "      <td>-1.190000e+01</td>\n",
       "      <td>4.300000e+00</td>\n",
       "      <td>2.380000e+01</td>\n",
       "      <td>-1.129000e+01</td>\n",
       "      <td>...</td>\n",
       "      <td>1.490000e+02</td>\n",
       "      <td>0.000000e+00</td>\n",
       "      <td>2.016004e+09</td>\n",
       "      <td>0.000000e+00</td>\n",
       "      <td>0.000000e+00</td>\n",
       "      <td>0.000000e+00</td>\n",
       "      <td>1.000000e+00</td>\n",
       "      <td>0.000000e+00</td>\n",
       "      <td>0.000000e+00</td>\n",
       "      <td>0.000000e+00</td>\n",
       "    </tr>\n",
       "    <tr>\n",
       "      <td>50%</td>\n",
       "      <td>1.300000e-02</td>\n",
       "      <td>2.259000e+00</td>\n",
       "      <td>8.970000e+01</td>\n",
       "      <td>8.250000e+01</td>\n",
       "      <td>1.866322e+03</td>\n",
       "      <td>1.958850e+02</td>\n",
       "      <td>6.800000e+00</td>\n",
       "      <td>6.000000e+00</td>\n",
       "      <td>2.380000e+01</td>\n",
       "      <td>-3.142000e+00</td>\n",
       "      <td>...</td>\n",
       "      <td>3.020000e+02</td>\n",
       "      <td>1.000000e+00</td>\n",
       "      <td>2.017004e+09</td>\n",
       "      <td>1.000000e+00</td>\n",
       "      <td>1.000000e+00</td>\n",
       "      <td>1.000000e+00</td>\n",
       "      <td>3.000000e+00</td>\n",
       "      <td>0.000000e+00</td>\n",
       "      <td>0.000000e+00</td>\n",
       "      <td>0.000000e+00</td>\n",
       "    </tr>\n",
       "    <tr>\n",
       "      <td>75%</td>\n",
       "      <td>6.090000e-01</td>\n",
       "      <td>2.863000e+00</td>\n",
       "      <td>9.300000e+01</td>\n",
       "      <td>8.540000e+01</td>\n",
       "      <td>2.247564e+03</td>\n",
       "      <td>2.252340e+02</td>\n",
       "      <td>2.700000e+01</td>\n",
       "      <td>8.000000e+00</td>\n",
       "      <td>2.390000e+01</td>\n",
       "      <td>5.995827e+00</td>\n",
       "      <td>...</td>\n",
       "      <td>4.640000e+02</td>\n",
       "      <td>3.000000e+00</td>\n",
       "      <td>2.018002e+09</td>\n",
       "      <td>2.000000e+00</td>\n",
       "      <td>2.000000e+00</td>\n",
       "      <td>2.000000e+00</td>\n",
       "      <td>4.000000e+00</td>\n",
       "      <td>1.000000e+00</td>\n",
       "      <td>0.000000e+00</td>\n",
       "      <td>0.000000e+00</td>\n",
       "    </tr>\n",
       "    <tr>\n",
       "      <td>max</td>\n",
       "      <td>1.295291e+01</td>\n",
       "      <td>1.488624e+01</td>\n",
       "      <td>1.050000e+02</td>\n",
       "      <td>9.690000e+01</td>\n",
       "      <td>6.539259e+03</td>\n",
       "      <td>3.600010e+02</td>\n",
       "      <td>2.694000e+02</td>\n",
       "      <td>2.248893e+05</td>\n",
       "      <td>3.640000e+01</td>\n",
       "      <td>4.097800e+01</td>\n",
       "      <td>...</td>\n",
       "      <td>1.336000e+03</td>\n",
       "      <td>2.500000e+01</td>\n",
       "      <td>2.018186e+09</td>\n",
       "      <td>4.000000e+00</td>\n",
       "      <td>2.000000e+00</td>\n",
       "      <td>2.000000e+00</td>\n",
       "      <td>2.100000e+01</td>\n",
       "      <td>1.000000e+00</td>\n",
       "      <td>1.000000e+00</td>\n",
       "      <td>1.000000e+00</td>\n",
       "    </tr>\n",
       "  </tbody>\n",
       "</table>\n",
       "<p>8 rows × 37 columns</p>\n",
       "</div>"
      ],
      "text/plain": [
       "                 px            pz   start_speed     end_speed     spin_rate  \\\n",
       "count  2.852965e+06  2.852965e+06  2.853040e+06  2.853040e+06  2.852965e+06   \n",
       "mean   6.572502e-03  2.254962e+00  8.838124e+01  8.136274e+01  1.731173e+03   \n",
       "std    8.927490e-01  9.463968e-01  6.015540e+00  5.364057e+00  6.827521e+02   \n",
       "min   -1.054333e+01 -5.183664e+00  3.390000e+01  3.240000e+01  1.214000e+00   \n",
       "25%   -5.908243e-01  1.650000e+00  8.430000e+01  7.790000e+01  1.238745e+03   \n",
       "50%    1.300000e-02  2.259000e+00  8.970000e+01  8.250000e+01  1.866322e+03   \n",
       "75%    6.090000e-01  2.863000e+00  9.300000e+01  8.540000e+01  2.247564e+03   \n",
       "max    1.295291e+01  1.488624e+01  1.050000e+02  9.690000e+01  6.539259e+03   \n",
       "\n",
       "           spin_dir   break_angle  break_length       break_y            ax  \\\n",
       "count  2.852965e+06  2.852965e+06  2.852965e+06  2.852965e+06  2.852965e+06   \n",
       "mean   1.802308e+02  5.848084e+00  6.601459e+00  2.381685e+01 -2.308512e+00   \n",
       "std    6.742859e+01  2.443621e+01  1.331708e+02  6.446540e-02  1.074066e+01   \n",
       "min   -2.000000e-03 -9.000000e+01  1.000000e-01  2.330000e+01 -5.929009e+01   \n",
       "25%    1.371540e+02 -1.190000e+01  4.300000e+00  2.380000e+01 -1.129000e+01   \n",
       "50%    1.958850e+02  6.800000e+00  6.000000e+00  2.380000e+01 -3.142000e+00   \n",
       "75%    2.252340e+02  2.700000e+01  8.000000e+00  2.390000e+01  5.995827e+00   \n",
       "max    3.600010e+02  2.694000e+02  2.248893e+05  3.640000e+01  4.097800e+01   \n",
       "\n",
       "       ...     event_num       b_score         ab_id       b_count  \\\n",
       "count  ...  2.867154e+06  2.867154e+06  2.867154e+06  2.867154e+06   \n",
       "mean   ...  3.129711e+02  2.256608e+00  2.016606e+09  8.824259e-01   \n",
       "std    ...  1.928482e+02  2.550955e+00  1.117238e+06  9.665457e-01   \n",
       "min    ...  3.000000e+00  0.000000e+00  2.015000e+09  0.000000e+00   \n",
       "25%    ...  1.490000e+02  0.000000e+00  2.016004e+09  0.000000e+00   \n",
       "50%    ...  3.020000e+02  1.000000e+00  2.017004e+09  1.000000e+00   \n",
       "75%    ...  4.640000e+02  3.000000e+00  2.018002e+09  2.000000e+00   \n",
       "max    ...  1.336000e+03  2.500000e+01  2.018186e+09  4.000000e+00   \n",
       "\n",
       "            s_count          outs     pitch_num         on_1b         on_2b  \\\n",
       "count  2.867154e+06  2.867154e+06  2.867154e+06  2.867154e+06  2.867154e+06   \n",
       "mean   8.810873e-01  9.826033e-01  2.894472e+00  3.018314e-01  1.860451e-01   \n",
       "std    8.251786e-01  8.174947e-01  1.726595e+00  4.590526e-01  3.891431e-01   \n",
       "min    0.000000e+00  0.000000e+00  1.000000e+00  0.000000e+00  0.000000e+00   \n",
       "25%    0.000000e+00  0.000000e+00  1.000000e+00  0.000000e+00  0.000000e+00   \n",
       "50%    1.000000e+00  1.000000e+00  3.000000e+00  0.000000e+00  0.000000e+00   \n",
       "75%    2.000000e+00  2.000000e+00  4.000000e+00  1.000000e+00  0.000000e+00   \n",
       "max    2.000000e+00  2.000000e+00  2.100000e+01  1.000000e+00  1.000000e+00   \n",
       "\n",
       "              on_3b  \n",
       "count  2.867154e+06  \n",
       "mean   9.595543e-02  \n",
       "std    2.945302e-01  \n",
       "min    0.000000e+00  \n",
       "25%    0.000000e+00  \n",
       "50%    0.000000e+00  \n",
       "75%    0.000000e+00  \n",
       "max    1.000000e+00  \n",
       "\n",
       "[8 rows x 37 columns]"
      ]
     },
     "execution_count": 6,
     "metadata": {},
     "output_type": "execute_result"
    }
   ],
   "source": [
    "df.describe()"
   ]
  },
  {
   "cell_type": "code",
   "execution_count": 7,
   "metadata": {
    "collapsed": true,
    "jupyter": {
     "outputs_hidden": true
    }
   },
   "outputs": [
    {
     "data": {
      "text/plain": [
       "px                 14189\n",
       "pz                 14189\n",
       "start_speed        14114\n",
       "end_speed          14114\n",
       "spin_rate          14189\n",
       "spin_dir           14189\n",
       "break_angle        14189\n",
       "break_length       14189\n",
       "break_y            14189\n",
       "ax                 14189\n",
       "ay                 14189\n",
       "az                 14189\n",
       "sz_bot              2083\n",
       "sz_top              2083\n",
       "type_confidence    14189\n",
       "vx0                14189\n",
       "vy0                14189\n",
       "vz0                14189\n",
       "x                      0\n",
       "x0                 14189\n",
       "y                      0\n",
       "y0                 14189\n",
       "z0                 14189\n",
       "pfx_x              14142\n",
       "pfx_z              14142\n",
       "nasty              14189\n",
       "zone               14189\n",
       "code                5719\n",
       "type                   0\n",
       "pitch_type         14189\n",
       "event_num              0\n",
       "b_score                0\n",
       "ab_id                  0\n",
       "b_count                0\n",
       "s_count                0\n",
       "outs                   0\n",
       "pitch_num              0\n",
       "on_1b                  0\n",
       "on_2b                  0\n",
       "on_3b                  0\n",
       "dtype: int64"
      ]
     },
     "execution_count": 7,
     "metadata": {},
     "output_type": "execute_result"
    }
   ],
   "source": [
    "df.isnull().sum()"
   ]
  },
  {
   "cell_type": "code",
   "execution_count": 8,
   "metadata": {},
   "outputs": [],
   "source": [
    "df = df.dropna(how='any', axis=0)"
   ]
  },
  {
   "cell_type": "code",
   "execution_count": 9,
   "metadata": {},
   "outputs": [
    {
     "data": {
      "text/plain": [
       "(2847250, 40)"
      ]
     },
     "execution_count": 9,
     "metadata": {},
     "output_type": "execute_result"
    }
   ],
   "source": [
    "df.shape"
   ]
  },
  {
   "cell_type": "code",
   "execution_count": 10,
   "metadata": {
    "collapsed": true,
    "jupyter": {
     "outputs_hidden": true
    }
   },
   "outputs": [
    {
     "data": {
      "text/plain": [
       "FF    1012917\n",
       "SL     449804\n",
       "FT     337244\n",
       "CH     292123\n",
       "SI     242047\n",
       "CU     233913\n",
       "FC     149376\n",
       "KC      66410\n",
       "FS      43533\n",
       "KN      11260\n",
       "IN       6187\n",
       "EP        812\n",
       "FO        810\n",
       "PO        626\n",
       "SC        113\n",
       "UN         57\n",
       "FA          9\n",
       "AB          9\n",
       "Name: pitch_type, dtype: int64"
      ]
     },
     "execution_count": 10,
     "metadata": {},
     "output_type": "execute_result"
    }
   ],
   "source": [
    "df['pitch_type'].value_counts()"
   ]
  },
  {
   "cell_type": "code",
   "execution_count": 11,
   "metadata": {},
   "outputs": [],
   "source": [
    "df['year'] = df.ab_id.astype(str)"
   ]
  },
  {
   "cell_type": "code",
   "execution_count": 12,
   "metadata": {},
   "outputs": [],
   "source": [
    "new_df = df[df['year'].str.startswith('2018')]"
   ]
  },
  {
   "cell_type": "code",
   "execution_count": 13,
   "metadata": {
    "collapsed": true,
    "jupyter": {
     "outputs_hidden": true
    }
   },
   "outputs": [
    {
     "data": {
      "text/html": [
       "<div>\n",
       "<style scoped>\n",
       "    .dataframe tbody tr th:only-of-type {\n",
       "        vertical-align: middle;\n",
       "    }\n",
       "\n",
       "    .dataframe tbody tr th {\n",
       "        vertical-align: top;\n",
       "    }\n",
       "\n",
       "    .dataframe thead th {\n",
       "        text-align: right;\n",
       "    }\n",
       "</style>\n",
       "<table border=\"1\" class=\"dataframe\">\n",
       "  <thead>\n",
       "    <tr style=\"text-align: right;\">\n",
       "      <th></th>\n",
       "      <th>px</th>\n",
       "      <th>pz</th>\n",
       "      <th>start_speed</th>\n",
       "      <th>end_speed</th>\n",
       "      <th>spin_rate</th>\n",
       "      <th>spin_dir</th>\n",
       "      <th>break_angle</th>\n",
       "      <th>break_length</th>\n",
       "      <th>break_y</th>\n",
       "      <th>ax</th>\n",
       "      <th>...</th>\n",
       "      <th>b_score</th>\n",
       "      <th>ab_id</th>\n",
       "      <th>b_count</th>\n",
       "      <th>s_count</th>\n",
       "      <th>outs</th>\n",
       "      <th>pitch_num</th>\n",
       "      <th>on_1b</th>\n",
       "      <th>on_2b</th>\n",
       "      <th>on_3b</th>\n",
       "      <th>year</th>\n",
       "    </tr>\n",
       "  </thead>\n",
       "  <tbody>\n",
       "    <tr>\n",
       "      <td>2142710</td>\n",
       "      <td>0.239615</td>\n",
       "      <td>1.848781</td>\n",
       "      <td>93.7</td>\n",
       "      <td>84.5</td>\n",
       "      <td>2632.270</td>\n",
       "      <td>233.718</td>\n",
       "      <td>43.7</td>\n",
       "      <td>5.8</td>\n",
       "      <td>23.7</td>\n",
       "      <td>-19.911162</td>\n",
       "      <td>...</td>\n",
       "      <td>0.0</td>\n",
       "      <td>2.018000e+09</td>\n",
       "      <td>0.0</td>\n",
       "      <td>0.0</td>\n",
       "      <td>0.0</td>\n",
       "      <td>1.0</td>\n",
       "      <td>0.0</td>\n",
       "      <td>0.0</td>\n",
       "      <td>0.0</td>\n",
       "      <td>2018000001.0</td>\n",
       "    </tr>\n",
       "    <tr>\n",
       "      <td>2142711</td>\n",
       "      <td>-0.804047</td>\n",
       "      <td>0.925201</td>\n",
       "      <td>94.0</td>\n",
       "      <td>85.8</td>\n",
       "      <td>2561.181</td>\n",
       "      <td>236.246</td>\n",
       "      <td>42.7</td>\n",
       "      <td>6.1</td>\n",
       "      <td>23.8</td>\n",
       "      <td>-20.043108</td>\n",
       "      <td>...</td>\n",
       "      <td>0.0</td>\n",
       "      <td>2.018000e+09</td>\n",
       "      <td>0.0</td>\n",
       "      <td>1.0</td>\n",
       "      <td>0.0</td>\n",
       "      <td>2.0</td>\n",
       "      <td>0.0</td>\n",
       "      <td>0.0</td>\n",
       "      <td>0.0</td>\n",
       "      <td>2018000001.0</td>\n",
       "    </tr>\n",
       "    <tr>\n",
       "      <td>2142712</td>\n",
       "      <td>0.598637</td>\n",
       "      <td>1.616677</td>\n",
       "      <td>94.7</td>\n",
       "      <td>86.5</td>\n",
       "      <td>2673.854</td>\n",
       "      <td>237.996</td>\n",
       "      <td>44.4</td>\n",
       "      <td>6.0</td>\n",
       "      <td>23.8</td>\n",
       "      <td>-21.510485</td>\n",
       "      <td>...</td>\n",
       "      <td>0.0</td>\n",
       "      <td>2.018000e+09</td>\n",
       "      <td>1.0</td>\n",
       "      <td>1.0</td>\n",
       "      <td>0.0</td>\n",
       "      <td>3.0</td>\n",
       "      <td>0.0</td>\n",
       "      <td>0.0</td>\n",
       "      <td>0.0</td>\n",
       "      <td>2018000001.0</td>\n",
       "    </tr>\n",
       "    <tr>\n",
       "      <td>2142713</td>\n",
       "      <td>1.453223</td>\n",
       "      <td>1.466314</td>\n",
       "      <td>82.3</td>\n",
       "      <td>76.7</td>\n",
       "      <td>959.909</td>\n",
       "      <td>38.861</td>\n",
       "      <td>-8.2</td>\n",
       "      <td>10.8</td>\n",
       "      <td>23.9</td>\n",
       "      <td>4.974062</td>\n",
       "      <td>...</td>\n",
       "      <td>0.0</td>\n",
       "      <td>2.018000e+09</td>\n",
       "      <td>1.0</td>\n",
       "      <td>2.0</td>\n",
       "      <td>0.0</td>\n",
       "      <td>4.0</td>\n",
       "      <td>0.0</td>\n",
       "      <td>0.0</td>\n",
       "      <td>0.0</td>\n",
       "      <td>2018000001.0</td>\n",
       "    </tr>\n",
       "    <tr>\n",
       "      <td>2142714</td>\n",
       "      <td>-0.427914</td>\n",
       "      <td>2.490041</td>\n",
       "      <td>95.4</td>\n",
       "      <td>87.1</td>\n",
       "      <td>2408.148</td>\n",
       "      <td>241.080</td>\n",
       "      <td>40.9</td>\n",
       "      <td>6.1</td>\n",
       "      <td>23.8</td>\n",
       "      <td>-20.172978</td>\n",
       "      <td>...</td>\n",
       "      <td>0.0</td>\n",
       "      <td>2.018000e+09</td>\n",
       "      <td>1.0</td>\n",
       "      <td>2.0</td>\n",
       "      <td>0.0</td>\n",
       "      <td>5.0</td>\n",
       "      <td>0.0</td>\n",
       "      <td>0.0</td>\n",
       "      <td>0.0</td>\n",
       "      <td>2018000001.0</td>\n",
       "    </tr>\n",
       "  </tbody>\n",
       "</table>\n",
       "<p>5 rows × 41 columns</p>\n",
       "</div>"
      ],
      "text/plain": [
       "               px        pz  start_speed  end_speed  spin_rate  spin_dir  \\\n",
       "2142710  0.239615  1.848781         93.7       84.5   2632.270   233.718   \n",
       "2142711 -0.804047  0.925201         94.0       85.8   2561.181   236.246   \n",
       "2142712  0.598637  1.616677         94.7       86.5   2673.854   237.996   \n",
       "2142713  1.453223  1.466314         82.3       76.7    959.909    38.861   \n",
       "2142714 -0.427914  2.490041         95.4       87.1   2408.148   241.080   \n",
       "\n",
       "         break_angle  break_length  break_y         ax  ...  b_score  \\\n",
       "2142710         43.7           5.8     23.7 -19.911162  ...      0.0   \n",
       "2142711         42.7           6.1     23.8 -20.043108  ...      0.0   \n",
       "2142712         44.4           6.0     23.8 -21.510485  ...      0.0   \n",
       "2142713         -8.2          10.8     23.9   4.974062  ...      0.0   \n",
       "2142714         40.9           6.1     23.8 -20.172978  ...      0.0   \n",
       "\n",
       "                ab_id  b_count  s_count  outs  pitch_num  on_1b  on_2b  on_3b  \\\n",
       "2142710  2.018000e+09      0.0      0.0   0.0        1.0    0.0    0.0    0.0   \n",
       "2142711  2.018000e+09      0.0      1.0   0.0        2.0    0.0    0.0    0.0   \n",
       "2142712  2.018000e+09      1.0      1.0   0.0        3.0    0.0    0.0    0.0   \n",
       "2142713  2.018000e+09      1.0      2.0   0.0        4.0    0.0    0.0    0.0   \n",
       "2142714  2.018000e+09      1.0      2.0   0.0        5.0    0.0    0.0    0.0   \n",
       "\n",
       "                 year  \n",
       "2142710  2018000001.0  \n",
       "2142711  2018000001.0  \n",
       "2142712  2018000001.0  \n",
       "2142713  2018000001.0  \n",
       "2142714  2018000001.0  \n",
       "\n",
       "[5 rows x 41 columns]"
      ]
     },
     "execution_count": 13,
     "metadata": {},
     "output_type": "execute_result"
    }
   ],
   "source": [
    "new_df.head()"
   ]
  },
  {
   "cell_type": "code",
   "execution_count": 14,
   "metadata": {},
   "outputs": [
    {
     "data": {
      "text/plain": [
       "(718322, 41)"
      ]
     },
     "execution_count": 14,
     "metadata": {},
     "output_type": "execute_result"
    }
   ],
   "source": [
    "new_df.shape"
   ]
  },
  {
   "cell_type": "code",
   "execution_count": 15,
   "metadata": {
    "collapsed": true,
    "jupyter": {
     "outputs_hidden": true
    }
   },
   "outputs": [
    {
     "data": {
      "text/plain": [
       "FF    254086\n",
       "SL    122796\n",
       "FT     81617\n",
       "CH     74606\n",
       "CU     60360\n",
       "SI     57970\n",
       "FC     39061\n",
       "KC     16327\n",
       "FS     10365\n",
       "KN       719\n",
       "EP       204\n",
       "PO        89\n",
       "FO        84\n",
       "SC        37\n",
       "AB         1\n",
       "Name: pitch_type, dtype: int64"
      ]
     },
     "execution_count": 15,
     "metadata": {},
     "output_type": "execute_result"
    }
   ],
   "source": [
    "new_df['pitch_type'].value_counts()"
   ]
  },
  {
   "cell_type": "code",
   "execution_count": 16,
   "metadata": {},
   "outputs": [],
   "source": [
    "new_df = new_df.drop(new_df.loc[new_df['pitch_type']=='FF'].index)"
   ]
  },
  {
   "cell_type": "code",
   "execution_count": 17,
   "metadata": {},
   "outputs": [],
   "source": [
    "new_df = new_df.drop(new_df.loc[new_df['pitch_type']=='FT'].index)"
   ]
  },
  {
   "cell_type": "code",
   "execution_count": 18,
   "metadata": {},
   "outputs": [],
   "source": [
    "new_df = new_df.drop(new_df.loc[new_df['pitch_type']=='SI'].index)"
   ]
  },
  {
   "cell_type": "code",
   "execution_count": 19,
   "metadata": {},
   "outputs": [],
   "source": [
    "new_df = new_df.drop(new_df.loc[new_df['pitch_type']=='FC'].index)"
   ]
  },
  {
   "cell_type": "code",
   "execution_count": 20,
   "metadata": {},
   "outputs": [],
   "source": [
    "new_df = new_df.drop(new_df.loc[new_df['pitch_type']=='KN'].index)"
   ]
  },
  {
   "cell_type": "code",
   "execution_count": 21,
   "metadata": {},
   "outputs": [],
   "source": [
    "new_df = new_df.drop(new_df.loc[new_df['pitch_type']=='EP'].index)"
   ]
  },
  {
   "cell_type": "code",
   "execution_count": 22,
   "metadata": {},
   "outputs": [],
   "source": [
    "new_df = new_df.drop(new_df.loc[new_df['pitch_type']=='PO'].index)"
   ]
  },
  {
   "cell_type": "code",
   "execution_count": 23,
   "metadata": {},
   "outputs": [],
   "source": [
    "new_df = new_df.drop(new_df.loc[new_df['pitch_type']=='FO'].index)"
   ]
  },
  {
   "cell_type": "code",
   "execution_count": 24,
   "metadata": {},
   "outputs": [],
   "source": [
    "new_df = new_df.drop(new_df.loc[new_df['pitch_type']=='SC'].index)"
   ]
  },
  {
   "cell_type": "code",
   "execution_count": 25,
   "metadata": {},
   "outputs": [],
   "source": [
    "final_df = new_df.drop(new_df.loc[new_df['pitch_type']=='AB'].index)"
   ]
  },
  {
   "cell_type": "code",
   "execution_count": 26,
   "metadata": {
    "collapsed": true,
    "jupyter": {
     "outputs_hidden": true
    }
   },
   "outputs": [
    {
     "data": {
      "text/plain": [
       "SL    122796\n",
       "CH     74606\n",
       "CU     60360\n",
       "KC     16327\n",
       "FS     10365\n",
       "Name: pitch_type, dtype: int64"
      ]
     },
     "execution_count": 26,
     "metadata": {},
     "output_type": "execute_result"
    }
   ],
   "source": [
    "final_df['pitch_type'].value_counts()"
   ]
  },
  {
   "cell_type": "code",
   "execution_count": 27,
   "metadata": {},
   "outputs": [],
   "source": [
    "final_df.drop(['code', 'type', 'event_num', 'b_score', 'b_count', 's_count', \n",
    "              'outs', 'pitch_num', 'on_1b', 'on_2b', 'on_3b'], axis=1, inplace=True)"
   ]
  },
  {
   "cell_type": "code",
   "execution_count": 28,
   "metadata": {
    "collapsed": true,
    "jupyter": {
     "outputs_hidden": true
    }
   },
   "outputs": [
    {
     "data": {
      "text/html": [
       "<div>\n",
       "<style scoped>\n",
       "    .dataframe tbody tr th:only-of-type {\n",
       "        vertical-align: middle;\n",
       "    }\n",
       "\n",
       "    .dataframe tbody tr th {\n",
       "        vertical-align: top;\n",
       "    }\n",
       "\n",
       "    .dataframe thead th {\n",
       "        text-align: right;\n",
       "    }\n",
       "</style>\n",
       "<table border=\"1\" class=\"dataframe\">\n",
       "  <thead>\n",
       "    <tr style=\"text-align: right;\">\n",
       "      <th></th>\n",
       "      <th>px</th>\n",
       "      <th>pz</th>\n",
       "      <th>start_speed</th>\n",
       "      <th>end_speed</th>\n",
       "      <th>spin_rate</th>\n",
       "      <th>spin_dir</th>\n",
       "      <th>break_angle</th>\n",
       "      <th>break_length</th>\n",
       "      <th>break_y</th>\n",
       "      <th>ax</th>\n",
       "      <th>...</th>\n",
       "      <th>y</th>\n",
       "      <th>y0</th>\n",
       "      <th>z0</th>\n",
       "      <th>pfx_x</th>\n",
       "      <th>pfx_z</th>\n",
       "      <th>nasty</th>\n",
       "      <th>zone</th>\n",
       "      <th>pitch_type</th>\n",
       "      <th>ab_id</th>\n",
       "      <th>year</th>\n",
       "    </tr>\n",
       "  </thead>\n",
       "  <tbody>\n",
       "    <tr>\n",
       "      <td>2142713</td>\n",
       "      <td>1.453223</td>\n",
       "      <td>1.466314</td>\n",
       "      <td>82.3</td>\n",
       "      <td>76.7</td>\n",
       "      <td>959.909</td>\n",
       "      <td>38.861</td>\n",
       "      <td>-8.2</td>\n",
       "      <td>10.8</td>\n",
       "      <td>23.9</td>\n",
       "      <td>4.974062</td>\n",
       "      <td>...</td>\n",
       "      <td>199.22</td>\n",
       "      <td>50.0</td>\n",
       "      <td>5.768441</td>\n",
       "      <td>3.397188</td>\n",
       "      <td>-4.215796</td>\n",
       "      <td>22.0</td>\n",
       "      <td>14.0</td>\n",
       "      <td>SL</td>\n",
       "      <td>2.018000e+09</td>\n",
       "      <td>2018000001.0</td>\n",
       "    </tr>\n",
       "    <tr>\n",
       "      <td>2142728</td>\n",
       "      <td>0.747412</td>\n",
       "      <td>0.729438</td>\n",
       "      <td>91.0</td>\n",
       "      <td>84.9</td>\n",
       "      <td>180.473</td>\n",
       "      <td>311.036</td>\n",
       "      <td>0.6</td>\n",
       "      <td>7.8</td>\n",
       "      <td>23.9</td>\n",
       "      <td>-1.241472</td>\n",
       "      <td>...</td>\n",
       "      <td>219.14</td>\n",
       "      <td>50.0</td>\n",
       "      <td>6.052319</td>\n",
       "      <td>-0.692269</td>\n",
       "      <td>-0.602510</td>\n",
       "      <td>32.0</td>\n",
       "      <td>14.0</td>\n",
       "      <td>SL</td>\n",
       "      <td>2.018000e+09</td>\n",
       "      <td>2018000006.0</td>\n",
       "    </tr>\n",
       "    <tr>\n",
       "      <td>2142729</td>\n",
       "      <td>0.605145</td>\n",
       "      <td>1.997796</td>\n",
       "      <td>90.5</td>\n",
       "      <td>83.8</td>\n",
       "      <td>575.016</td>\n",
       "      <td>348.328</td>\n",
       "      <td>0.2</td>\n",
       "      <td>8.7</td>\n",
       "      <td>23.9</td>\n",
       "      <td>-1.055874</td>\n",
       "      <td>...</td>\n",
       "      <td>184.92</td>\n",
       "      <td>50.0</td>\n",
       "      <td>6.148478</td>\n",
       "      <td>-0.596179</td>\n",
       "      <td>-2.885365</td>\n",
       "      <td>36.0</td>\n",
       "      <td>9.0</td>\n",
       "      <td>SL</td>\n",
       "      <td>2.018000e+09</td>\n",
       "      <td>2018000006.0</td>\n",
       "    </tr>\n",
       "    <tr>\n",
       "      <td>2142730</td>\n",
       "      <td>1.291387</td>\n",
       "      <td>0.060647</td>\n",
       "      <td>82.8</td>\n",
       "      <td>75.7</td>\n",
       "      <td>2048.993</td>\n",
       "      <td>9.642</td>\n",
       "      <td>-4.4</td>\n",
       "      <td>14.3</td>\n",
       "      <td>23.8</td>\n",
       "      <td>2.842411</td>\n",
       "      <td>...</td>\n",
       "      <td>235.81</td>\n",
       "      <td>50.0</td>\n",
       "      <td>6.269245</td>\n",
       "      <td>2.001122</td>\n",
       "      <td>-11.776095</td>\n",
       "      <td>29.0</td>\n",
       "      <td>14.0</td>\n",
       "      <td>CU</td>\n",
       "      <td>2.018000e+09</td>\n",
       "      <td>2018000006.0</td>\n",
       "    </tr>\n",
       "    <tr>\n",
       "      <td>2142732</td>\n",
       "      <td>1.046822</td>\n",
       "      <td>1.451463</td>\n",
       "      <td>90.9</td>\n",
       "      <td>83.6</td>\n",
       "      <td>157.794</td>\n",
       "      <td>140.496</td>\n",
       "      <td>-3.7</td>\n",
       "      <td>7.4</td>\n",
       "      <td>23.8</td>\n",
       "      <td>0.913876</td>\n",
       "      <td>...</td>\n",
       "      <td>199.59</td>\n",
       "      <td>50.0</td>\n",
       "      <td>6.123433</td>\n",
       "      <td>0.517330</td>\n",
       "      <td>0.627479</td>\n",
       "      <td>82.0</td>\n",
       "      <td>14.0</td>\n",
       "      <td>SL</td>\n",
       "      <td>2.018000e+09</td>\n",
       "      <td>2018000007.0</td>\n",
       "    </tr>\n",
       "  </tbody>\n",
       "</table>\n",
       "<p>5 rows × 30 columns</p>\n",
       "</div>"
      ],
      "text/plain": [
       "               px        pz  start_speed  end_speed  spin_rate  spin_dir  \\\n",
       "2142713  1.453223  1.466314         82.3       76.7    959.909    38.861   \n",
       "2142728  0.747412  0.729438         91.0       84.9    180.473   311.036   \n",
       "2142729  0.605145  1.997796         90.5       83.8    575.016   348.328   \n",
       "2142730  1.291387  0.060647         82.8       75.7   2048.993     9.642   \n",
       "2142732  1.046822  1.451463         90.9       83.6    157.794   140.496   \n",
       "\n",
       "         break_angle  break_length  break_y        ax  ...       y    y0  \\\n",
       "2142713         -8.2          10.8     23.9  4.974062  ...  199.22  50.0   \n",
       "2142728          0.6           7.8     23.9 -1.241472  ...  219.14  50.0   \n",
       "2142729          0.2           8.7     23.9 -1.055874  ...  184.92  50.0   \n",
       "2142730         -4.4          14.3     23.8  2.842411  ...  235.81  50.0   \n",
       "2142732         -3.7           7.4     23.8  0.913876  ...  199.59  50.0   \n",
       "\n",
       "               z0     pfx_x      pfx_z  nasty  zone  pitch_type         ab_id  \\\n",
       "2142713  5.768441  3.397188  -4.215796   22.0  14.0          SL  2.018000e+09   \n",
       "2142728  6.052319 -0.692269  -0.602510   32.0  14.0          SL  2.018000e+09   \n",
       "2142729  6.148478 -0.596179  -2.885365   36.0   9.0          SL  2.018000e+09   \n",
       "2142730  6.269245  2.001122 -11.776095   29.0  14.0          CU  2.018000e+09   \n",
       "2142732  6.123433  0.517330   0.627479   82.0  14.0          SL  2.018000e+09   \n",
       "\n",
       "                 year  \n",
       "2142713  2018000001.0  \n",
       "2142728  2018000006.0  \n",
       "2142729  2018000006.0  \n",
       "2142730  2018000006.0  \n",
       "2142732  2018000007.0  \n",
       "\n",
       "[5 rows x 30 columns]"
      ]
     },
     "execution_count": 28,
     "metadata": {},
     "output_type": "execute_result"
    }
   ],
   "source": [
    "final_df.head()"
   ]
  },
  {
   "cell_type": "code",
   "execution_count": 29,
   "metadata": {
    "collapsed": true,
    "jupyter": {
     "outputs_hidden": true
    }
   },
   "outputs": [
    {
     "name": "stdout",
     "output_type": "stream",
     "text": [
      "<class 'pandas.core.frame.DataFrame'>\n",
      "Int64Index: 284454 entries, 2142713 to 2867149\n",
      "Data columns (total 30 columns):\n",
      "px                 284454 non-null float64\n",
      "pz                 284454 non-null float64\n",
      "start_speed        284454 non-null float64\n",
      "end_speed          284454 non-null float64\n",
      "spin_rate          284454 non-null float64\n",
      "spin_dir           284454 non-null float64\n",
      "break_angle        284454 non-null float64\n",
      "break_length       284454 non-null float64\n",
      "break_y            284454 non-null float64\n",
      "ax                 284454 non-null float64\n",
      "ay                 284454 non-null float64\n",
      "az                 284454 non-null float64\n",
      "sz_bot             284454 non-null float64\n",
      "sz_top             284454 non-null float64\n",
      "type_confidence    284454 non-null float64\n",
      "vx0                284454 non-null float64\n",
      "vy0                284454 non-null float64\n",
      "vz0                284454 non-null float64\n",
      "x                  284454 non-null float64\n",
      "x0                 284454 non-null float64\n",
      "y                  284454 non-null float64\n",
      "y0                 284454 non-null float64\n",
      "z0                 284454 non-null float64\n",
      "pfx_x              284454 non-null float64\n",
      "pfx_z              284454 non-null float64\n",
      "nasty              284454 non-null float64\n",
      "zone               284454 non-null float64\n",
      "pitch_type         284454 non-null object\n",
      "ab_id              284454 non-null float64\n",
      "year               284454 non-null object\n",
      "dtypes: float64(28), object(2)\n",
      "memory usage: 67.3+ MB\n"
     ]
    }
   ],
   "source": [
    "final_df.info()"
   ]
  },
  {
   "cell_type": "code",
   "execution_count": 30,
   "metadata": {},
   "outputs": [],
   "source": [
    "def bin_pitches(single_pitch):\n",
    "    \n",
    "    offspeed = ['CH', 'FS']\n",
    "    breaking = ['SL', 'CU', 'KC']\n",
    "    \n",
    "    if single_pitch in offspeed:\n",
    "        return 0\n",
    "    else: \n",
    "        return 1\n",
    "    "
   ]
  },
  {
   "cell_type": "code",
   "execution_count": 31,
   "metadata": {},
   "outputs": [],
   "source": [
    "final_df['bin_pitches'] = final_df.pitch_type.apply(bin_pitches)"
   ]
  },
  {
   "cell_type": "code",
   "execution_count": 32,
   "metadata": {
    "collapsed": true,
    "jupyter": {
     "outputs_hidden": true
    }
   },
   "outputs": [
    {
     "data": {
      "text/plain": [
       "1    199483\n",
       "0     84971\n",
       "Name: bin_pitches, dtype: int64"
      ]
     },
     "execution_count": 32,
     "metadata": {},
     "output_type": "execute_result"
    }
   ],
   "source": [
    "final_df['bin_pitches'].value_counts()"
   ]
  },
  {
   "cell_type": "code",
   "execution_count": 33,
   "metadata": {
    "collapsed": true,
    "jupyter": {
     "outputs_hidden": true
    }
   },
   "outputs": [
    {
     "data": {
      "text/html": [
       "<div>\n",
       "<style scoped>\n",
       "    .dataframe tbody tr th:only-of-type {\n",
       "        vertical-align: middle;\n",
       "    }\n",
       "\n",
       "    .dataframe tbody tr th {\n",
       "        vertical-align: top;\n",
       "    }\n",
       "\n",
       "    .dataframe thead th {\n",
       "        text-align: right;\n",
       "    }\n",
       "</style>\n",
       "<table border=\"1\" class=\"dataframe\">\n",
       "  <thead>\n",
       "    <tr style=\"text-align: right;\">\n",
       "      <th></th>\n",
       "      <th>pitch_type</th>\n",
       "      <th>bin_pitches</th>\n",
       "    </tr>\n",
       "  </thead>\n",
       "  <tbody>\n",
       "    <tr>\n",
       "      <td>2142713</td>\n",
       "      <td>SL</td>\n",
       "      <td>1</td>\n",
       "    </tr>\n",
       "    <tr>\n",
       "      <td>2142730</td>\n",
       "      <td>CU</td>\n",
       "      <td>1</td>\n",
       "    </tr>\n",
       "    <tr>\n",
       "      <td>2142753</td>\n",
       "      <td>CH</td>\n",
       "      <td>0</td>\n",
       "    </tr>\n",
       "    <tr>\n",
       "      <td>2142905</td>\n",
       "      <td>FS</td>\n",
       "      <td>0</td>\n",
       "    </tr>\n",
       "    <tr>\n",
       "      <td>2143373</td>\n",
       "      <td>KC</td>\n",
       "      <td>1</td>\n",
       "    </tr>\n",
       "  </tbody>\n",
       "</table>\n",
       "</div>"
      ],
      "text/plain": [
       "        pitch_type  bin_pitches\n",
       "2142713         SL            1\n",
       "2142730         CU            1\n",
       "2142753         CH            0\n",
       "2142905         FS            0\n",
       "2143373         KC            1"
      ]
     },
     "execution_count": 33,
     "metadata": {},
     "output_type": "execute_result"
    }
   ],
   "source": [
    "final_df[['pitch_type', 'bin_pitches']].drop_duplicates(keep='first')"
   ]
  },
  {
   "cell_type": "code",
   "execution_count": 34,
   "metadata": {},
   "outputs": [
    {
     "data": {
      "text/plain": [
       "(284454, 31)"
      ]
     },
     "execution_count": 34,
     "metadata": {},
     "output_type": "execute_result"
    }
   ],
   "source": [
    "final_df.shape"
   ]
  },
  {
   "cell_type": "code",
   "execution_count": 35,
   "metadata": {},
   "outputs": [
    {
     "data": {
      "text/plain": [
       "0"
      ]
     },
     "execution_count": 35,
     "metadata": {},
     "output_type": "execute_result"
    }
   ],
   "source": [
    "final_df.duplicated().sum()"
   ]
  },
  {
   "cell_type": "code",
   "execution_count": 36,
   "metadata": {},
   "outputs": [],
   "source": [
    "final_df.drop(['pitch_type', 'ab_id', 'year'], axis=1, inplace=True)"
   ]
  },
  {
   "cell_type": "code",
   "execution_count": 37,
   "metadata": {},
   "outputs": [],
   "source": [
    "features = final_df.drop(['bin_pitches'], axis=1)"
   ]
  },
  {
   "cell_type": "code",
   "execution_count": 38,
   "metadata": {
    "collapsed": true,
    "jupyter": {
     "outputs_hidden": true
    }
   },
   "outputs": [
    {
     "data": {
      "text/html": [
       "<div>\n",
       "<style scoped>\n",
       "    .dataframe tbody tr th:only-of-type {\n",
       "        vertical-align: middle;\n",
       "    }\n",
       "\n",
       "    .dataframe tbody tr th {\n",
       "        vertical-align: top;\n",
       "    }\n",
       "\n",
       "    .dataframe thead th {\n",
       "        text-align: right;\n",
       "    }\n",
       "</style>\n",
       "<table border=\"1\" class=\"dataframe\">\n",
       "  <thead>\n",
       "    <tr style=\"text-align: right;\">\n",
       "      <th></th>\n",
       "      <th>px</th>\n",
       "      <th>pz</th>\n",
       "      <th>start_speed</th>\n",
       "      <th>end_speed</th>\n",
       "      <th>spin_rate</th>\n",
       "      <th>spin_dir</th>\n",
       "      <th>break_angle</th>\n",
       "      <th>break_length</th>\n",
       "      <th>break_y</th>\n",
       "      <th>ax</th>\n",
       "      <th>...</th>\n",
       "      <th>vz0</th>\n",
       "      <th>x</th>\n",
       "      <th>x0</th>\n",
       "      <th>y</th>\n",
       "      <th>y0</th>\n",
       "      <th>z0</th>\n",
       "      <th>pfx_x</th>\n",
       "      <th>pfx_z</th>\n",
       "      <th>nasty</th>\n",
       "      <th>zone</th>\n",
       "    </tr>\n",
       "  </thead>\n",
       "  <tbody>\n",
       "    <tr>\n",
       "      <td>2142713</td>\n",
       "      <td>1.453223</td>\n",
       "      <td>1.466314</td>\n",
       "      <td>82.3</td>\n",
       "      <td>76.7</td>\n",
       "      <td>959.909</td>\n",
       "      <td>38.861</td>\n",
       "      <td>-8.2</td>\n",
       "      <td>10.8</td>\n",
       "      <td>23.9</td>\n",
       "      <td>4.974062</td>\n",
       "      <td>...</td>\n",
       "      <td>-2.125677</td>\n",
       "      <td>61.60</td>\n",
       "      <td>-0.732282</td>\n",
       "      <td>199.22</td>\n",
       "      <td>50.0</td>\n",
       "      <td>5.768441</td>\n",
       "      <td>3.397188</td>\n",
       "      <td>-4.215796</td>\n",
       "      <td>22.0</td>\n",
       "      <td>14.0</td>\n",
       "    </tr>\n",
       "    <tr>\n",
       "      <td>2142728</td>\n",
       "      <td>0.747412</td>\n",
       "      <td>0.729438</td>\n",
       "      <td>91.0</td>\n",
       "      <td>84.9</td>\n",
       "      <td>180.473</td>\n",
       "      <td>311.036</td>\n",
       "      <td>0.6</td>\n",
       "      <td>7.8</td>\n",
       "      <td>23.9</td>\n",
       "      <td>-1.241472</td>\n",
       "      <td>...</td>\n",
       "      <td>-7.636481</td>\n",
       "      <td>88.51</td>\n",
       "      <td>-1.269673</td>\n",
       "      <td>219.14</td>\n",
       "      <td>50.0</td>\n",
       "      <td>6.052319</td>\n",
       "      <td>-0.692269</td>\n",
       "      <td>-0.602510</td>\n",
       "      <td>32.0</td>\n",
       "      <td>14.0</td>\n",
       "    </tr>\n",
       "    <tr>\n",
       "      <td>2142729</td>\n",
       "      <td>0.605145</td>\n",
       "      <td>1.997796</td>\n",
       "      <td>90.5</td>\n",
       "      <td>83.8</td>\n",
       "      <td>575.016</td>\n",
       "      <td>348.328</td>\n",
       "      <td>0.2</td>\n",
       "      <td>8.7</td>\n",
       "      <td>23.9</td>\n",
       "      <td>-1.055874</td>\n",
       "      <td>...</td>\n",
       "      <td>-3.683753</td>\n",
       "      <td>93.93</td>\n",
       "      <td>-1.385409</td>\n",
       "      <td>184.92</td>\n",
       "      <td>50.0</td>\n",
       "      <td>6.148478</td>\n",
       "      <td>-0.596179</td>\n",
       "      <td>-2.885365</td>\n",
       "      <td>36.0</td>\n",
       "      <td>9.0</td>\n",
       "    </tr>\n",
       "    <tr>\n",
       "      <td>2142730</td>\n",
       "      <td>1.291387</td>\n",
       "      <td>0.060647</td>\n",
       "      <td>82.8</td>\n",
       "      <td>75.7</td>\n",
       "      <td>2048.993</td>\n",
       "      <td>9.642</td>\n",
       "      <td>-4.4</td>\n",
       "      <td>14.3</td>\n",
       "      <td>23.8</td>\n",
       "      <td>2.842411</td>\n",
       "      <td>...</td>\n",
       "      <td>-4.120138</td>\n",
       "      <td>67.73</td>\n",
       "      <td>-1.179056</td>\n",
       "      <td>235.81</td>\n",
       "      <td>50.0</td>\n",
       "      <td>6.269245</td>\n",
       "      <td>2.001122</td>\n",
       "      <td>-11.776095</td>\n",
       "      <td>29.0</td>\n",
       "      <td>14.0</td>\n",
       "    </tr>\n",
       "    <tr>\n",
       "      <td>2142732</td>\n",
       "      <td>1.046822</td>\n",
       "      <td>1.451463</td>\n",
       "      <td>90.9</td>\n",
       "      <td>83.6</td>\n",
       "      <td>157.794</td>\n",
       "      <td>140.496</td>\n",
       "      <td>-3.7</td>\n",
       "      <td>7.4</td>\n",
       "      <td>23.8</td>\n",
       "      <td>0.913876</td>\n",
       "      <td>...</td>\n",
       "      <td>-6.226013</td>\n",
       "      <td>77.10</td>\n",
       "      <td>-1.430667</td>\n",
       "      <td>199.59</td>\n",
       "      <td>50.0</td>\n",
       "      <td>6.123433</td>\n",
       "      <td>0.517330</td>\n",
       "      <td>0.627479</td>\n",
       "      <td>82.0</td>\n",
       "      <td>14.0</td>\n",
       "    </tr>\n",
       "    <tr>\n",
       "      <td>...</td>\n",
       "      <td>...</td>\n",
       "      <td>...</td>\n",
       "      <td>...</td>\n",
       "      <td>...</td>\n",
       "      <td>...</td>\n",
       "      <td>...</td>\n",
       "      <td>...</td>\n",
       "      <td>...</td>\n",
       "      <td>...</td>\n",
       "      <td>...</td>\n",
       "      <td>...</td>\n",
       "      <td>...</td>\n",
       "      <td>...</td>\n",
       "      <td>...</td>\n",
       "      <td>...</td>\n",
       "      <td>...</td>\n",
       "      <td>...</td>\n",
       "      <td>...</td>\n",
       "      <td>...</td>\n",
       "      <td>...</td>\n",
       "      <td>...</td>\n",
       "    </tr>\n",
       "    <tr>\n",
       "      <td>2867132</td>\n",
       "      <td>-0.212890</td>\n",
       "      <td>1.587859</td>\n",
       "      <td>80.0</td>\n",
       "      <td>74.0</td>\n",
       "      <td>1209.602</td>\n",
       "      <td>327.322</td>\n",
       "      <td>7.9</td>\n",
       "      <td>12.2</td>\n",
       "      <td>23.9</td>\n",
       "      <td>-5.233581</td>\n",
       "      <td>...</td>\n",
       "      <td>-1.584788</td>\n",
       "      <td>125.12</td>\n",
       "      <td>1.490938</td>\n",
       "      <td>195.93</td>\n",
       "      <td>50.0</td>\n",
       "      <td>6.118648</td>\n",
       "      <td>-3.837512</td>\n",
       "      <td>-5.982271</td>\n",
       "      <td>36.0</td>\n",
       "      <td>13.0</td>\n",
       "    </tr>\n",
       "    <tr>\n",
       "      <td>2867134</td>\n",
       "      <td>-1.054564</td>\n",
       "      <td>0.142382</td>\n",
       "      <td>84.7</td>\n",
       "      <td>78.0</td>\n",
       "      <td>588.915</td>\n",
       "      <td>239.158</td>\n",
       "      <td>11.0</td>\n",
       "      <td>8.3</td>\n",
       "      <td>23.9</td>\n",
       "      <td>-4.283495</td>\n",
       "      <td>...</td>\n",
       "      <td>-5.315316</td>\n",
       "      <td>157.20</td>\n",
       "      <td>3.340541</td>\n",
       "      <td>234.94</td>\n",
       "      <td>50.0</td>\n",
       "      <td>4.848164</td>\n",
       "      <td>-2.800499</td>\n",
       "      <td>1.672213</td>\n",
       "      <td>36.0</td>\n",
       "      <td>13.0</td>\n",
       "    </tr>\n",
       "    <tr>\n",
       "      <td>2867139</td>\n",
       "      <td>0.676805</td>\n",
       "      <td>3.487355</td>\n",
       "      <td>83.0</td>\n",
       "      <td>77.0</td>\n",
       "      <td>447.145</td>\n",
       "      <td>225.040</td>\n",
       "      <td>7.0</td>\n",
       "      <td>7.9</td>\n",
       "      <td>23.9</td>\n",
       "      <td>-2.635429</td>\n",
       "      <td>...</td>\n",
       "      <td>2.278726</td>\n",
       "      <td>91.20</td>\n",
       "      <td>3.529359</td>\n",
       "      <td>144.63</td>\n",
       "      <td>50.0</td>\n",
       "      <td>5.094116</td>\n",
       "      <td>-1.748581</td>\n",
       "      <td>1.746085</td>\n",
       "      <td>49.0</td>\n",
       "      <td>12.0</td>\n",
       "    </tr>\n",
       "    <tr>\n",
       "      <td>2867141</td>\n",
       "      <td>-0.107080</td>\n",
       "      <td>0.886212</td>\n",
       "      <td>84.3</td>\n",
       "      <td>78.4</td>\n",
       "      <td>436.328</td>\n",
       "      <td>198.885</td>\n",
       "      <td>4.6</td>\n",
       "      <td>7.7</td>\n",
       "      <td>23.9</td>\n",
       "      <td>-1.194240</td>\n",
       "      <td>...</td>\n",
       "      <td>-3.970365</td>\n",
       "      <td>121.07</td>\n",
       "      <td>3.237666</td>\n",
       "      <td>214.77</td>\n",
       "      <td>50.0</td>\n",
       "      <td>4.933055</td>\n",
       "      <td>-0.772864</td>\n",
       "      <td>2.259083</td>\n",
       "      <td>42.0</td>\n",
       "      <td>13.0</td>\n",
       "    </tr>\n",
       "    <tr>\n",
       "      <td>2867149</td>\n",
       "      <td>0.230280</td>\n",
       "      <td>1.784910</td>\n",
       "      <td>83.9</td>\n",
       "      <td>78.2</td>\n",
       "      <td>608.594</td>\n",
       "      <td>275.800</td>\n",
       "      <td>10.5</td>\n",
       "      <td>8.8</td>\n",
       "      <td>23.9</td>\n",
       "      <td>-5.097492</td>\n",
       "      <td>...</td>\n",
       "      <td>-0.859601</td>\n",
       "      <td>108.22</td>\n",
       "      <td>3.502933</td>\n",
       "      <td>190.58</td>\n",
       "      <td>50.0</td>\n",
       "      <td>4.912177</td>\n",
       "      <td>-3.319733</td>\n",
       "      <td>-0.337153</td>\n",
       "      <td>27.0</td>\n",
       "      <td>8.0</td>\n",
       "    </tr>\n",
       "  </tbody>\n",
       "</table>\n",
       "<p>272880 rows × 27 columns</p>\n",
       "</div>"
      ],
      "text/plain": [
       "               px        pz  start_speed  end_speed  spin_rate  spin_dir  \\\n",
       "2142713  1.453223  1.466314         82.3       76.7    959.909    38.861   \n",
       "2142728  0.747412  0.729438         91.0       84.9    180.473   311.036   \n",
       "2142729  0.605145  1.997796         90.5       83.8    575.016   348.328   \n",
       "2142730  1.291387  0.060647         82.8       75.7   2048.993     9.642   \n",
       "2142732  1.046822  1.451463         90.9       83.6    157.794   140.496   \n",
       "...           ...       ...          ...        ...        ...       ...   \n",
       "2867132 -0.212890  1.587859         80.0       74.0   1209.602   327.322   \n",
       "2867134 -1.054564  0.142382         84.7       78.0    588.915   239.158   \n",
       "2867139  0.676805  3.487355         83.0       77.0    447.145   225.040   \n",
       "2867141 -0.107080  0.886212         84.3       78.4    436.328   198.885   \n",
       "2867149  0.230280  1.784910         83.9       78.2    608.594   275.800   \n",
       "\n",
       "         break_angle  break_length  break_y        ax  ...       vz0       x  \\\n",
       "2142713         -8.2          10.8     23.9  4.974062  ... -2.125677   61.60   \n",
       "2142728          0.6           7.8     23.9 -1.241472  ... -7.636481   88.51   \n",
       "2142729          0.2           8.7     23.9 -1.055874  ... -3.683753   93.93   \n",
       "2142730         -4.4          14.3     23.8  2.842411  ... -4.120138   67.73   \n",
       "2142732         -3.7           7.4     23.8  0.913876  ... -6.226013   77.10   \n",
       "...              ...           ...      ...       ...  ...       ...     ...   \n",
       "2867132          7.9          12.2     23.9 -5.233581  ... -1.584788  125.12   \n",
       "2867134         11.0           8.3     23.9 -4.283495  ... -5.315316  157.20   \n",
       "2867139          7.0           7.9     23.9 -2.635429  ...  2.278726   91.20   \n",
       "2867141          4.6           7.7     23.9 -1.194240  ... -3.970365  121.07   \n",
       "2867149         10.5           8.8     23.9 -5.097492  ... -0.859601  108.22   \n",
       "\n",
       "               x0       y    y0        z0     pfx_x      pfx_z  nasty  zone  \n",
       "2142713 -0.732282  199.22  50.0  5.768441  3.397188  -4.215796   22.0  14.0  \n",
       "2142728 -1.269673  219.14  50.0  6.052319 -0.692269  -0.602510   32.0  14.0  \n",
       "2142729 -1.385409  184.92  50.0  6.148478 -0.596179  -2.885365   36.0   9.0  \n",
       "2142730 -1.179056  235.81  50.0  6.269245  2.001122 -11.776095   29.0  14.0  \n",
       "2142732 -1.430667  199.59  50.0  6.123433  0.517330   0.627479   82.0  14.0  \n",
       "...           ...     ...   ...       ...       ...        ...    ...   ...  \n",
       "2867132  1.490938  195.93  50.0  6.118648 -3.837512  -5.982271   36.0  13.0  \n",
       "2867134  3.340541  234.94  50.0  4.848164 -2.800499   1.672213   36.0  13.0  \n",
       "2867139  3.529359  144.63  50.0  5.094116 -1.748581   1.746085   49.0  12.0  \n",
       "2867141  3.237666  214.77  50.0  4.933055 -0.772864   2.259083   42.0  13.0  \n",
       "2867149  3.502933  190.58  50.0  4.912177 -3.319733  -0.337153   27.0   8.0  \n",
       "\n",
       "[272880 rows x 27 columns]"
      ]
     },
     "execution_count": 38,
     "metadata": {},
     "output_type": "execute_result"
    }
   ],
   "source": [
    "features[(np.abs(stats.zscore(final_df)) < 3).all(axis=1)]"
   ]
  },
  {
   "cell_type": "markdown",
   "metadata": {},
   "source": [
    "# EDA"
   ]
  },
  {
   "cell_type": "code",
   "execution_count": null,
   "metadata": {},
   "outputs": [],
   "source": [
    "# distribution of bin_pitches, how varies w/ features"
   ]
  },
  {
   "cell_type": "code",
   "execution_count": null,
   "metadata": {},
   "outputs": [],
   "source": [
    "# sns.pairplot"
   ]
  },
  {
   "cell_type": "markdown",
   "metadata": {},
   "source": [
    "# Train_Test Split"
   ]
  },
  {
   "cell_type": "code",
   "execution_count": 39,
   "metadata": {},
   "outputs": [],
   "source": [
    "X = features\n",
    "y = final_df['bin_pitches']\n",
    "X_train, X_test, y_train, y_test = train_test_split(X, y, test_size=0.3, random_state=2)"
   ]
  },
  {
   "cell_type": "code",
   "execution_count": 40,
   "metadata": {},
   "outputs": [
    {
     "data": {
      "text/plain": [
       "((199117, 27), (199117,), (85337, 27))"
      ]
     },
     "execution_count": 40,
     "metadata": {},
     "output_type": "execute_result"
    }
   ],
   "source": [
    "X_train.shape, y_train.shape, X_test.shape"
   ]
  },
  {
   "cell_type": "code",
   "execution_count": 43,
   "metadata": {},
   "outputs": [],
   "source": [
    "X_train = X_train.select_dtypes(include='float')"
   ]
  },
  {
   "cell_type": "markdown",
   "metadata": {},
   "source": [
    "### Reduce memory usage"
   ]
  },
  {
   "cell_type": "code",
   "execution_count": 44,
   "metadata": {
    "jupyter": {
     "source_hidden": true
    }
   },
   "outputs": [],
   "source": [
    "def reduce_mem_usage(df, verbose=True):\n",
    "    numerics = ['int16', 'int32', 'int64', 'float16', 'float32', 'float64']\n",
    "    start_mem = df.memory_usage().sum() / 1024**2    \n",
    "    for col in df.columns:\n",
    "        col_type = df[col].dtypes\n",
    "        if col_type in numerics:\n",
    "            c_min = df[col].min()\n",
    "            c_max = df[col].max()\n",
    "            if str(col_type)[:3] == 'int':\n",
    "                if c_min > np.iinfo(np.int8).min and c_max < np.iinfo(np.int8).max:\n",
    "                    df[col] = df[col].astype(np.int8)\n",
    "                elif c_min > np.iinfo(np.int16).min and c_max < np.iinfo(np.int16).max:\n",
    "                    df[col] = df[col].astype(np.int16)\n",
    "                elif c_min > np.iinfo(np.int32).min and c_max < np.iinfo(np.int32).max:\n",
    "                    df[col] = df[col].astype(np.int32)\n",
    "                elif c_min > np.iinfo(np.int64).min and c_max < np.iinfo(np.int64).max:\n",
    "                    df[col] = df[col].astype(np.int64)  \n",
    "            else:\n",
    "                if c_min > np.finfo(np.float16).min and c_max < np.finfo(np.float16).max:\n",
    "                    df[col] = df[col].astype(np.float16)\n",
    "                elif c_min > np.finfo(np.float32).min and c_max < np.finfo(np.float32).max:\n",
    "                    df[col] = df[col].astype(np.float32)\n",
    "                else:\n",
    "                    df[col] = df[col].astype(np.float64)    \n",
    "    end_mem = df.memory_usage().sum() / 1024**2\n",
    "    if verbose: print('Mem. usage decreased to {:5.2f} Mb ({:.1f}% reduction)'.format(end_mem, 100 * (start_mem - end_mem) / start_mem))\n",
    "    return df"
   ]
  },
  {
   "cell_type": "code",
   "execution_count": 45,
   "metadata": {
    "collapsed": true,
    "jupyter": {
     "outputs_hidden": true
    }
   },
   "outputs": [
    {
     "name": "stdout",
     "output_type": "stream",
     "text": [
      "Mem. usage decreased to 11.77 Mb (72.3% reduction)\n"
     ]
    },
    {
     "data": {
      "text/html": [
       "<div>\n",
       "<style scoped>\n",
       "    .dataframe tbody tr th:only-of-type {\n",
       "        vertical-align: middle;\n",
       "    }\n",
       "\n",
       "    .dataframe tbody tr th {\n",
       "        vertical-align: top;\n",
       "    }\n",
       "\n",
       "    .dataframe thead th {\n",
       "        text-align: right;\n",
       "    }\n",
       "</style>\n",
       "<table border=\"1\" class=\"dataframe\">\n",
       "  <thead>\n",
       "    <tr style=\"text-align: right;\">\n",
       "      <th></th>\n",
       "      <th>px</th>\n",
       "      <th>pz</th>\n",
       "      <th>start_speed</th>\n",
       "      <th>end_speed</th>\n",
       "      <th>spin_rate</th>\n",
       "      <th>spin_dir</th>\n",
       "      <th>break_angle</th>\n",
       "      <th>break_length</th>\n",
       "      <th>break_y</th>\n",
       "      <th>ax</th>\n",
       "      <th>...</th>\n",
       "      <th>vz0</th>\n",
       "      <th>x</th>\n",
       "      <th>x0</th>\n",
       "      <th>y</th>\n",
       "      <th>y0</th>\n",
       "      <th>z0</th>\n",
       "      <th>pfx_x</th>\n",
       "      <th>pfx_z</th>\n",
       "      <th>nasty</th>\n",
       "      <th>zone</th>\n",
       "    </tr>\n",
       "  </thead>\n",
       "  <tbody>\n",
       "    <tr>\n",
       "      <td>2485809</td>\n",
       "      <td>0.291992</td>\n",
       "      <td>1.803711</td>\n",
       "      <td>85.6250</td>\n",
       "      <td>78.6250</td>\n",
       "      <td>1954.00</td>\n",
       "      <td>123.1875</td>\n",
       "      <td>-28.093750</td>\n",
       "      <td>6.898438</td>\n",
       "      <td>23.796875</td>\n",
       "      <td>14.023438</td>\n",
       "      <td>...</td>\n",
       "      <td>-4.242188</td>\n",
       "      <td>105.8750</td>\n",
       "      <td>2.099609</td>\n",
       "      <td>190.125</td>\n",
       "      <td>50.0</td>\n",
       "      <td>5.425781</td>\n",
       "      <td>8.906250</td>\n",
       "      <td>5.832031</td>\n",
       "      <td>51.0</td>\n",
       "      <td>9.0</td>\n",
       "    </tr>\n",
       "    <tr>\n",
       "      <td>2347463</td>\n",
       "      <td>0.104614</td>\n",
       "      <td>1.081055</td>\n",
       "      <td>82.8125</td>\n",
       "      <td>76.8750</td>\n",
       "      <td>298.50</td>\n",
       "      <td>346.5000</td>\n",
       "      <td>2.000000</td>\n",
       "      <td>9.601562</td>\n",
       "      <td>23.906250</td>\n",
       "      <td>-0.575684</td>\n",
       "      <td>...</td>\n",
       "      <td>-2.951172</td>\n",
       "      <td>113.0000</td>\n",
       "      <td>1.924805</td>\n",
       "      <td>209.625</td>\n",
       "      <td>50.0</td>\n",
       "      <td>5.359375</td>\n",
       "      <td>-0.388916</td>\n",
       "      <td>-1.629883</td>\n",
       "      <td>42.0</td>\n",
       "      <td>14.0</td>\n",
       "    </tr>\n",
       "    <tr>\n",
       "      <td>2424822</td>\n",
       "      <td>-0.287842</td>\n",
       "      <td>1.731445</td>\n",
       "      <td>83.3750</td>\n",
       "      <td>77.6875</td>\n",
       "      <td>972.50</td>\n",
       "      <td>263.5000</td>\n",
       "      <td>13.101562</td>\n",
       "      <td>8.703125</td>\n",
       "      <td>23.906250</td>\n",
       "      <td>-8.093750</td>\n",
       "      <td>...</td>\n",
       "      <td>-2.968750</td>\n",
       "      <td>128.0000</td>\n",
       "      <td>-1.472656</td>\n",
       "      <td>192.000</td>\n",
       "      <td>50.0</td>\n",
       "      <td>5.648438</td>\n",
       "      <td>-5.343750</td>\n",
       "      <td>0.613281</td>\n",
       "      <td>30.0</td>\n",
       "      <td>7.0</td>\n",
       "    </tr>\n",
       "    <tr>\n",
       "      <td>2771527</td>\n",
       "      <td>-0.228882</td>\n",
       "      <td>2.207031</td>\n",
       "      <td>90.5000</td>\n",
       "      <td>84.1875</td>\n",
       "      <td>1531.00</td>\n",
       "      <td>176.2500</td>\n",
       "      <td>-1.200195</td>\n",
       "      <td>4.398438</td>\n",
       "      <td>23.906250</td>\n",
       "      <td>0.924316</td>\n",
       "      <td>...</td>\n",
       "      <td>-6.554688</td>\n",
       "      <td>125.7500</td>\n",
       "      <td>0.977539</td>\n",
       "      <td>179.125</td>\n",
       "      <td>50.0</td>\n",
       "      <td>6.027344</td>\n",
       "      <td>0.514160</td>\n",
       "      <td>7.722656</td>\n",
       "      <td>51.0</td>\n",
       "      <td>5.0</td>\n",
       "    </tr>\n",
       "    <tr>\n",
       "      <td>2460694</td>\n",
       "      <td>-0.372559</td>\n",
       "      <td>1.829102</td>\n",
       "      <td>82.8750</td>\n",
       "      <td>75.8750</td>\n",
       "      <td>1878.00</td>\n",
       "      <td>235.3750</td>\n",
       "      <td>26.000000</td>\n",
       "      <td>7.500000</td>\n",
       "      <td>23.796875</td>\n",
       "      <td>-12.835938</td>\n",
       "      <td>...</td>\n",
       "      <td>-5.824219</td>\n",
       "      <td>131.2500</td>\n",
       "      <td>-1.413086</td>\n",
       "      <td>189.375</td>\n",
       "      <td>50.0</td>\n",
       "      <td>6.343750</td>\n",
       "      <td>-8.742188</td>\n",
       "      <td>6.027344</td>\n",
       "      <td>37.0</td>\n",
       "      <td>7.0</td>\n",
       "    </tr>\n",
       "    <tr>\n",
       "      <td>...</td>\n",
       "      <td>...</td>\n",
       "      <td>...</td>\n",
       "      <td>...</td>\n",
       "      <td>...</td>\n",
       "      <td>...</td>\n",
       "      <td>...</td>\n",
       "      <td>...</td>\n",
       "      <td>...</td>\n",
       "      <td>...</td>\n",
       "      <td>...</td>\n",
       "      <td>...</td>\n",
       "      <td>...</td>\n",
       "      <td>...</td>\n",
       "      <td>...</td>\n",
       "      <td>...</td>\n",
       "      <td>...</td>\n",
       "      <td>...</td>\n",
       "      <td>...</td>\n",
       "      <td>...</td>\n",
       "      <td>...</td>\n",
       "      <td>...</td>\n",
       "    </tr>\n",
       "    <tr>\n",
       "      <td>2230560</td>\n",
       "      <td>0.165161</td>\n",
       "      <td>2.306641</td>\n",
       "      <td>88.6875</td>\n",
       "      <td>80.6250</td>\n",
       "      <td>2306.00</td>\n",
       "      <td>229.1250</td>\n",
       "      <td>34.187500</td>\n",
       "      <td>5.898438</td>\n",
       "      <td>23.796875</td>\n",
       "      <td>-15.453125</td>\n",
       "      <td>...</td>\n",
       "      <td>-5.671875</td>\n",
       "      <td>110.6875</td>\n",
       "      <td>-1.997070</td>\n",
       "      <td>176.500</td>\n",
       "      <td>50.0</td>\n",
       "      <td>6.011719</td>\n",
       "      <td>-9.289062</td>\n",
       "      <td>8.046875</td>\n",
       "      <td>14.0</td>\n",
       "      <td>5.0</td>\n",
       "    </tr>\n",
       "    <tr>\n",
       "      <td>2361115</td>\n",
       "      <td>0.621094</td>\n",
       "      <td>0.986328</td>\n",
       "      <td>85.1250</td>\n",
       "      <td>78.1250</td>\n",
       "      <td>144.00</td>\n",
       "      <td>162.0000</td>\n",
       "      <td>-2.800781</td>\n",
       "      <td>8.500000</td>\n",
       "      <td>23.796875</td>\n",
       "      <td>0.379883</td>\n",
       "      <td>...</td>\n",
       "      <td>-6.371094</td>\n",
       "      <td>93.3125</td>\n",
       "      <td>-2.091797</td>\n",
       "      <td>212.250</td>\n",
       "      <td>50.0</td>\n",
       "      <td>6.218750</td>\n",
       "      <td>0.246826</td>\n",
       "      <td>0.757812</td>\n",
       "      <td>28.0</td>\n",
       "      <td>14.0</td>\n",
       "    </tr>\n",
       "    <tr>\n",
       "      <td>2390036</td>\n",
       "      <td>-0.189331</td>\n",
       "      <td>3.890625</td>\n",
       "      <td>81.3125</td>\n",
       "      <td>75.1875</td>\n",
       "      <td>211.75</td>\n",
       "      <td>107.6250</td>\n",
       "      <td>-3.300781</td>\n",
       "      <td>8.796875</td>\n",
       "      <td>23.906250</td>\n",
       "      <td>1.648438</td>\n",
       "      <td>...</td>\n",
       "      <td>2.218750</td>\n",
       "      <td>124.1875</td>\n",
       "      <td>-0.780762</td>\n",
       "      <td>133.625</td>\n",
       "      <td>50.0</td>\n",
       "      <td>5.808594</td>\n",
       "      <td>1.144531</td>\n",
       "      <td>0.363525</td>\n",
       "      <td>45.0</td>\n",
       "      <td>11.0</td>\n",
       "    </tr>\n",
       "    <tr>\n",
       "      <td>2663605</td>\n",
       "      <td>0.122192</td>\n",
       "      <td>2.552734</td>\n",
       "      <td>90.0000</td>\n",
       "      <td>83.3125</td>\n",
       "      <td>713.50</td>\n",
       "      <td>152.7500</td>\n",
       "      <td>-7.699219</td>\n",
       "      <td>6.199219</td>\n",
       "      <td>23.796875</td>\n",
       "      <td>2.955078</td>\n",
       "      <td>...</td>\n",
       "      <td>-1.743164</td>\n",
       "      <td>112.3125</td>\n",
       "      <td>-1.546875</td>\n",
       "      <td>169.875</td>\n",
       "      <td>50.0</td>\n",
       "      <td>5.183594</td>\n",
       "      <td>1.682617</td>\n",
       "      <td>3.263672</td>\n",
       "      <td>16.0</td>\n",
       "      <td>2.0</td>\n",
       "    </tr>\n",
       "    <tr>\n",
       "      <td>2402946</td>\n",
       "      <td>0.046326</td>\n",
       "      <td>1.958008</td>\n",
       "      <td>74.1250</td>\n",
       "      <td>68.6250</td>\n",
       "      <td>793.00</td>\n",
       "      <td>308.5000</td>\n",
       "      <td>8.296875</td>\n",
       "      <td>12.398438</td>\n",
       "      <td>23.906250</td>\n",
       "      <td>-4.613281</td>\n",
       "      <td>...</td>\n",
       "      <td>0.441650</td>\n",
       "      <td>115.2500</td>\n",
       "      <td>2.724609</td>\n",
       "      <td>185.875</td>\n",
       "      <td>50.0</td>\n",
       "      <td>5.695312</td>\n",
       "      <td>-3.904297</td>\n",
       "      <td>-3.099609</td>\n",
       "      <td>56.0</td>\n",
       "      <td>5.0</td>\n",
       "    </tr>\n",
       "  </tbody>\n",
       "</table>\n",
       "<p>199117 rows × 27 columns</p>\n",
       "</div>"
      ],
      "text/plain": [
       "               px        pz  start_speed  end_speed  spin_rate  spin_dir  \\\n",
       "2485809  0.291992  1.803711      85.6250    78.6250    1954.00  123.1875   \n",
       "2347463  0.104614  1.081055      82.8125    76.8750     298.50  346.5000   \n",
       "2424822 -0.287842  1.731445      83.3750    77.6875     972.50  263.5000   \n",
       "2771527 -0.228882  2.207031      90.5000    84.1875    1531.00  176.2500   \n",
       "2460694 -0.372559  1.829102      82.8750    75.8750    1878.00  235.3750   \n",
       "...           ...       ...          ...        ...        ...       ...   \n",
       "2230560  0.165161  2.306641      88.6875    80.6250    2306.00  229.1250   \n",
       "2361115  0.621094  0.986328      85.1250    78.1250     144.00  162.0000   \n",
       "2390036 -0.189331  3.890625      81.3125    75.1875     211.75  107.6250   \n",
       "2663605  0.122192  2.552734      90.0000    83.3125     713.50  152.7500   \n",
       "2402946  0.046326  1.958008      74.1250    68.6250     793.00  308.5000   \n",
       "\n",
       "         break_angle  break_length    break_y         ax  ...       vz0  \\\n",
       "2485809   -28.093750      6.898438  23.796875  14.023438  ... -4.242188   \n",
       "2347463     2.000000      9.601562  23.906250  -0.575684  ... -2.951172   \n",
       "2424822    13.101562      8.703125  23.906250  -8.093750  ... -2.968750   \n",
       "2771527    -1.200195      4.398438  23.906250   0.924316  ... -6.554688   \n",
       "2460694    26.000000      7.500000  23.796875 -12.835938  ... -5.824219   \n",
       "...              ...           ...        ...        ...  ...       ...   \n",
       "2230560    34.187500      5.898438  23.796875 -15.453125  ... -5.671875   \n",
       "2361115    -2.800781      8.500000  23.796875   0.379883  ... -6.371094   \n",
       "2390036    -3.300781      8.796875  23.906250   1.648438  ...  2.218750   \n",
       "2663605    -7.699219      6.199219  23.796875   2.955078  ... -1.743164   \n",
       "2402946     8.296875     12.398438  23.906250  -4.613281  ...  0.441650   \n",
       "\n",
       "                x        x0        y    y0        z0     pfx_x     pfx_z  \\\n",
       "2485809  105.8750  2.099609  190.125  50.0  5.425781  8.906250  5.832031   \n",
       "2347463  113.0000  1.924805  209.625  50.0  5.359375 -0.388916 -1.629883   \n",
       "2424822  128.0000 -1.472656  192.000  50.0  5.648438 -5.343750  0.613281   \n",
       "2771527  125.7500  0.977539  179.125  50.0  6.027344  0.514160  7.722656   \n",
       "2460694  131.2500 -1.413086  189.375  50.0  6.343750 -8.742188  6.027344   \n",
       "...           ...       ...      ...   ...       ...       ...       ...   \n",
       "2230560  110.6875 -1.997070  176.500  50.0  6.011719 -9.289062  8.046875   \n",
       "2361115   93.3125 -2.091797  212.250  50.0  6.218750  0.246826  0.757812   \n",
       "2390036  124.1875 -0.780762  133.625  50.0  5.808594  1.144531  0.363525   \n",
       "2663605  112.3125 -1.546875  169.875  50.0  5.183594  1.682617  3.263672   \n",
       "2402946  115.2500  2.724609  185.875  50.0  5.695312 -3.904297 -3.099609   \n",
       "\n",
       "         nasty  zone  \n",
       "2485809   51.0   9.0  \n",
       "2347463   42.0  14.0  \n",
       "2424822   30.0   7.0  \n",
       "2771527   51.0   5.0  \n",
       "2460694   37.0   7.0  \n",
       "...        ...   ...  \n",
       "2230560   14.0   5.0  \n",
       "2361115   28.0  14.0  \n",
       "2390036   45.0  11.0  \n",
       "2663605   16.0   2.0  \n",
       "2402946   56.0   5.0  \n",
       "\n",
       "[199117 rows x 27 columns]"
      ]
     },
     "execution_count": 45,
     "metadata": {},
     "output_type": "execute_result"
    }
   ],
   "source": [
    "reduce_mem_usage(X_train)"
   ]
  },
  {
   "cell_type": "markdown",
   "metadata": {},
   "source": [
    "# Vanilla Models"
   ]
  },
  {
   "cell_type": "markdown",
   "metadata": {},
   "source": [
    "### Logistic Regression"
   ]
  },
  {
   "cell_type": "code",
   "execution_count": 46,
   "metadata": {},
   "outputs": [
    {
     "name": "stderr",
     "output_type": "stream",
     "text": [
      "/Users/jefflindberg/opt/anaconda3/envs/learn-env/lib/python3.6/site-packages/sklearn/linear_model/logistic.py:432: FutureWarning: Default solver will be changed to 'lbfgs' in 0.22. Specify a solver to silence this warning.\n",
      "  FutureWarning)\n"
     ]
    },
    {
     "name": "stdout",
     "output_type": "stream",
     "text": [
      "CPU times: user 10.7 s, sys: 253 ms, total: 11 s\n",
      "Wall time: 11 s\n"
     ]
    }
   ],
   "source": [
    "%%time\n",
    "\n",
    "logreg = LogisticRegression()\n",
    "logreg.fit(X_train, y_train)\n",
    "y_hat_train_log = logreg.predict(X_train)"
   ]
  },
  {
   "cell_type": "code",
   "execution_count": 47,
   "metadata": {},
   "outputs": [
    {
     "name": "stdout",
     "output_type": "stream",
     "text": [
      "Accuracy: 0.9405676059804035\n",
      "Precision: 0.9524823799145178\n",
      "Recall: 0.9633624391640424\n",
      "F1: 0.9578915156777067\n"
     ]
    }
   ],
   "source": [
    "log_acc = accuracy_score(y_train, y_hat_train_log)\n",
    "log_pre = precision_score(y_train, y_hat_train_log)\n",
    "log_rec = recall_score(y_train, y_hat_train_log)\n",
    "log_f1 = f1_score(y_train, y_hat_train_log)\n",
    "\n",
    "print(f'Accuracy: {log_acc}')\n",
    "print(f'Precision: {log_pre}')\n",
    "print(f'Recall: {log_rec}')\n",
    "print(f'F1: {log_f1}')"
   ]
  },
  {
   "cell_type": "code",
   "execution_count": 52,
   "metadata": {
    "collapsed": true,
    "jupyter": {
     "outputs_hidden": true
    }
   },
   "outputs": [
    {
     "name": "stderr",
     "output_type": "stream",
     "text": [
      "/Users/jefflindberg/opt/anaconda3/envs/learn-env/lib/python3.6/site-packages/sklearn/linear_model/logistic.py:432: FutureWarning: Default solver will be changed to 'lbfgs' in 0.22. Specify a solver to silence this warning.\n",
      "  FutureWarning)\n",
      "/Users/jefflindberg/opt/anaconda3/envs/learn-env/lib/python3.6/site-packages/sklearn/linear_model/logistic.py:432: FutureWarning: Default solver will be changed to 'lbfgs' in 0.22. Specify a solver to silence this warning.\n",
      "  FutureWarning)\n",
      "/Users/jefflindberg/opt/anaconda3/envs/learn-env/lib/python3.6/site-packages/sklearn/linear_model/logistic.py:432: FutureWarning: Default solver will be changed to 'lbfgs' in 0.22. Specify a solver to silence this warning.\n",
      "  FutureWarning)\n",
      "/Users/jefflindberg/opt/anaconda3/envs/learn-env/lib/python3.6/site-packages/sklearn/linear_model/logistic.py:432: FutureWarning: Default solver will be changed to 'lbfgs' in 0.22. Specify a solver to silence this warning.\n",
      "  FutureWarning)\n",
      "/Users/jefflindberg/opt/anaconda3/envs/learn-env/lib/python3.6/site-packages/sklearn/linear_model/logistic.py:432: FutureWarning: Default solver will be changed to 'lbfgs' in 0.22. Specify a solver to silence this warning.\n",
      "  FutureWarning)\n"
     ]
    },
    {
     "name": "stdout",
     "output_type": "stream",
     "text": [
      "CV5:  0.9411401406174107\n"
     ]
    }
   ],
   "source": [
    "cv_5_results = np.mean(cross_val_score(logreg, X_train, y_train, cv=5))\n",
    "# cv_10_results = np.mean(cross_val_score(logreg, X_train, y_train, cv=10))\n",
    "# cv_15_results = np.mean(cross_val_score(logreg, X_train, y_train, cv=15))\n",
    "print('CV5: ', cv_5_results)\n",
    "# print('CV10: ', cv_10_results)\n",
    "# print('CV15: ', cv_15_results)"
   ]
  },
  {
   "cell_type": "markdown",
   "metadata": {},
   "source": [
    "### Gaussian Naive Bayes"
   ]
  },
  {
   "cell_type": "code",
   "execution_count": 53,
   "metadata": {},
   "outputs": [
    {
     "name": "stderr",
     "output_type": "stream",
     "text": [
      "/Users/jefflindberg/opt/anaconda3/envs/learn-env/lib/python3.6/site-packages/numpy/core/_methods.py:183: RuntimeWarning: overflow encountered in reduce\n",
      "  arrmean = umr_sum(arr, axis, dtype, keepdims=True)\n",
      "/Users/jefflindberg/opt/anaconda3/envs/learn-env/lib/python3.6/site-packages/numpy/core/_methods.py:199: RuntimeWarning: overflow encountered in reduce\n",
      "  ret = umr_sum(x, axis, dtype, out, keepdims)\n"
     ]
    },
    {
     "name": "stdout",
     "output_type": "stream",
     "text": [
      "CPU times: user 677 ms, sys: 76.6 ms, total: 753 ms\n",
      "Wall time: 766 ms\n"
     ]
    }
   ],
   "source": [
    "%%time\n",
    "\n",
    "gaussian = GaussianNB()\n",
    "gaussian.fit(X_train, y_train)\n",
    "y_hat_train_gnb = gaussian.predict(X_train)"
   ]
  },
  {
   "cell_type": "code",
   "execution_count": 54,
   "metadata": {},
   "outputs": [
    {
     "name": "stdout",
     "output_type": "stream",
     "text": [
      "Accuracy: 0.29830200334476714\n",
      "Precision: 0.0\n",
      "Recall: 0.0\n",
      "F1: 0.0\n"
     ]
    },
    {
     "name": "stderr",
     "output_type": "stream",
     "text": [
      "/Users/jefflindberg/opt/anaconda3/envs/learn-env/lib/python3.6/site-packages/sklearn/metrics/classification.py:1437: UndefinedMetricWarning: Precision is ill-defined and being set to 0.0 due to no predicted samples.\n",
      "  'precision', 'predicted', average, warn_for)\n",
      "/Users/jefflindberg/opt/anaconda3/envs/learn-env/lib/python3.6/site-packages/sklearn/metrics/classification.py:1437: UndefinedMetricWarning: F-score is ill-defined and being set to 0.0 due to no predicted samples.\n",
      "  'precision', 'predicted', average, warn_for)\n"
     ]
    }
   ],
   "source": [
    "gnb_acc = accuracy_score(y_train, y_hat_train_gnb)\n",
    "gnb_pre = precision_score(y_train, y_hat_train_gnb)\n",
    "gnb_rec = recall_score(y_train, y_hat_train_gnb)\n",
    "gnb_f1 = f1_score(y_train, y_hat_train_gnb)\n",
    "\n",
    "print(f'Accuracy: {gnb_acc}')\n",
    "print(f'Precision: {gnb_pre}')\n",
    "print(f'Recall: {gnb_rec}')\n",
    "print(f'F1: {gnb_f1}')"
   ]
  },
  {
   "cell_type": "code",
   "execution_count": 69,
   "metadata": {
    "collapsed": true,
    "jupyter": {
     "outputs_hidden": true
    }
   },
   "outputs": [
    {
     "name": "stderr",
     "output_type": "stream",
     "text": [
      "/Users/jefflindberg/opt/anaconda3/envs/learn-env/lib/python3.6/site-packages/numpy/core/_methods.py:183: RuntimeWarning: overflow encountered in reduce\n",
      "  arrmean = umr_sum(arr, axis, dtype, keepdims=True)\n",
      "/Users/jefflindberg/opt/anaconda3/envs/learn-env/lib/python3.6/site-packages/numpy/core/_methods.py:199: RuntimeWarning: overflow encountered in reduce\n",
      "  ret = umr_sum(x, axis, dtype, out, keepdims)\n",
      "/Users/jefflindberg/opt/anaconda3/envs/learn-env/lib/python3.6/site-packages/numpy/core/_methods.py:183: RuntimeWarning: overflow encountered in reduce\n",
      "  arrmean = umr_sum(arr, axis, dtype, keepdims=True)\n",
      "/Users/jefflindberg/opt/anaconda3/envs/learn-env/lib/python3.6/site-packages/numpy/core/_methods.py:199: RuntimeWarning: overflow encountered in reduce\n",
      "  ret = umr_sum(x, axis, dtype, out, keepdims)\n",
      "/Users/jefflindberg/opt/anaconda3/envs/learn-env/lib/python3.6/site-packages/numpy/core/_methods.py:183: RuntimeWarning: overflow encountered in reduce\n",
      "  arrmean = umr_sum(arr, axis, dtype, keepdims=True)\n",
      "/Users/jefflindberg/opt/anaconda3/envs/learn-env/lib/python3.6/site-packages/numpy/core/_methods.py:199: RuntimeWarning: overflow encountered in reduce\n",
      "  ret = umr_sum(x, axis, dtype, out, keepdims)\n",
      "/Users/jefflindberg/opt/anaconda3/envs/learn-env/lib/python3.6/site-packages/numpy/core/_methods.py:183: RuntimeWarning: overflow encountered in reduce\n",
      "  arrmean = umr_sum(arr, axis, dtype, keepdims=True)\n",
      "/Users/jefflindberg/opt/anaconda3/envs/learn-env/lib/python3.6/site-packages/numpy/core/_methods.py:199: RuntimeWarning: overflow encountered in reduce\n",
      "  ret = umr_sum(x, axis, dtype, out, keepdims)\n",
      "/Users/jefflindberg/opt/anaconda3/envs/learn-env/lib/python3.6/site-packages/numpy/core/_methods.py:183: RuntimeWarning: overflow encountered in reduce\n",
      "  arrmean = umr_sum(arr, axis, dtype, keepdims=True)\n",
      "/Users/jefflindberg/opt/anaconda3/envs/learn-env/lib/python3.6/site-packages/numpy/core/_methods.py:199: RuntimeWarning: overflow encountered in reduce\n",
      "  ret = umr_sum(x, axis, dtype, out, keepdims)\n"
     ]
    },
    {
     "name": "stdout",
     "output_type": "stream",
     "text": [
      "CV5:  0.29830200323857736\n"
     ]
    }
   ],
   "source": [
    "cv_5_results = np.mean(cross_val_score(gaussian, X_train, y_train, cv=5))\n",
    "# cv_10_results = np.mean(cross_val_score(logreg, X_train, y_train, cv=10))\n",
    "# cv_15_results = np.mean(cross_val_score(logreg, X_train, y_train, cv=15))\n",
    "print('CV5: ', cv_5_results)\n",
    "# print('CV10: ', cv_10_results)\n",
    "# print('CV15: ', cv_15_results)"
   ]
  },
  {
   "cell_type": "markdown",
   "metadata": {},
   "source": [
    "### Random Forest"
   ]
  },
  {
   "cell_type": "code",
   "execution_count": 55,
   "metadata": {},
   "outputs": [
    {
     "name": "stdout",
     "output_type": "stream",
     "text": [
      "CPU times: user 5.47 s, sys: 91.2 ms, total: 5.56 s\n",
      "Wall time: 5.62 s\n"
     ]
    }
   ],
   "source": [
    "%%time\n",
    "\n",
    "random_forest = RandomForestClassifier(n_estimators=5)\n",
    "random_forest.fit(X_train, y_train)\n",
    "y_hat_train_rf = random_forest.predict(X_train)"
   ]
  },
  {
   "cell_type": "code",
   "execution_count": 56,
   "metadata": {},
   "outputs": [
    {
     "name": "stdout",
     "output_type": "stream",
     "text": [
      "Accuracy: 0.9986289468001225\n",
      "Precision: 0.9988266857449473\n",
      "Recall: 0.9992198683080447\n",
      "F1: 0.9990232383405785\n"
     ]
    }
   ],
   "source": [
    "rf_acc = accuracy_score(y_train, y_hat_train_rf)\n",
    "rf_pre = precision_score(y_train, y_hat_train_rf)\n",
    "rf_rec = recall_score(y_train, y_hat_train_rf)\n",
    "rf_f1 = f1_score(y_train, y_hat_train_rf)\n",
    "\n",
    "print(f'Accuracy: {rf_acc}')\n",
    "print(f'Precision: {rf_pre}')\n",
    "print(f'Recall: {rf_rec}')\n",
    "print(f'F1: {rf_f1}')"
   ]
  },
  {
   "cell_type": "code",
   "execution_count": 60,
   "metadata": {},
   "outputs": [
    {
     "name": "stdout",
     "output_type": "stream",
     "text": [
      "CV5:  0.9902117821793336\n"
     ]
    }
   ],
   "source": [
    "cv_5_results = np.mean(cross_val_score(random_forest, X_train, y_train, cv=5))\n",
    "# cv_10_results = np.mean(cross_val_score(random_forest, X_train, y_train, cv=10))\n",
    "# cv_15_results = np.mean(cross_val_score(random_forest, X_train, y_train, cv=15))\n",
    "print('CV5: ', cv_5_results)\n",
    "# print('CV10: ', cv_10_results)\n",
    "# print('CV15: ', cv_15_results)"
   ]
  },
  {
   "cell_type": "markdown",
   "metadata": {},
   "source": [
    "### AdaBoosting"
   ]
  },
  {
   "cell_type": "code",
   "execution_count": 61,
   "metadata": {},
   "outputs": [
    {
     "name": "stdout",
     "output_type": "stream",
     "text": [
      "CPU times: user 31.1 s, sys: 1.42 s, total: 32.5 s\n",
      "Wall time: 32.7 s\n"
     ]
    }
   ],
   "source": [
    "%%time\n",
    "\n",
    "ada = AdaBoostClassifier()\n",
    "ada.fit(X_train, y_train)\n",
    "y_hat_train_ada = ada.predict(X_train)"
   ]
  },
  {
   "cell_type": "code",
   "execution_count": 62,
   "metadata": {},
   "outputs": [
    {
     "name": "stdout",
     "output_type": "stream",
     "text": [
      "Accuracy: 0.9453386702290613\n",
      "Precision: 0.9604772184654096\n",
      "Recall: 0.9616733466933868\n",
      "F1: 0.961074910412211\n"
     ]
    }
   ],
   "source": [
    "ada_acc = accuracy_score(y_train, y_hat_train_ada)\n",
    "ada_pre = precision_score(y_train, y_hat_train_ada)\n",
    "ada_rec = recall_score(y_train, y_hat_train_ada)\n",
    "ada_f1 = f1_score(y_train, y_hat_train_ada)\n",
    "\n",
    "print(f'Accuracy: {ada_acc}')\n",
    "print(f'Precision: {ada_pre}')\n",
    "print(f'Recall: {ada_rec}')\n",
    "print(f'F1: {ada_f1}')"
   ]
  },
  {
   "cell_type": "code",
   "execution_count": 66,
   "metadata": {},
   "outputs": [
    {
     "name": "stdout",
     "output_type": "stream",
     "text": [
      "CV5:  0.9447761869323182\n"
     ]
    }
   ],
   "source": [
    "cv_5_results = np.mean(cross_val_score(ada, X_train, y_train, cv=5))\n",
    "# cv_10_results = np.mean(cross_val_score(logreg, X_train, y_train, cv=10))\n",
    "# cv_15_results = np.mean(cross_val_score(logreg, X_train, y_train, cv=15))\n",
    "print('CV5: ', cv_5_results)\n",
    "# print('CV10: ', cv_10_results)\n",
    "# print('CV15: ', cv_15_results)"
   ]
  },
  {
   "cell_type": "markdown",
   "metadata": {},
   "source": [
    "### XG Boost"
   ]
  },
  {
   "cell_type": "code",
   "execution_count": 64,
   "metadata": {},
   "outputs": [
    {
     "name": "stdout",
     "output_type": "stream",
     "text": [
      "CPU times: user 5 µs, sys: 1e+03 ns, total: 6 µs\n",
      "Wall time: 10 µs\n"
     ]
    }
   ],
   "source": [
    "%time\n",
    "\n",
    "xgb = xgb.XGBClassifier()\n",
    "xgb.fit(X_train, y_train)\n",
    "y_hat_train_xgb = xgb.predict(X_train)"
   ]
  },
  {
   "cell_type": "code",
   "execution_count": 65,
   "metadata": {},
   "outputs": [
    {
     "name": "stdout",
     "output_type": "stream",
     "text": [
      "Accuracy: 0.9895639247276726\n",
      "Precision: 0.9902688532064342\n",
      "Recall: 0.9949040939020899\n",
      "F1: 0.9925810620720187\n"
     ]
    }
   ],
   "source": [
    "xgb_acc = accuracy_score(y_train, y_hat_train_xgb)\n",
    "xgb_pre = precision_score(y_train, y_hat_train_xgb)\n",
    "xgb_rec = recall_score(y_train, y_hat_train_xgb)\n",
    "xgb_f1 = f1_score(y_train, y_hat_train_xgb)\n",
    "\n",
    "print(f'Accuracy: {xgb_acc}')\n",
    "print(f'Precision: {xgb_pre}')\n",
    "print(f'Recall: {xgb_rec}')\n",
    "print(f'F1: {xgb_f1}')"
   ]
  },
  {
   "cell_type": "code",
   "execution_count": 67,
   "metadata": {},
   "outputs": [
    {
     "name": "stdout",
     "output_type": "stream",
     "text": [
      "CV5:  0.9889160610429959\n"
     ]
    }
   ],
   "source": [
    "cv_5_results = np.mean(cross_val_score(xgb, X_train, y_train, cv=5))\n",
    "# cv_10_results = np.mean(cross_val_score(logreg, X_train, y_train, cv=10))\n",
    "# cv_15_results = np.mean(cross_val_score(logreg, X_train, y_train, cv=15))\n",
    "print('CV5: ', cv_5_results)\n",
    "# print('CV10: ', cv_10_results)\n",
    "# print('CV15: ', cv_15_results)"
   ]
  },
  {
   "cell_type": "markdown",
   "metadata": {},
   "source": [
    "### K-Nearest Neighbors"
   ]
  },
  {
   "cell_type": "code",
   "execution_count": 72,
   "metadata": {},
   "outputs": [
    {
     "name": "stdout",
     "output_type": "stream",
     "text": [
      "CPU times: user 4 µs, sys: 0 ns, total: 4 µs\n",
      "Wall time: 6.91 µs\n"
     ]
    }
   ],
   "source": [
    "%time\n",
    "\n",
    "knn = KNeighborsClassifier()\n",
    "knn.fit(X_train, y_train)\n",
    "y_hat_train_knn = knn.predict(X_train)"
   ]
  },
  {
   "cell_type": "code",
   "execution_count": 73,
   "metadata": {},
   "outputs": [
    {
     "name": "stdout",
     "output_type": "stream",
     "text": [
      "Accuracy: 0.9719662309094653\n",
      "Precision: 0.978790691033695\n",
      "Recall: 0.981312625250501\n",
      "F1: 0.9800500357398141\n"
     ]
    }
   ],
   "source": [
    "knn_acc = accuracy_score(y_train, y_hat_train_knn)\n",
    "knn_pre = precision_score(y_train, y_hat_train_knn)\n",
    "knn_rec = recall_score(y_train, y_hat_train_knn)\n",
    "knn_f1 = f1_score(y_train, y_hat_train_knn)\n",
    "\n",
    "print(f'Accuracy: {knn_acc}')\n",
    "print(f'Precision: {knn_pre}')\n",
    "print(f'Recall: {knn_rec}')\n",
    "print(f'F1: {knn_f1}')"
   ]
  },
  {
   "cell_type": "code",
   "execution_count": 74,
   "metadata": {},
   "outputs": [
    {
     "name": "stdout",
     "output_type": "stream",
     "text": [
      "CV5:  0.9595212884914501\n"
     ]
    }
   ],
   "source": [
    "cv_5_results = np.mean(cross_val_score(knn, X_train, y_train, cv=5))\n",
    "# cv_10_results = np.mean(cross_val_score(logreg, X_train, y_train, cv=10))\n",
    "# cv_15_results = np.mean(cross_val_score(logreg, X_train, y_train, cv=15))\n",
    "print('CV5: ', cv_5_results)\n",
    "# print('CV10: ', cv_10_results)\n",
    "# print('CV15: ', cv_15_results)"
   ]
  },
  {
   "cell_type": "markdown",
   "metadata": {},
   "source": [
    "### Compare Vanilla Models"
   ]
  },
  {
   "cell_type": "code",
   "execution_count": 77,
   "metadata": {},
   "outputs": [
    {
     "data": {
      "text/html": [
       "<div>\n",
       "<style scoped>\n",
       "    .dataframe tbody tr th:only-of-type {\n",
       "        vertical-align: middle;\n",
       "    }\n",
       "\n",
       "    .dataframe tbody tr th {\n",
       "        vertical-align: top;\n",
       "    }\n",
       "\n",
       "    .dataframe thead th {\n",
       "        text-align: right;\n",
       "    }\n",
       "</style>\n",
       "<table border=\"1\" class=\"dataframe\">\n",
       "  <thead>\n",
       "    <tr style=\"text-align: right;\">\n",
       "      <th></th>\n",
       "      <th>Model</th>\n",
       "      <th>Score</th>\n",
       "    </tr>\n",
       "  </thead>\n",
       "  <tbody>\n",
       "    <tr>\n",
       "      <td>2</td>\n",
       "      <td>Random Forest</td>\n",
       "      <td>0.999023</td>\n",
       "    </tr>\n",
       "    <tr>\n",
       "      <td>4</td>\n",
       "      <td>XG Boost</td>\n",
       "      <td>0.992581</td>\n",
       "    </tr>\n",
       "    <tr>\n",
       "      <td>5</td>\n",
       "      <td>KNN</td>\n",
       "      <td>0.980050</td>\n",
       "    </tr>\n",
       "    <tr>\n",
       "      <td>3</td>\n",
       "      <td>AdaBoost</td>\n",
       "      <td>0.961075</td>\n",
       "    </tr>\n",
       "    <tr>\n",
       "      <td>0</td>\n",
       "      <td>Logistic Regression</td>\n",
       "      <td>0.957892</td>\n",
       "    </tr>\n",
       "    <tr>\n",
       "      <td>1</td>\n",
       "      <td>Naive Bayes</td>\n",
       "      <td>0.000000</td>\n",
       "    </tr>\n",
       "  </tbody>\n",
       "</table>\n",
       "</div>"
      ],
      "text/plain": [
       "                 Model     Score\n",
       "2        Random Forest  0.999023\n",
       "4             XG Boost  0.992581\n",
       "5                  KNN  0.980050\n",
       "3             AdaBoost  0.961075\n",
       "0  Logistic Regression  0.957892\n",
       "1          Naive Bayes  0.000000"
      ]
     },
     "execution_count": 77,
     "metadata": {},
     "output_type": "execute_result"
    }
   ],
   "source": [
    "models = pd.DataFrame({\n",
    "    'Model': ['Logistic Regression', 'Naive Bayes', 'Random Forest', \n",
    "              'AdaBoost', 'XG Boost', 'KNN'],\n",
    "    'Score': [log_f1, gnb_f1, rf_f1, ada_f1, \n",
    "             xgb_f1, knn_f1]})\n",
    "models.sort_values(by='Score', ascending=False)"
   ]
  },
  {
   "cell_type": "markdown",
   "metadata": {},
   "source": [
    "## Hyperparameter Tuning"
   ]
  },
  {
   "cell_type": "markdown",
   "metadata": {},
   "source": [
    "### Validation Set"
   ]
  },
  {
   "cell_type": "code",
   "execution_count": null,
   "metadata": {},
   "outputs": [],
   "source": []
  }
 ],
 "metadata": {
  "kernelspec": {
   "display_name": "Python 3",
   "language": "python",
   "name": "python3"
  },
  "language_info": {
   "codemirror_mode": {
    "name": "ipython",
    "version": 3
   },
   "file_extension": ".py",
   "mimetype": "text/x-python",
   "name": "python",
   "nbconvert_exporter": "python",
   "pygments_lexer": "ipython3",
   "version": "3.6.9"
  }
 },
 "nbformat": 4,
 "nbformat_minor": 4
}
